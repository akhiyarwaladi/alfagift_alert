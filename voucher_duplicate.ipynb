{
 "cells": [
  {
   "cell_type": "code",
   "execution_count": 18,
   "metadata": {},
   "outputs": [],
   "source": [
    "import pandas as pd\n",
    "pd.options.mode.chained_assignment = None\n",
    "import psycopg2\n",
    "\n",
    "from datetime import datetime, timedelta\n",
    "\n",
    "import os\n",
    "import sys\n",
    "import shutil\n",
    "from os.path import basename\n",
    "from pathlib import Path\n",
    "\n",
    "\n",
    "\n",
    "import lib_3d\n",
    "import telegram\n",
    "import pandas as pd\n",
    "from telegram import ParseMode\n",
    "\n",
    "curdir = os.getcwd()\n",
    "otd = os.path.join(curdir)\n",
    "\n",
    "try:\n",
    "    cpo = psycopg2.connect(host=\"35.240.137.10\",\n",
    "                            database=\"prd_order\",\n",
    "                            user=\"akhiyar_waladi\",\n",
    "                            password=\"nd4n6fk9\")\n",
    "except Exception as error:\n",
    "    print(\"Error while connecting: \", error)\n",
    "    sys.exit()"
   ]
  },
  {
   "cell_type": "code",
   "execution_count": 19,
   "metadata": {},
   "outputs": [
    {
     "name": "stdout",
     "output_type": "stream",
     "text": [
      "check time 2021-06-09 08:33 2021-06-09 12:33\n",
      "past time 2021-05-10 00:00 2021-06-09 08:33\n"
     ]
    }
   ],
   "source": [
    "# define now date\n",
    "t1 = datetime.now()\n",
    "t1_now = datetime.strftime(t1, '%Y-%m-%d %H:%M')\n",
    "# define lower bound of window time that we want to check\n",
    "t2 = (t1- timedelta(minutes=240))\n",
    "t2_window = datetime.strftime(t2,'%Y-%m-%d %H:%M')\n",
    "# define 7 week before lower bound of window that we suspect\n",
    "t2_frame = datetime.strftime((t2.date() - timedelta(days=30)),'%Y-%m-%d %H:%M')\n",
    "\n",
    "print(\"check time {} {}\".format(t2_window, t1_now))\n",
    "print(\"past time {} {}\".format(t2_frame, t2_window))\n",
    "\n",
    "\n",
    "# getting all order with specific of time bound\n",
    "main = \"\"\"\n",
    "    select \n",
    "        tbto_voucher_code, tbto_ponta_id, tbto_no, tbto_voucher_usage, tbto_create_date\n",
    "    from \n",
    "        tb_transaction_order tto \n",
    "    where \n",
    "        tbto_create_date between %s and %s\n",
    "        and tbto_status not in ('18','10','11')\n",
    "        and tbto_voucher_code not in ('')\n",
    "\"\"\"\n",
    "\n",
    "df_window = pd.read_sql_query(main,cpo,params=[t2_window,t1_now])\n",
    "df_frame = pd.read_sql_query(main,cpo,params=[t2_frame,t2_window])"
   ]
  },
  {
   "cell_type": "code",
   "execution_count": 20,
   "metadata": {},
   "outputs": [],
   "source": [
    "df_window_g = df_window.groupby('tbto_voucher_code').agg({'tbto_no':'count'}).reset_index()\n",
    "same_voucher_window = list(df_window_g[df_window_g['tbto_no'] > 1]['tbto_voucher_code'])\n",
    "same_voucher_frame = list(set(df_window['tbto_voucher_code']) & set(df_frame['tbto_voucher_code']))\n",
    "\n",
    "same_voucher = same_voucher_window + same_voucher_frame\n",
    "df = pd.concat([df_window, df_frame])\n",
    "\n",
    "# groupby voucher code and count order number that used, if same voucher empty this would not affect\n",
    "dfa = df[df['tbto_voucher_code'].isin(same_voucher)].groupby('tbto_voucher_code').agg({'tbto_no':'count'})\n",
    "dfa = dfa.rename(columns = {'tbto_no':'voucher_usage'}).reset_index()\n",
    "dfa = dfa[dfa['voucher_usage']>=2]"
   ]
  },
  {
   "cell_type": "code",
   "execution_count": 21,
   "metadata": {},
   "outputs": [],
   "source": [
    "path_hist = '/home/server/gli-data-science/akhiyar/alfagift_alert/hist_voucher.csv'"
   ]
  },
  {
   "cell_type": "code",
   "execution_count": 22,
   "metadata": {},
   "outputs": [],
   "source": [
    "dfa_hist = pd.read_csv(path_hist)\n",
    "dfa_hist['date'] = pd.to_datetime(dfa_hist['date'])"
   ]
  },
  {
   "cell_type": "code",
   "execution_count": 23,
   "metadata": {},
   "outputs": [],
   "source": [
    "dfa = dfa[~dfa['tbto_voucher_code'].isin(dfa_hist['tbto_voucher_code'])]"
   ]
  },
  {
   "cell_type": "code",
   "execution_count": 24,
   "metadata": {},
   "outputs": [],
   "source": [
    "dfa['date'] = t1"
   ]
  },
  {
   "cell_type": "code",
   "execution_count": 25,
   "metadata": {},
   "outputs": [],
   "source": [
    "dfa_hist = pd.concat([dfa_hist, dfa])"
   ]
  },
  {
   "cell_type": "code",
   "execution_count": 26,
   "metadata": {},
   "outputs": [],
   "source": [
    "dfa_hist = dfa_hist[dfa_hist['date'] > t1 - timedelta(days=2)]"
   ]
  },
  {
   "cell_type": "code",
   "execution_count": 27,
   "metadata": {},
   "outputs": [],
   "source": [
    "dfa_hist.to_csv(path_hist, index=False)"
   ]
  },
  {
   "cell_type": "code",
   "execution_count": null,
   "metadata": {},
   "outputs": [],
   "source": []
  },
  {
   "cell_type": "code",
   "execution_count": 28,
   "metadata": {},
   "outputs": [],
   "source": [
    "dfa = dfa.drop('date', 1)"
   ]
  },
  {
   "cell_type": "code",
   "execution_count": 30,
   "metadata": {},
   "outputs": [],
   "source": [
    "if len(dfa) > 0:\n",
    "    \n",
    "    # mechanism to send email\n",
    "    lib = lib_3d.desan()\n",
    "    preceiver = \"product.operation@gli.id, william.d.sinolungan@gli.id, \\\n",
    "                akhiyar.waladi@gli.id\"\n",
    "\n",
    "#     preceiver = \"akhiyar.waladi@gli.id\"\n",
    "    print(preceiver)\n",
    "\n",
    "    email_date = t1.strftime('%d%b%y %H:%M')\n",
    "    psubject = 'Alfagift Alert [{}]'.format(email_date)\n",
    "\n",
    "    x=dfa.to_html()\n",
    "    pbody = \"\"\"Time between {} and {} there is an abnormal transaction, please check below <br><hr><br> Using vouchers that have been used before {}\"\"\".format(t2_window,t1_now,x)\n",
    "    lib.kirim_email_noreply(preceiver, psubject, pbody, \"\")\n",
    "\n",
    "\n",
    "    \n",
    "    # telegram send message\n",
    "    bot = telegram.Bot(token='1539145464:AAGEJ4OjCNTGhAOYi2bRsqkiSVI2Ntt4ndo')\n",
    "\n",
    "    x_m = dfa.rename(columns={'voucher_usage':'usage'}).to_markdown(index=False, tablefmt=\"grid\")\n",
    "    head_chat = '{} --> {} \\nUsing vouchers that have been used before'.format(t2_window,t1_now)\n",
    "\n",
    "    bot.send_message(chat_id='@alfagift_alert', text=\"{}\\n\\n<pre>{}</pre>\".format(head_chat, x_m),\\\n",
    "                     parse_mode=ParseMode.HTML)"
   ]
  },
  {
   "cell_type": "code",
   "execution_count": 31,
   "metadata": {},
   "outputs": [],
   "source": [
    "cpo.close()"
   ]
  },
  {
   "cell_type": "code",
   "execution_count": null,
   "metadata": {},
   "outputs": [],
   "source": []
  },
  {
   "cell_type": "code",
   "execution_count": null,
   "metadata": {},
   "outputs": [],
   "source": []
  }
 ],
 "metadata": {
  "kernelspec": {
   "display_name": "Python 3",
   "language": "python",
   "name": "python3"
  },
  "language_info": {
   "codemirror_mode": {
    "name": "ipython",
    "version": 3
   },
   "file_extension": ".py",
   "mimetype": "text/x-python",
   "name": "python",
   "nbconvert_exporter": "python",
   "pygments_lexer": "ipython3",
   "version": "3.8.5"
  }
 },
 "nbformat": 4,
 "nbformat_minor": 4
}
