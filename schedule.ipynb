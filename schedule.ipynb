{
 "cells": [
  {
   "cell_type": "code",
   "execution_count": 1,
   "metadata": {},
   "outputs": [
    {
     "name": "stdout",
     "output_type": "stream",
     "text": [
      "Error while connecting to PostgreSQL name 'record' is not defined\n"
     ]
    }
   ],
   "source": [
    "import psycopg2\n",
    "import pandas as pd\n",
    "from datetime import datetime, timedelta\n",
    "\n",
    "pd.set_option('display.max_rows', None)\n",
    "pd.set_option('display.max_columns', None)\n",
    "pd.set_option('display.width', 1000)\n",
    "pd.set_option('display.max_colwidth', None)\n",
    "\n",
    "try:\n",
    "    connection = psycopg2.connect(\n",
    "        host=\"35.187.250.81\",\n",
    "        database=\"prd_order\",\n",
    "        user=\"akhiyar_waladi\",\n",
    "        password=\"nd4n6fk9\")\n",
    "\n",
    "    \n",
    "    print(\"You are connected to -- \\n{}\".format(record))\n",
    "\n",
    "except (Exception, psycopg2.Error) as error :\n",
    "    print(\"Error while connecting to PostgreSQL\", error)"
   ]
  },
  {
   "cell_type": "code",
   "execution_count": null,
   "metadata": {},
   "outputs": [],
   "source": []
  },
  {
   "cell_type": "code",
   "execution_count": 2,
   "metadata": {},
   "outputs": [
    {
     "name": "stdout",
     "output_type": "stream",
     "text": [
      "2021-05-26 2021-05-27\n"
     ]
    }
   ],
   "source": [
    "now_date = datetime.now().date() - timedelta(days=1)\n",
    "to_date = now_date + timedelta(days=1)\n",
    "\n",
    "now_str = now_date.strftime('%Y-%m-%d')\n",
    "to_str = to_date.strftime('%Y-%m-%d')\n",
    "print(now_str, to_str)"
   ]
  },
  {
   "cell_type": "code",
   "execution_count": null,
   "metadata": {},
   "outputs": [],
   "source": []
  },
  {
   "cell_type": "code",
   "execution_count": 3,
   "metadata": {},
   "outputs": [],
   "source": [
    "b1, b2, b3, b4 = False, False, False, False\n",
    "\n",
    "if (datetime.now().hour) in [1, 2, 3, 4, 5, 6]:\n",
    "    b1 = True\n",
    "if (datetime.now().minute) % 30 == 0:\n",
    "    b3, b4 = True\n",
    "if (datetime.now().hour) == 7:\n",
    "    b2 = True"
   ]
  },
  {
   "cell_type": "code",
   "execution_count": 4,
   "metadata": {},
   "outputs": [],
   "source": [
    "if b1:\n",
    "    q_1 = '''\n",
    "    select count(tbto_no)\n",
    "    from tb_transaction_order tto \n",
    "    where tto.tbto_create_date between now() - interval '1 hours' and now()\n",
    "    '''\n",
    "\n",
    "    count_order = pd.read_sql(q_1, connection)['count'][0]"
   ]
  },
  {
   "cell_type": "code",
   "execution_count": null,
   "metadata": {},
   "outputs": [],
   "source": []
  },
  {
   "cell_type": "code",
   "execution_count": null,
   "metadata": {},
   "outputs": [],
   "source": []
  },
  {
   "cell_type": "code",
   "execution_count": 5,
   "metadata": {},
   "outputs": [],
   "source": [
    "if b2:\n",
    "    q_2 = '''\n",
    "    -- check voucher amount usage and voucher code count in one day interval\n",
    "    select \n",
    "        tbto_ponta_id, sum(tbto_voucher_usage) as sum_voucher_usage, count(distinct(tbto_voucher_code))\n",
    "    from \n",
    "        tb_transaction_order tto \n",
    "    where \n",
    "        tto.tbto_create_date between '2021-05-04' and '2021-05-05' \n",
    "        and tbto_ponta_id is not null\n",
    "        and tbto_voucher_usage is not null\n",
    "    group by tbto_ponta_id\n",
    "    order by sum_voucher_usage desc\n",
    "    '''\n",
    "    voucher_check = pd.read_sql(q_2, connection)"
   ]
  },
  {
   "cell_type": "code",
   "execution_count": null,
   "metadata": {},
   "outputs": [],
   "source": []
  },
  {
   "cell_type": "code",
   "execution_count": 6,
   "metadata": {},
   "outputs": [],
   "source": [
    "if b3:\n",
    "    q_3 = '''\n",
    "    -- check trx with ponta redeemed and issued\n",
    "    select \n",
    "        tto.tbto_ponta_id, sum(ttp.tbtp_ponta_amount) as sum_ponta_redeem, count(tto.tbto_id) as count_order_id\n",
    "    from \n",
    "        tb_transaction_order tto \n",
    "        left join tb_transaction_payment ttp on tto.tbto_id = ttp.tbto_id\n",
    "    where \n",
    "        tto.tbto_create_date between (now() - interval '30 minutes') and now()\n",
    "        and ttp.tbmp_id = 23\n",
    "    group by tto.tbto_ponta_id \n",
    "    order by sum_ponta_redeem desc\n",
    "    '''\n",
    "    point_redeem = pd.read_sql(q_3, connection)"
   ]
  },
  {
   "cell_type": "code",
   "execution_count": null,
   "metadata": {},
   "outputs": [],
   "source": []
  },
  {
   "cell_type": "code",
   "execution_count": 7,
   "metadata": {},
   "outputs": [],
   "source": [
    "if b4:\n",
    "    q_4 = '''\n",
    "    -- check trx with ponta redeem and issued\n",
    "    select \n",
    "        tto.tbto_ponta_id, sum(tto.tbto_ponta_point) as sum_ponta_issued, count(tto.tbto_id) as count_order_id\n",
    "    from \n",
    "        tb_transaction_order tto \n",
    "    where \n",
    "        tto.tbto_create_date between (now() - interval '30 minutes') and now()\n",
    "        and tbto_ponta_id is not null\n",
    "    group by tto.tbto_ponta_id \n",
    "    order by sum_ponta_issued desc\n",
    "    '''\n",
    "    point_issue = pd.read_sql(q_4, connection)"
   ]
  }
 ],
 "metadata": {
  "kernelspec": {
   "display_name": "Python 3",
   "language": "python",
   "name": "python3"
  },
  "language_info": {
   "codemirror_mode": {
    "name": "ipython",
    "version": 3
   },
   "file_extension": ".py",
   "mimetype": "text/x-python",
   "name": "python",
   "nbconvert_exporter": "python",
   "pygments_lexer": "ipython3",
   "version": "3.8.5"
  }
 },
 "nbformat": 4,
 "nbformat_minor": 4
}
