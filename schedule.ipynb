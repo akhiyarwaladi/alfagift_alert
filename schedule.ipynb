{
 "cells": [
  {
   "cell_type": "code",
   "execution_count": 1,
   "metadata": {},
   "outputs": [],
   "source": [
    "import psycopg2\n",
    "import pandas as pd\n",
    "pd.options.mode.chained_assignment = None \n",
    "import lib_3d\n",
    "from datetime import datetime, timedelta\n",
    "\n",
    "import telegram\n",
    "from telegram import ParseMode\n",
    "\n",
    "pd.set_option('display.max_rows', None)\n",
    "pd.set_option('display.max_columns', None)\n",
    "pd.set_option('display.width', 1000)\n",
    "pd.set_option('display.max_colwidth', None)\n",
    "\n",
    "try:\n",
    "    connection = psycopg2.connect(\n",
    "        host=\"35.187.250.81\",\n",
    "        database=\"prd_order\",\n",
    "        user=\"akhiyar_waladi\",\n",
    "        password=\"nd4n6fk9\")\n",
    "\n",
    "except (Exception, psycopg2.Error) as error :\n",
    "    print(\"Error while connecting to PostgreSQL\", error)"
   ]
  },
  {
   "cell_type": "code",
   "execution_count": null,
   "metadata": {},
   "outputs": [],
   "source": []
  },
  {
   "cell_type": "code",
   "execution_count": 2,
   "metadata": {},
   "outputs": [
    {
     "name": "stdout",
     "output_type": "stream",
     "text": [
      "2021-06-10 08:42:59.448501\n"
     ]
    }
   ],
   "source": [
    "print(datetime.now())"
   ]
  },
  {
   "cell_type": "code",
   "execution_count": 3,
   "metadata": {},
   "outputs": [],
   "source": [
    "const_out_order = 600\n",
    "const_out_voucher_amount = 2000000\n",
    "const_out_voucher_count = 20\n",
    "const_out_point_issue = 100000\n",
    "const_out_point_redeem = 100000\n",
    "\n",
    "\n",
    "b1, b2, b3, b4 = False, False, False, False\n",
    "m1, m2, m3, m4 = False, False, False, False\n",
    "\n",
    "if (datetime.now().hour) in [1, 2, 3, 4]:\n",
    "    b1 = True\n",
    "if (datetime.now().minute) % 30 == 0:\n",
    "    b3, b4 = True, True\n",
    "if ((datetime.now().hour) == 13) and ((datetime.now().minute)) == 0:\n",
    "    b2 = True\n",
    "\n",
    "# b1, b2, b3, b4 = True, True, True, True\n",
    "\n",
    "# const_out_order = 500\n",
    "# const_out_voucher_amount = 300000\n",
    "# const_out_voucher_count = 10\n",
    "# const_out_point_issue = 2000\n",
    "# const_out_point_redeem = 20000"
   ]
  },
  {
   "cell_type": "code",
   "execution_count": 4,
   "metadata": {},
   "outputs": [
    {
     "name": "stdout",
     "output_type": "stream",
     "text": [
      "False False False False\n"
     ]
    }
   ],
   "source": [
    "print(b1, b2, b3, b4)"
   ]
  },
  {
   "cell_type": "code",
   "execution_count": 5,
   "metadata": {},
   "outputs": [],
   "source": [
    "dr_order = (datetime.now()).replace(second=0)\n",
    "dr_voucher = datetime.now().date()\n",
    "dr_redeem_issue = (datetime.now()).replace(second=0)"
   ]
  },
  {
   "cell_type": "code",
   "execution_count": null,
   "metadata": {},
   "outputs": [],
   "source": []
  },
  {
   "cell_type": "code",
   "execution_count": 6,
   "metadata": {},
   "outputs": [],
   "source": [
    "out_count_order = ''\n",
    "if b1:\n",
    "    q_1 = '''\n",
    "        select count(tbto_no)\n",
    "        from tb_transaction_order tto \n",
    "        where tto.tbto_create_date between '{shift_str}' and '{now_str}'\n",
    "        and tbto_status is not null\n",
    "        and tbto_status in ('12','14','15')\n",
    "    '''.format(shift_str = (dr_order-timedelta(hours=1)), now_str = dr_order)\n",
    "\n",
    "    count_order = pd.read_sql(q_1, connection)\n",
    "    \n",
    "    out_count_order = count_order[count_order['count'] > const_out_order]\n",
    "    \n",
    "    if len(out_count_order) > 0:\n",
    "        out_count_order['count'] = out_count_order['count']\\\n",
    "                    .astype(int).apply(lambda x : \"{:,}\".format(x))\n",
    "        m1 = True"
   ]
  },
  {
   "cell_type": "code",
   "execution_count": null,
   "metadata": {},
   "outputs": [],
   "source": []
  },
  {
   "cell_type": "code",
   "execution_count": null,
   "metadata": {},
   "outputs": [],
   "source": [
    "\n"
   ]
  },
  {
   "cell_type": "code",
   "execution_count": 7,
   "metadata": {},
   "outputs": [],
   "source": [
    "out_voucher_check = ''\n",
    "out_voucher_check_2 = ''\n",
    "if b2:\n",
    "    q_2 = '''\n",
    "    -- check voucher amount usage and voucher code count in one day interval\n",
    "    select \n",
    "        tbto_ponta_id, sum(tbto_voucher_usage) as sum_voucher_usage\n",
    "    from \n",
    "        tb_transaction_order tto \n",
    "    where \n",
    "        tto.tbto_create_date between '{shift_str}' and '{now_str}' \n",
    "        and tbto_ponta_id is not null\n",
    "        and tbto_voucher_usage is not null\n",
    "        and tto.tbto_status not in ('18','10','11')\n",
    "        and tbto_voucher_code not in ('')\n",
    "        and tbto_status is not null\n",
    "    group by tbto_ponta_id\n",
    "    order by sum_voucher_usage desc\n",
    "\n",
    "    '''.format(shift_str=str(dr_voucher-timedelta(days=1)), now_str=str(dr_voucher))\n",
    "    \n",
    "    voucher_check = pd.read_sql(q_2, connection)\n",
    "    \n",
    "    \n",
    "    q_5 = '''\n",
    "    -- check voucher amount usage and voucher code count in one day interval\n",
    "    select \n",
    "        tbto_ponta_id, count(distinct(tbto_voucher_code)) as count_unique_voucher\n",
    "    from \n",
    "        tb_transaction_order tto \n",
    "    where \n",
    "        tto.tbto_create_date between '{shift_str}' and '{now_str}' \n",
    "        and tbto_ponta_id is not null\n",
    "        and tbto_voucher_usage is not null\n",
    "        and tto.tbto_status not in ('18','10','11')\n",
    "        and tbto_voucher_code not in ('')\n",
    "        and tbto_status is not null\n",
    "    group by tbto_ponta_id\n",
    "    order by count_unique_voucher desc\n",
    "\n",
    "    '''.format(shift_str=str(dr_voucher-timedelta(days=1)), now_str=str(dr_voucher))\n",
    "    \n",
    "    voucher_check_2 = pd.read_sql(q_5, connection)\n",
    "    \n",
    "    out_voucher_check = voucher_check[voucher_check['sum_voucher_usage'] >= const_out_voucher_amount]\n",
    "    out_voucher_check_2 = voucher_check_2[voucher_check_2['count_unique_voucher'] >= const_out_voucher_count]\n",
    "    \n",
    "    \n",
    "    if (len(out_voucher_check) > 0) or (len(out_voucher_check_2) > 0):\n",
    "        out_voucher_check['sum_voucher_usage'] = out_voucher_check['sum_voucher_usage']\\\n",
    "                            .astype(int).apply(lambda x : \"{:,d}\".format(x))\n",
    "        out_voucher_check_2['count_unique_voucher'] = out_voucher_check_2['count_unique_voucher'].astype('int')\n",
    "        m2 = True"
   ]
  },
  {
   "cell_type": "code",
   "execution_count": null,
   "metadata": {},
   "outputs": [],
   "source": []
  },
  {
   "cell_type": "code",
   "execution_count": 8,
   "metadata": {},
   "outputs": [],
   "source": [
    "out_point_redeem = ''\n",
    "if b3:\n",
    "    q_3 = '''\n",
    "    -- check trx with ponta redeemed and issued\n",
    "    select \n",
    "        tto.tbto_ponta_id, sum(ttp.tbtp_ponta_amount) as sum_ponta_redeem, count(tto.tbto_id) as count_order_id\n",
    "    from \n",
    "        tb_transaction_order tto \n",
    "        left join tb_transaction_payment ttp on tto.tbto_id = ttp.tbto_id\n",
    "    where \n",
    "        tto.tbto_create_date between '{shift_str}' and '{now_str}'\n",
    "        and ttp.tbmp_id = 23\n",
    "        and tto.tbto_status not in ('18','10','11')\n",
    "        and tbto_status is not null\n",
    "    group by tto.tbto_ponta_id \n",
    "    order by sum_ponta_redeem desc\n",
    "    '''.format(shift_str=str(dr_redeem_issue-timedelta(minutes=30)), now_str=str(dr_redeem_issue))\n",
    "    point_redeem = pd.read_sql(q_3, connection)\n",
    "    \n",
    "    out_point_redeem = point_redeem[point_redeem['sum_ponta_redeem'] > const_out_point_redeem]\n",
    "    if len(out_point_redeem) > 0:\n",
    "        out_point_redeem['sum_ponta_redeem'] = out_point_redeem['sum_ponta_redeem']\\\n",
    "                    .astype(int).apply(lambda x : \"{:,}\".format(x))\n",
    "        m3 = True"
   ]
  },
  {
   "cell_type": "code",
   "execution_count": null,
   "metadata": {},
   "outputs": [],
   "source": []
  },
  {
   "cell_type": "code",
   "execution_count": 9,
   "metadata": {},
   "outputs": [],
   "source": [
    "out_point_issue = ''\n",
    "if b4:\n",
    "    q_4 = '''\n",
    "    -- check trx with ponta redeem and issued\n",
    "    select \n",
    "        tto.tbto_ponta_id, sum(tto.tbto_ponta_point) as sum_ponta_issued, count(tto.tbto_id) as count_order_id\n",
    "    from \n",
    "        tb_transaction_order tto \n",
    "    where \n",
    "        tto.tbto_create_date between '{shift_str}' and '{now_str}'\n",
    "        and tbto_ponta_id is not null\n",
    "        and tto.tbto_status not in ('18','10','11')\n",
    "        and tbto_status is not null\n",
    "    group by tto.tbto_ponta_id \n",
    "    order by sum_ponta_issued desc\n",
    "    '''.format(shift_str=str(dr_redeem_issue-timedelta(minutes=30)), now_str=str(dr_redeem_issue))\n",
    "    point_issue = pd.read_sql(q_4, connection)\n",
    "    \n",
    "    out_point_issue = point_issue[point_issue['sum_ponta_issued'] > const_out_point_issue]\n",
    "    \n",
    "    if len(out_point_issue) > 0:\n",
    "        out_point_issue['sum_ponta_issued'] = out_point_issue['sum_ponta_issued']\\\n",
    "                    .astype(int).apply(lambda x : \"{:,d}\".format(x))\n",
    "        m4 = True"
   ]
  },
  {
   "cell_type": "code",
   "execution_count": null,
   "metadata": {},
   "outputs": [],
   "source": []
  },
  {
   "cell_type": "code",
   "execution_count": 10,
   "metadata": {},
   "outputs": [
    {
     "name": "stdout",
     "output_type": "stream",
     "text": [
      "False False False False\n"
     ]
    }
   ],
   "source": [
    "print(m1,m2,m3,m4)"
   ]
  },
  {
   "cell_type": "code",
   "execution_count": null,
   "metadata": {},
   "outputs": [],
   "source": []
  },
  {
   "cell_type": "code",
   "execution_count": 11,
   "metadata": {},
   "outputs": [],
   "source": [
    "if m1 or m2 or m3 or m4:\n",
    "    \n",
    "    outdf_format = ''\n",
    "    body_format = [\n",
    "        'Number of order in last 1 hour',\n",
    "        'Voucher usage amount sum in last 1 day',\n",
    "        'Voucher usage count sum in last 1 day',\n",
    "        'Point redeem sum (using point) in last 30 minutes',\n",
    "        'Point issue sum (get point) in last 30 minutes',\n",
    "    ]\n",
    "    for idx, outdf in enumerate([out_count_order, out_voucher_check, out_voucher_check_2, out_point_redeem, out_point_issue]):\n",
    "        if len(outdf) > 0:\n",
    "            outdf_format += '{} <br> {} <br><hr><br>'.format(body_format[idx], outdf.to_html())\n",
    "            \n",
    "            \n",
    "    # mechanism to send email\n",
    "    email_date = dr_order.strftime('%d%b%y %H:%M')\n",
    "    lib = lib_3d.desan()\n",
    "    preceiver = \"product.operation@gli.id, william.d.sinolungan@gli.id, \\\n",
    "                akhiyar.waladi@gli.id\"\n",
    "\n",
    "#     preceiver = \"akhiyarwaladi@gmail.com\"\n",
    "    print(preceiver)\n",
    "\n",
    "\n",
    "    psubject = 'Alfagift Alert [{}]'.format(email_date)\n",
    "    pbody = \"\"\"Time {} there is an abnormal transaction, please check below <br><hr><br> {}\"\"\".format(email_date, outdf_format)\n",
    "\n",
    "    lib.kirim_email_noreply(preceiver, psubject, pbody, \"\")\n",
    "    \n",
    "    \n",
    "    \n",
    "    # telegram send message\n",
    "    bot = telegram.Bot(token='1539145464:AAF3_pwD6clrnXWLDvB-oSkA1pqLUU2RKE0')\n",
    "\n",
    "    outdf_format = ''\n",
    "    body_format = [\n",
    "        'Number of order in last 1 hour',\n",
    "        'Voucher usage amount sum in last 1 day',\n",
    "        'Voucher usage count sum in last 1 day',\n",
    "        'Point redeem sum (using point) in last 30 minutes',\n",
    "        'Point issue sum (get point) in last 30 minutes',\n",
    "    ]\n",
    "    if len(out_voucher_check) > 0:\n",
    "        out_voucher_check = out_voucher_check.rename(columns={'sum_voucher_usage':'sum'})\n",
    "    if len(out_voucher_check_2) > 0:\n",
    "        out_voucher_check_2 = out_voucher_check_2.rename(columns={'count_unique_voucher':'count'})\n",
    "    if len(out_point_redeem) > 0:\n",
    "        out_point_redeem = out_point_redeem.rename(columns={'sum_ponta_redeem':'sum','count_order_id':'c'}).drop('c',1)\n",
    "    if len(out_point_issue) > 0:\n",
    "        out_point_issue = out_point_issue.rename(columns={'sum_ponta_issued':'sum','count_order_id':'c'}).drop('c',1)\n",
    "    for idx, outdf in enumerate([out_count_order, out_voucher_check, out_voucher_check_2, out_point_redeem, out_point_issue]):\n",
    "        if len(outdf) > 0:\n",
    "            outdf_format += '{} {} \\n\\n<pre>{}</pre>\\n\\n------------------------------------------------------------------\\n\\n'\\\n",
    "            .format(email_date, body_format[idx], outdf.to_markdown(index=False, tablefmt=\"grid\"))\n",
    "\n",
    "\n",
    "\n",
    "    bot.send_message(chat_id='@alfagift_alert', text=\"{}\".format(outdf_format),\\\n",
    "                     parse_mode=ParseMode.HTML)"
   ]
  },
  {
   "cell_type": "code",
   "execution_count": null,
   "metadata": {},
   "outputs": [],
   "source": []
  },
  {
   "cell_type": "code",
   "execution_count": null,
   "metadata": {},
   "outputs": [],
   "source": []
  },
  {
   "cell_type": "code",
   "execution_count": null,
   "metadata": {},
   "outputs": [],
   "source": []
  },
  {
   "cell_type": "code",
   "execution_count": null,
   "metadata": {},
   "outputs": [],
   "source": []
  },
  {
   "cell_type": "code",
   "execution_count": null,
   "metadata": {},
   "outputs": [],
   "source": []
  },
  {
   "cell_type": "code",
   "execution_count": null,
   "metadata": {},
   "outputs": [],
   "source": []
  },
  {
   "cell_type": "code",
   "execution_count": 12,
   "metadata": {},
   "outputs": [],
   "source": [
    "# import lib_3d\n",
    "\n",
    "# lib = lib_3d.desan()\n",
    "# preceiver = \"product.operation@gli.id, william.d.sinolungan@gli.id, \\\n",
    "#             akhiyar.waladi@gli.id\"\n",
    "\n",
    "# #     preceiver = \"akhiyarwaladi@gmail.com\"\n",
    "# print(preceiver)\n",
    "\n",
    "\n",
    "# psubject = 'Alfagift Alert [TEST]'\n",
    "# pbody = 'a test email'\n",
    "\n",
    "# lib.kirim_email_noreply(preceiver, psubject, pbody, \"\")\n",
    "\n",
    "\n"
   ]
  },
  {
   "cell_type": "code",
   "execution_count": null,
   "metadata": {},
   "outputs": [],
   "source": []
  }
 ],
 "metadata": {
  "kernelspec": {
   "display_name": "Python 3",
   "language": "python",
   "name": "python3"
  },
  "language_info": {
   "codemirror_mode": {
    "name": "ipython",
    "version": 3
   },
   "file_extension": ".py",
   "mimetype": "text/x-python",
   "name": "python",
   "nbconvert_exporter": "python",
   "pygments_lexer": "ipython3",
   "version": "3.8.5"
  }
 },
 "nbformat": 4,
 "nbformat_minor": 4
}
