{
 "cells": [
  {
   "cell_type": "code",
   "execution_count": 1,
   "id": "f30a76aa",
   "metadata": {},
   "outputs": [],
   "source": [
    "\n",
    "%load_ext autoreload\n",
    "%autoreload 2\n",
    "\n",
    "import warnings\n",
    "warnings.simplefilter(action='ignore', category=FutureWarning)\n",
    "\n",
    "import redis\n",
    "import json\n",
    "from pprint import pprint\n",
    "from joblib import dump, load\n",
    "\n",
    "import pymongo\n",
    "from datetime import datetime, timedelta, date\n",
    "import pandas as pd\n",
    "from multiprocessing import Pool\n",
    "\n",
    "import numpy as np\n",
    "import pymongo\n",
    "import cx_Oracle\n",
    "import os\n",
    "import time\n",
    "import plotly.express as px\n",
    "\n",
    "from sklearn.tree import DecisionTreeClassifier\n",
    "from sklearn.tree import export_text\n",
    "from sklearn.linear_model import LogisticRegression, Lasso, RidgeClassifier\n",
    "from rapidfuzz import process, fuzz\n",
    "from sklearn.neural_network import MLPClassifier\n",
    "\n",
    "from difflib import SequenceMatcher\n",
    "from sklearn.cluster import KMeans\n",
    "\n",
    "pd.set_option('display.max_rows', None)\n",
    "pd.set_option('display.max_columns', None)\n",
    "pd.set_option('display.width', None)\n",
    "pd.set_option('display.max_colwidth', None)\n",
    "pd.set_option('display.float_format', lambda x: '%.2f' % x)\n",
    "pd.options.mode.chained_assignment = None  # default='warn'\n",
    "\n",
    "r = redis.Redis(host=\"127.0.0.1\", port=6379, db=0)\n",
    "\n",
    "\n",
    "from sqlalchemy import event,create_engine,types\n",
    "driver = 'cx_oracle'\n",
    "server = '10.234.152.61' \n",
    "database = 'alfabi' \n",
    "username = 'report' \n",
    "password = 'justd0it'\n",
    "engine_stmt = \"oracle://%s:%s@%s/%s\" % (username, password, server, database )"
   ]
  },
  {
   "cell_type": "code",
   "execution_count": null,
   "id": "8a273b6e",
   "metadata": {},
   "outputs": [],
   "source": []
  },
  {
   "cell_type": "code",
   "execution_count": 10,
   "id": "1330f3e4",
   "metadata": {},
   "outputs": [],
   "source": [
    "with open('/home/server/gli-data-science/akhiyar/alfagift_alert/gibberish-detector/all_email_provider_domains.txt') as f:\n",
    "    li_all_provider = f.read().splitlines()"
   ]
  },
  {
   "cell_type": "code",
   "execution_count": null,
   "id": "f8a03d3c",
   "metadata": {},
   "outputs": [],
   "source": []
  },
  {
   "cell_type": "code",
   "execution_count": 12,
   "id": "287315bf",
   "metadata": {},
   "outputs": [],
   "source": [
    "# li_all_provider = list(pd.read_csv('./gibberish-detector/all_email_provider_domains.txt',\n",
    "#                  names=['all_provider'])['all_provider'])"
   ]
  },
  {
   "cell_type": "code",
   "execution_count": null,
   "id": "62b91e82",
   "metadata": {},
   "outputs": [],
   "source": []
  },
  {
   "cell_type": "code",
   "execution_count": 2,
   "id": "9e046c77",
   "metadata": {},
   "outputs": [
    {
     "data": {
      "text/plain": [
       "1"
      ]
     },
     "execution_count": 2,
     "metadata": {},
     "output_type": "execute_result"
    }
   ],
   "source": [
    "li_all_provider = list(pd.read_csv('./gibberish-detector/all_email_provider_domains.txt',\n",
    "                 names=['all_provider'])['all_provider'])\n",
    "\n",
    "def encode(s):\n",
    "    \n",
    "    i = 0\n",
    "    t = ''\n",
    "    while i < len(s):\n",
    "        if s[i].isupper():\n",
    "            t += 'U'\n",
    "        elif s[i].islower():\n",
    "            t += 'L'\n",
    "        elif s[i].isdigit():\n",
    "            t += 'D'\n",
    "        else:\n",
    "            t += 'O'\n",
    "        i += 1\n",
    "        \n",
    "    return t\n",
    "\n",
    "def short_encode(s):\n",
    "    i = 0\n",
    "    s = encode(s)\n",
    "    curr = ''\n",
    "    t = ''\n",
    "    \n",
    "    while i < len(s):\n",
    "        if curr != s[i]:\n",
    "            t += s[i]\n",
    "            curr = s[i]\n",
    "        \n",
    "        i += 1\n",
    "    return t\n",
    "\n",
    "def score_sus_email(email_input):\n",
    "\n",
    "    \n",
    "    name_input = email_input.split('@')[0]\n",
    "    provider_input = email_input.split('@')[-1]\n",
    "    \n",
    "   \n",
    "    pat_count_digit = encode(name_input).count('D')\n",
    "    pat_encode = short_encode(name_input)\n",
    "   \n",
    "    if pat_encode == 'LD' and pat_count_digit >= 4:\n",
    "        return 1\n",
    "    elif pat_encode == 'D':\n",
    "        return 1\n",
    "    elif provider_input not in li_all_provider:\n",
    "        return 1\n",
    "    return 0\n",
    "    \n",
    "score_sus_email('akhiyar.waladi@hehehe.com')"
   ]
  },
  {
   "cell_type": "code",
   "execution_count": null,
   "id": "cb4c9a06",
   "metadata": {},
   "outputs": [],
   "source": []
  },
  {
   "cell_type": "code",
   "execution_count": null,
   "id": "d9efdb23",
   "metadata": {
    "scrolled": false
   },
   "outputs": [],
   "source": []
  },
  {
   "cell_type": "code",
   "execution_count": null,
   "id": "510f4941",
   "metadata": {},
   "outputs": [],
   "source": []
  },
  {
   "cell_type": "code",
   "execution_count": null,
   "id": "ec86c149",
   "metadata": {},
   "outputs": [],
   "source": []
  },
  {
   "cell_type": "code",
   "execution_count": null,
   "id": "4c6fa622",
   "metadata": {},
   "outputs": [],
   "source": []
  },
  {
   "cell_type": "code",
   "execution_count": null,
   "id": "cac396be",
   "metadata": {},
   "outputs": [],
   "source": []
  },
  {
   "cell_type": "code",
   "execution_count": 3,
   "id": "4b03d7cc",
   "metadata": {},
   "outputs": [
    {
     "data": {
      "text/plain": [
       "3.7002451204535642"
      ]
     },
     "execution_count": 3,
     "metadata": {},
     "output_type": "execute_result"
    }
   ],
   "source": [
    "from gibberish_detector import detector\n",
    "\n",
    "path_detector_indo = '/home/server/gli-data-science/akhiyar/alfagift_alert/gibberish-detector/indo_news.model.test'\n",
    "Detector = detector.create_from_model(\n",
    "    path_detector_indo\n",
    ")\n",
    "\n",
    "def score_gibberish(input_email):\n",
    "    split_email = input_email.split('@')[0]\n",
    "    \n",
    "    score_gib = Detector.calculate_probability_of_being_gibberish(split_email)\n",
    "    \n",
    "    return score_gib\n",
    "\n",
    "email = 'fadmawdwa@gmail.com'\n",
    "score_gibberish(email)\n",
    "\n"
   ]
  },
  {
   "cell_type": "code",
   "execution_count": null,
   "id": "7eb3f8f9",
   "metadata": {},
   "outputs": [],
   "source": []
  },
  {
   "cell_type": "code",
   "execution_count": null,
   "id": "68a18838",
   "metadata": {},
   "outputs": [],
   "source": []
  },
  {
   "cell_type": "code",
   "execution_count": null,
   "id": "314730a5",
   "metadata": {},
   "outputs": [],
   "source": [
    "alfagift_member = pd.read_json('/home/server/mongo_export/alfagift_member_01jan22.json',\n",
    "                              dtype='object')\n",
    "alfagift_member['sapa'] = alfagift_member['sapa'].fillna('-')\n",
    "alfagift_member['sapa'] = alfagift_member['sapa'].apply(lambda x: x.get('store_code') \\\n",
    "                                                        if x != '-' else '-')\n",
    "alfagift_member['sapa'] = alfagift_member['sapa'].apply(lambda x: '-' \\\n",
    "                                                        if x == '' else x)\n",
    "\n",
    "alfagift_member['created_at'] = alfagift_member['created_at'].fillna('2019-01-01T23:08:53.393Z')\n",
    "alfagift_member['created_at'] = alfagift_member['created_at'].apply(lambda x: x.get('$date') \\\n",
    "                                                                    if type(x) != str else x)\n",
    "alfagift_member['created_at'] = pd.to_datetime(alfagift_member['created_at'])+ pd.DateOffset(hours=7)\n",
    "alfagift_member['created_at_d'] = pd.to_datetime(alfagift_member['created_at']).dt.strftime(\"%Y-%m-%d\")\n",
    "\n",
    "\n",
    "alfagift_member['birth_date'] = alfagift_member['birth_date'].apply(lambda x: x.get('$date') \\\n",
    "                                                                    if type(x) != str else x)\n",
    "# alfagift_member['birth_date'] = pd.to_datetime(alfagift_member['birth_date']).dt.strftime(\"%Y-%m-%d\")\n",
    "alfagift_member['sapa'] = alfagift_member['sapa'].apply(lambda x: 'sapa' if x != '-' else 'not_sapa')\n",
    "\n"
   ]
  },
  {
   "cell_type": "code",
   "execution_count": null,
   "id": "442b64eb",
   "metadata": {},
   "outputs": [],
   "source": []
  },
  {
   "cell_type": "code",
   "execution_count": null,
   "id": "39a6aa05",
   "metadata": {},
   "outputs": [],
   "source": []
  },
  {
   "cell_type": "code",
   "execution_count": null,
   "id": "2db09ed6",
   "metadata": {},
   "outputs": [],
   "source": [
    "# ### creating label for training set\n",
    "\n",
    "\n",
    "# li_sus = []\n",
    "# for dr in pd.date_range('2021-12-01', '2022-04-20', freq='D'):\n",
    "#     sel_created = dr.strftime(\"%Y-%m-%d\")\n",
    "\n",
    "#     alfagift_member_sel_d = alfagift_member[alfagift_member['created_at_d'] == sel_created]\n",
    "#     #print(alfagift_member_sel_d.shape)\n",
    "\n",
    "\n",
    "#     ## suspect by IP\n",
    "#     alfagift_member_sel_d_ip = alfagift_member_sel_d.groupby(['createdFromIp'])\\\n",
    "#                             .agg(createdFromIp_count=('createdFromIp','count'))\n",
    "#     alfagift_member_sel_d_ip = alfagift_member_sel_d_ip[\n",
    "#         alfagift_member_sel_d_ip['createdFromIp_count'] >= 5].reset_index()\n",
    "\n",
    "#     sus_by_ip = pd.merge(alfagift_member_sel_d_ip, alfagift_member_sel_d, on='createdFromIp', how='left')\n",
    "\n",
    "#     ## suspect by phone\n",
    "#     alfagift_member_sel_d['phone_sub'] =  alfagift_member_sel_d['phone'].str[0:9]\n",
    "#     alfagift_member_sel_d_phone = alfagift_member_sel_d.groupby(['phone_sub'])\\\n",
    "#                                 .agg(createdFromIp_count=('phone_sub','count'))\n",
    "#     alfagift_member_sel_d_phone = alfagift_member_sel_d_phone[\n",
    "#         alfagift_member_sel_d_phone['createdFromIp_count'] >= 5].reset_index()\n",
    "\n",
    "#     sus_by_phone = pd.merge(alfagift_member_sel_d_phone, alfagift_member_sel_d, on='phone_sub', how='left')\n",
    "\n",
    "    \n",
    "#     alfagift_member_sel_d['score_gibberish'] = alfagift_member_sel_d['email'].apply(score_gibberish)\n",
    "    \n",
    "    \n",
    "#     ## saving by concating suspect aspect\n",
    "#     sus_all = pd.concat([\n",
    "#         sus_by_ip[['account_card','email','phone']], \n",
    "#         sus_by_phone[['account_card','email','phone']],\n",
    "#         alfagift_member_sel_d[alfagift_member_sel_d['member_status'] == 27][['account_card','email']],\n",
    "#         alfagift_member_sel_d[alfagift_member_sel_d['score_gibberish'] > 4][['account_card','email']]\n",
    "#     ], axis=0)\\\n",
    "#         .drop_duplicates()\n",
    "    \n",
    "#     sus_all = sus_all[~sus_all['email'].str.contains('deliverysapa', case=False)]\n",
    "#     sus_all = sus_all[['account_card','phone','email']]\n",
    "    \n",
    "    \n",
    "#     ## inserting into table to check transaction\n",
    "#     df = sus_all[['account_card']]\n",
    "\n",
    "#     engine = create_engine(engine_stmt)\n",
    "\n",
    "\n",
    "#     dtyp = {c:types.VARCHAR(df[c].str.len().max()) for c in df.columns[df.dtypes == 'object'].tolist()}\n",
    "#     df.to_sql('temp_sus_member', engine, index=False, \n",
    "#                                           if_exists=\"replace\", dtype=dtyp)\n",
    "    \n",
    "    \n",
    "#     q = '''\n",
    "    \n",
    "#         SELECT \n",
    "#             rto.TRO_DATE, rto.TRO_PONTA_ID\n",
    "#         FROM \n",
    "#             temp_sus_member tsm\n",
    "#             INNER JOIN RPT_TRANS_OSHOP rto\n",
    "#             ON rto.TRO_PONTA_ID = tsm.ACCOUNT_CARD \n",
    "    \n",
    "#     '''\n",
    "#     con_alfabi = engine.connect()\n",
    "#     df_exclude = pd.read_sql_query(q, con_alfabi)\n",
    "#     df_exclude_g =  df_exclude.groupby('tro_ponta_id').agg(tro_date_count=('tro_date','nunique'))\n",
    "#     df_exclude_g = df_exclude_g[df_exclude_g['tro_date_count'] >2].reset_index()\n",
    "\n",
    "    \n",
    "#     con_alfabi.close()\n",
    "    \n",
    "#     sus_all = sus_all[~sus_all['account_card'].isin(df_exclude_g['tro_ponta_id'])]\n",
    "#     ### end inserting into table to check transaction\n",
    "#     li_sus.append(sus_all)\n",
    "\n",
    "\n",
    "#     #break\n",
    "#     sus_all.to_csv(\n",
    "#         '/home/server/gli-data-science/akhiyar/alfagift_alert/suspect_fraud/sus_{}'.format(sel_created)\n",
    "#     )\n",
    "\n",
    "    \n",
    "\n",
    "# df_sus_all = pd.concat(li_sus).drop_duplicates()\n",
    "# df_sus_all.to_csv(\n",
    "#     '/home/server/gli-data-science/akhiyar/alfagift_alert/suspect_fraud/sus_all_exclude_trx.csv', index=False)"
   ]
  },
  {
   "cell_type": "code",
   "execution_count": null,
   "id": "5bf71cd1",
   "metadata": {},
   "outputs": [],
   "source": []
  },
  {
   "cell_type": "code",
   "execution_count": null,
   "id": "274adc64",
   "metadata": {},
   "outputs": [],
   "source": []
  },
  {
   "cell_type": "code",
   "execution_count": null,
   "id": "6d56611f",
   "metadata": {},
   "outputs": [],
   "source": []
  },
  {
   "cell_type": "code",
   "execution_count": null,
   "id": "87343627",
   "metadata": {
    "scrolled": false
   },
   "outputs": [],
   "source": []
  },
  {
   "cell_type": "code",
   "execution_count": null,
   "id": "f97640ee",
   "metadata": {},
   "outputs": [],
   "source": []
  },
  {
   "cell_type": "code",
   "execution_count": null,
   "id": "e1782c67",
   "metadata": {},
   "outputs": [],
   "source": []
  },
  {
   "cell_type": "code",
   "execution_count": null,
   "id": "f12de826",
   "metadata": {},
   "outputs": [],
   "source": []
  },
  {
   "cell_type": "code",
   "execution_count": null,
   "id": "9d867039",
   "metadata": {},
   "outputs": [],
   "source": [
    "\n",
    "def seq_match(string1, li_string):\n",
    "\n",
    "    \n",
    "    match_start = 0\n",
    "    match_end = 0\n",
    "    for string2 in li_string:\n",
    "        match = SequenceMatcher(None, string1, string2).find_longest_match(0, len(string1), 0, len(string2))\n",
    "\n",
    "        \n",
    "        if match.size >= 3:\n",
    "\n",
    "\n",
    "            if ( string1.startswith(string1[match.a:match.a + match.size]) \n",
    "                and  string2.startswith(string2[match.b:match.b + match.size]) ) :\n",
    "                \n",
    "                match_start += 1\n",
    "                \n",
    "            if ( string1.endswith(string1[match.a:match.a + match.size]) \n",
    "                and string2.endswith(string2[match.b:match.b + match.size]) ):\n",
    "                \n",
    "                match_end += 1\n",
    "        \n",
    "        \n",
    "        \n",
    "    return match_start, match_end\n",
    "    \n"
   ]
  },
  {
   "cell_type": "code",
   "execution_count": 15,
   "id": "f2a3af51",
   "metadata": {},
   "outputs": [
    {
     "data": {
      "text/plain": [
       "True"
      ]
     },
     "execution_count": 15,
     "metadata": {},
     "output_type": "execute_result"
    }
   ],
   "source": [
    "import redis\n",
    "r_con = redis.Redis(host=\"35.213.143.227\", port=6379, db=0)\n",
    "r_con.set('regis_name:{}'.format('akhiyar waladi'), 1)"
   ]
  },
  {
   "cell_type": "code",
   "execution_count": 30,
   "id": "1541f9a3",
   "metadata": {},
   "outputs": [
    {
     "data": {
      "text/plain": [
       "{}"
      ]
     },
     "execution_count": 30,
     "metadata": {},
     "output_type": "execute_result"
    }
   ],
   "source": [
    "r_con.hgetall('regis_name:*')"
   ]
  },
  {
   "cell_type": "code",
   "execution_count": 29,
   "id": "7dbc3c50",
   "metadata": {},
   "outputs": [
    {
     "name": "stdout",
     "output_type": "stream",
     "text": [
      "b'regis_name:akhiyar waladi'\n"
     ]
    }
   ],
   "source": [
    "for k_name in r_con.scan_iter('regis_name:*'):\n",
    "    print(k_name)"
   ]
  },
  {
   "cell_type": "code",
   "execution_count": null,
   "id": "36974b5d",
   "metadata": {},
   "outputs": [],
   "source": []
  },
  {
   "cell_type": "code",
   "execution_count": null,
   "id": "04988679",
   "metadata": {},
   "outputs": [],
   "source": [
    "# ## creating feature for training set\n",
    "\n",
    "\n",
    "# li_sus = []\n",
    "# for dr in pd.date_range('2021-12-01', '2022-04-20', freq='D'):\n",
    "#     sel_created = dr.strftime(\"%Y-%m-%d\")\n",
    "\n",
    "#     alfagift_member_sel_d = alfagift_member[alfagift_member['created_at_d'] == sel_created]\n",
    "#     # print(\"{} {}\".format(sel_created, alfagift_member_sel_d.shape))\n",
    "#     alfagift_member_sel_d['phone_sub'] =  alfagift_member_sel_d['phone'].str[0:9]\n",
    "#     alfagift_member_sel_d['full_name'] = alfagift_member_sel_d['full_name'].str.lower()\n",
    "    \n",
    "#     ## suspect by IP\n",
    "#     alfagift_member_sel_d_ip = alfagift_member_sel_d.groupby(['createdFromIp'])\\\n",
    "#                             .agg(createdFromIp_count=('createdFromIp','count'))\n",
    "\n",
    "#     alfagift_member_sel_d = pd.merge(alfagift_member_sel_d, \n",
    "#                                      alfagift_member_sel_d_ip,\n",
    "#                                      on='createdFromIp', how='left').fillna(0)\n",
    "\n",
    "#     ## suspect by phone\n",
    "#     alfagift_member_sel_d_phone = alfagift_member_sel_d.groupby(['phone_sub'])\\\n",
    "#                                 .agg(phoneSub_count=('phone_sub','count'))\n",
    "\n",
    "#     alfagift_member_sel_d = pd.merge(alfagift_member_sel_d, \n",
    "#                                      alfagift_member_sel_d_phone,\n",
    "#                                      on='phone_sub', how='left').fillna(0)\n",
    "    \n",
    "    \n",
    "#     alfagift_member_sel_d['score_gibberish'] = alfagift_member_sel_d['email'].apply(score_gibberish)\n",
    "#     alfagift_member_sel_d['score_sus_email'] = alfagift_member_sel_d['email'].apply(score_sus_email)\n",
    "    \n",
    "# #     alfagift_member_sel_d['nameMatch_count'] = alfagift_member_sel_d['full_name']\\\n",
    "# #     .apply(lambda x: len(process.extract(x, alfagift_member_sel_d['full_name'], \n",
    "# #             score_cutoff=70, limit=alfagift_member_sel_d.shape[0], scorer=fuzz.token_sort_ratio))-1)\n",
    " \n",
    "#     alfagift_member_sel_d = parallelize_dataframe(alfagift_member_sel_d, add_features)\n",
    "\n",
    "\n",
    "#     li_sus.append(alfagift_member_sel_d)\n",
    "#     alfagift_member_sel_d.to_csv(\n",
    "#     '/home/server/gli-data-science/akhiyar/alfagift_alert/suspect_fraud_feature/daily/{}'.format(sel_created))\n",
    "\n",
    "#     break\n",
    "\n",
    "# # df_sus_all = pd.concat(li_sus)\n",
    "# # df_sus_all.to_csv(\n",
    "# #     '/home/server/gli-data-science/akhiyar/alfagift_alert/suspect_fraud_feature/group_day/train_full_withname1.csv'\n",
    "# #     , index=False)"
   ]
  },
  {
   "cell_type": "code",
   "execution_count": null,
   "id": "e0df631b",
   "metadata": {},
   "outputs": [],
   "source": []
  },
  {
   "cell_type": "code",
   "execution_count": null,
   "id": "9064f568",
   "metadata": {},
   "outputs": [],
   "source": [
    "import time\n",
    "from timeit import default_timer as timer\n",
    "from multiprocessing import Pool, cpu_count\n",
    "\n",
    "def square(dr):\n",
    "\n",
    "\n",
    "    sel_created = dr.strftime(\"%Y-%m-%d\")\n",
    "\n",
    "    alfagift_member_sel_d = alfagift_member[alfagift_member['created_at_d'] == sel_created]\\\n",
    "                            .iloc[:,2:].reset_index(drop=True)\n",
    "    \n",
    "    \n",
    "    alfagift_member_sel_d['phone_sub'] =  alfagift_member_sel_d['phone'].str[0:9]\n",
    "    alfagift_member_sel_d['full_name'] = alfagift_member_sel_d['full_name'].str.lower()\n",
    "\n",
    "    ## suspect by IP\n",
    "    alfagift_member_sel_d_ip = alfagift_member_sel_d.groupby(['createdFromIp'])\\\n",
    "                            .agg(createdFromIp_count=('createdFromIp','cumcount')).reset_index(drop=True)\n",
    "\n",
    "    alfagift_member_sel_d = pd.concat([alfagift_member_sel_d, \n",
    "                                     alfagift_member_sel_d_ip]\n",
    "                                     ,axis=1)\n",
    "\n",
    "    ## suspect by phone\n",
    "    alfagift_member_sel_d_phone = alfagift_member_sel_d.groupby(['phone_sub'])\\\n",
    "                                .agg(phoneSub_count=('phone_sub','cumcount')).reset_index(drop=True)\n",
    "\n",
    "    alfagift_member_sel_d = pd.concat([alfagift_member_sel_d, \n",
    "                                     alfagift_member_sel_d_phone]\n",
    "                                     ,axis=1)\n",
    "    \n",
    "    \n",
    "    alfagift_member_sel_d['score_gibberish'] = alfagift_member_sel_d['email'].apply(score_gibberish)\n",
    "    alfagift_member_sel_d['score_sus_email'] = alfagift_member_sel_d['email'].apply(score_sus_email)\n",
    "    \n",
    "\n",
    "    li_name_count = []\n",
    "    for idx, row in alfagift_member_sel_d.iterrows():\n",
    "        cur_name = row['full_name']\n",
    "\n",
    "        compare_name = list(alfagift_member_sel_d.iloc[0:idx+1,:]['full_name'])\n",
    "\n",
    "\n",
    "        res_compare = seq_match(cur_name, compare_name)\n",
    "        li_name_count.append(res_compare)\n",
    "\n",
    "\n",
    "    df_count_name = pd.DataFrame(li_name_count, columns=['full_name_sCount', 'full_name_eCount'])\n",
    "    alfagift_member_sel_d = pd.concat([alfagift_member_sel_d, df_count_name], axis=1)\n",
    "\n",
    "    alfagift_member_sel_d.to_csv(\n",
    "    '/home/server/gli-data-science/akhiyar/alfagift_alert/suspect_fraud_feature/daily_gmt/{}'.format(sel_created)\n",
    "    ,index=False)\n",
    "\n",
    "\n",
    "    return 0\n",
    "\n",
    "\n",
    "start = timer()\n",
    "\n",
    "print(f'starting computations on {cpu_count()} cores')\n",
    "\n",
    "values = pd.date_range('2021-12-01', '2022-04-20', freq='D')\n",
    "\n",
    "with Pool(48) as pool:\n",
    "    res = pool.map(square, values)\n",
    "    \n",
    "\n",
    "end = timer()\n",
    "print(f'elapsed time: {end - start}')"
   ]
  },
  {
   "cell_type": "code",
   "execution_count": null,
   "id": "0f91687b",
   "metadata": {},
   "outputs": [],
   "source": []
  },
  {
   "cell_type": "code",
   "execution_count": null,
   "id": "a0f969a8",
   "metadata": {},
   "outputs": [],
   "source": [
    "pd.date_range('2021-12-01', '2022-04-20', freq='D')"
   ]
  },
  {
   "cell_type": "code",
   "execution_count": null,
   "id": "3556f132",
   "metadata": {},
   "outputs": [],
   "source": []
  },
  {
   "cell_type": "code",
   "execution_count": null,
   "id": "b3c04625",
   "metadata": {},
   "outputs": [],
   "source": []
  },
  {
   "cell_type": "code",
   "execution_count": null,
   "id": "47acf6f3",
   "metadata": {
    "scrolled": false
   },
   "outputs": [],
   "source": []
  },
  {
   "cell_type": "code",
   "execution_count": null,
   "id": "f8c14e06",
   "metadata": {},
   "outputs": [],
   "source": []
  },
  {
   "cell_type": "code",
   "execution_count": null,
   "id": "1e442f80",
   "metadata": {},
   "outputs": [],
   "source": []
  },
  {
   "cell_type": "code",
   "execution_count": null,
   "id": "ffc40dae",
   "metadata": {},
   "outputs": [],
   "source": []
  },
  {
   "cell_type": "code",
   "execution_count": null,
   "id": "5f6a93ff",
   "metadata": {},
   "outputs": [],
   "source": []
  },
  {
   "cell_type": "code",
   "execution_count": null,
   "id": "89b67ab0",
   "metadata": {},
   "outputs": [],
   "source": []
  },
  {
   "cell_type": "code",
   "execution_count": null,
   "id": "bb07f3f1",
   "metadata": {},
   "outputs": [],
   "source": []
  },
  {
   "cell_type": "code",
   "execution_count": null,
   "id": "c049f120",
   "metadata": {},
   "outputs": [],
   "source": []
  },
  {
   "cell_type": "code",
   "execution_count": null,
   "id": "522268c7",
   "metadata": {},
   "outputs": [],
   "source": []
  },
  {
   "cell_type": "code",
   "execution_count": null,
   "id": "842403c5",
   "metadata": {},
   "outputs": [],
   "source": []
  },
  {
   "cell_type": "code",
   "execution_count": null,
   "id": "fd113f28",
   "metadata": {
    "scrolled": false
   },
   "outputs": [],
   "source": []
  },
  {
   "cell_type": "code",
   "execution_count": null,
   "id": "e91de282",
   "metadata": {},
   "outputs": [],
   "source": []
  },
  {
   "cell_type": "code",
   "execution_count": null,
   "id": "0a68de27",
   "metadata": {},
   "outputs": [],
   "source": []
  },
  {
   "cell_type": "code",
   "execution_count": null,
   "id": "8e380b73",
   "metadata": {},
   "outputs": [],
   "source": []
  },
  {
   "cell_type": "code",
   "execution_count": null,
   "id": "1ff536e3",
   "metadata": {},
   "outputs": [],
   "source": []
  },
  {
   "cell_type": "code",
   "execution_count": null,
   "id": "750ee25e",
   "metadata": {},
   "outputs": [],
   "source": []
  },
  {
   "cell_type": "code",
   "execution_count": null,
   "id": "c93edfbf",
   "metadata": {
    "scrolled": false
   },
   "outputs": [],
   "source": []
  },
  {
   "cell_type": "code",
   "execution_count": null,
   "id": "33c92a6e",
   "metadata": {},
   "outputs": [],
   "source": []
  },
  {
   "cell_type": "code",
   "execution_count": null,
   "id": "496ddf83",
   "metadata": {},
   "outputs": [],
   "source": []
  },
  {
   "cell_type": "code",
   "execution_count": null,
   "id": "e24f4065",
   "metadata": {},
   "outputs": [],
   "source": []
  },
  {
   "cell_type": "code",
   "execution_count": null,
   "id": "dc791436",
   "metadata": {},
   "outputs": [],
   "source": []
  },
  {
   "cell_type": "code",
   "execution_count": null,
   "id": "c2bac21c",
   "metadata": {},
   "outputs": [],
   "source": []
  },
  {
   "cell_type": "code",
   "execution_count": null,
   "id": "c03e9431",
   "metadata": {},
   "outputs": [],
   "source": []
  },
  {
   "cell_type": "code",
   "execution_count": null,
   "id": "7281f14c",
   "metadata": {},
   "outputs": [],
   "source": []
  },
  {
   "cell_type": "code",
   "execution_count": null,
   "id": "b16428f7",
   "metadata": {},
   "outputs": [],
   "source": []
  },
  {
   "cell_type": "code",
   "execution_count": null,
   "id": "5a3e039d",
   "metadata": {},
   "outputs": [],
   "source": []
  },
  {
   "cell_type": "code",
   "execution_count": null,
   "id": "0ca3b3b2",
   "metadata": {},
   "outputs": [],
   "source": []
  },
  {
   "cell_type": "code",
   "execution_count": null,
   "id": "0b9f51b8",
   "metadata": {},
   "outputs": [],
   "source": []
  },
  {
   "cell_type": "code",
   "execution_count": null,
   "id": "debb54a7",
   "metadata": {},
   "outputs": [],
   "source": []
  },
  {
   "cell_type": "code",
   "execution_count": null,
   "id": "1f1404d1",
   "metadata": {},
   "outputs": [],
   "source": []
  }
 ],
 "metadata": {
  "kernelspec": {
   "display_name": "Python 3",
   "language": "python",
   "name": "python3"
  },
  "language_info": {
   "codemirror_mode": {
    "name": "ipython",
    "version": 3
   },
   "file_extension": ".py",
   "mimetype": "text/x-python",
   "name": "python",
   "nbconvert_exporter": "python",
   "pygments_lexer": "ipython3",
   "version": "3.8.5"
  }
 },
 "nbformat": 4,
 "nbformat_minor": 5
}
