{
 "cells": [
  {
   "cell_type": "code",
   "execution_count": 1,
   "id": "968c3db6",
   "metadata": {},
   "outputs": [],
   "source": [
    "\n",
    "%load_ext autoreload\n",
    "%autoreload 2\n",
    "\n",
    "import warnings\n",
    "warnings.simplefilter(action='ignore', category=FutureWarning)\n",
    "\n",
    "import redis\n",
    "import json\n",
    "from pprint import pprint\n",
    "from joblib import dump, load\n",
    "\n",
    "import pymongo\n",
    "from datetime import datetime, timedelta, date\n",
    "import pandas as pd\n",
    "from multiprocessing import Pool\n",
    "\n",
    "import numpy as np\n",
    "import pymongo\n",
    "import cx_Oracle\n",
    "import os\n",
    "import time\n",
    "import plotly.express as px\n",
    "\n",
    "from sklearn.tree import DecisionTreeClassifier\n",
    "from sklearn.tree import export_text\n",
    "from sklearn.linear_model import LogisticRegression, Lasso, RidgeClassifier\n",
    "from rapidfuzz import process, fuzz\n",
    "from sklearn.neural_network import MLPClassifier\n",
    "\n",
    "from difflib import SequenceMatcher\n",
    "from sklearn.cluster import KMeans\n",
    "\n",
    "pd.set_option('display.max_rows', None)\n",
    "pd.set_option('display.max_columns', None)\n",
    "pd.set_option('display.width', None)\n",
    "pd.set_option('display.max_colwidth', None)\n",
    "pd.set_option('display.float_format', lambda x: '%.2f' % x)\n",
    "pd.options.mode.chained_assignment = None  # default='warn'\n",
    "\n",
    "\n",
    "\n",
    "from sqlalchemy import event,create_engine,types\n",
    "driver = 'cx_oracle'\n",
    "server = '10.234.152.61' \n",
    "database = 'alfabi' \n",
    "username = 'report' \n",
    "password = 'justd0it'\n",
    "engine_stmt = \"oracle://%s:%s@%s/%s\" % (username, password, server, database )"
   ]
  },
  {
   "cell_type": "code",
   "execution_count": null,
   "id": "4fbd7bea",
   "metadata": {},
   "outputs": [],
   "source": []
  },
  {
   "cell_type": "code",
   "execution_count": 2,
   "id": "2433cabd",
   "metadata": {},
   "outputs": [],
   "source": [
    "from itertools import zip_longest\n",
    "\n",
    "r = redis.Redis(host=\"10.25.4.67\", port=6379, db=0)\n",
    "\n",
    "### batcher example to delete key in redis\n",
    "# iterate a list in batches of size n\n",
    "def batcher(iterable, n):\n",
    "    args = [iter(iterable)] * n\n",
    "    return zip_longest(*args)\n",
    "\n",
    "# # in batches of 500 delete keys matching :*\n",
    "# for keybatch in batcher(r.scan_iter('otp_ip_devicemodel:*'),500):\n",
    "#     r.delete(*keybatch)\n",
    "# # in batches of 500 delete keys matching :*\n",
    "# for keybatch in batcher(r.scan_iter('otp_ip_devicemodel_prefix_phone:*'),500):\n",
    "#     r.delete(*keybatch)\n",
    "### end of batcher example to delete in redis\n",
    "\n",
    "\n",
    "for i in r.scan_iter('otp_ip_deviceid:*'):\n",
    "    r.delete(i)\n",
    "for i in r.scan_iter('otp_ip_devicemodel:*'):\n",
    "    r.delete(i)\n",
    "for i in r.scan_iter('otp_phone_deviceid:*'):\n",
    "    r.delete(i)\n",
    "    \n",
    "for i in r.scan_iter('regis_ip:*'):\n",
    "    r.delete(i)\n",
    "for i in r.scan_iter('regis_prefixphone:*'):\n",
    "    r.delete(i)\n",
    "for i in r.scan_iter('regis_name:*'):\n",
    "    r.delete(i)"
   ]
  },
  {
   "cell_type": "code",
   "execution_count": 6,
   "id": "6ba5d1c2",
   "metadata": {},
   "outputs": [],
   "source": [
    "from register_check_prod import RegisterCheck\n",
    "from pprint import pprint\n",
    "m = RegisterCheck()\n",
    "from joblib import load\n",
    "\n",
    "import time"
   ]
  },
  {
   "cell_type": "code",
   "execution_count": 7,
   "id": "0b19fa57",
   "metadata": {},
   "outputs": [
    {
     "name": "stdout",
     "output_type": "stream",
     "text": [
      "COEFFICIENT \n",
      "{'score_gibberish': 1.665595268299402, 'score_sus_email': 0.5169351003595561, 'createdFromIp_count': 0.4126054736704622, 'phoneSub_count': 0.7604566203231082}\n",
      "\n",
      "SCORE PARAM AFTER MULTIPLY \n",
      "{'score_gibberish': 5.219298972805579, 'score_sus_email': 0.0, 'createdFromIp_count': 0.8252109473409244, 'phoneSub_count': 1.5209132406462165}\n",
      "\n",
      "FINAL AFTER LOG \n",
      "[[0.48543128 0.51456872]]\n",
      "\n"
     ]
    }
   ],
   "source": [
    "### use this for testing every param\n",
    "clf_path = './fraud_model/registrasi_logreg.pkl'\n",
    "clf = load(clf_path)\n",
    "\n",
    "li_input = [[\n",
    "    m.score_gibberish('aldis.fakhri@gmail.com'),\n",
    "    0,\n",
    "    2,\n",
    "    2\n",
    "]]\n",
    "X_test = np.array(li_input)\n",
    "\n",
    "\n",
    "li_param = [\n",
    "'score_gibberish',\n",
    "'score_sus_email',\n",
    "'createdFromIp_count',\n",
    "'phoneSub_count'\n",
    "]\n",
    "\n",
    "dict_coefficient = {}\n",
    "for idx in range(len(li_param)):\n",
    "    dict_coefficient[li_param[idx]] = clf.coef_[0][idx]\n",
    "    \n",
    "    \n",
    "dict_score_parameter = {}\n",
    "for idx in range(len(li_param)):\n",
    "    dict_score_parameter[li_param[idx]] = clf.coef_[0][idx] * X_test[0][idx]\n",
    "\n",
    "print(\"COEFFICIENT \\n{}\\n\".format(dict_coefficient))    \n",
    "\n",
    "print(\"SCORE PARAM AFTER MULTIPLY \\n{}\\n\".format(dict_score_parameter))\n",
    "\n",
    "print(\"FINAL AFTER LOG \\n{}\\n\".format(clf.predict_proba(X_test)))"
   ]
  },
  {
   "cell_type": "code",
   "execution_count": null,
   "id": "a2b293ac",
   "metadata": {},
   "outputs": [],
   "source": []
  },
  {
   "cell_type": "code",
   "execution_count": 13,
   "id": "f84618bb",
   "metadata": {},
   "outputs": [
    {
     "name": "stdout",
     "output_type": "stream",
     "text": [
      "PROBABILITY CLASSIFIER AS [[0.51456872]]\n"
     ]
    }
   ],
   "source": [
    "### example to manual compute \n",
    "\n",
    "from sklearn.datasets import load_iris\n",
    "from sklearn.linear_model import LogisticRegression\n",
    "import numpy as np\n",
    "\n",
    "X, y = load_iris(return_X_y=True)\n",
    "\n",
    "manual_prob = 1/(1+np.exp(-(np.dot(X_test, clf.coef_.T)+clf.intercept_)))\n",
    "print(\"PROBABILITY CLASSIFIER AS {}\".format(manual_prob))"
   ]
  },
  {
   "cell_type": "code",
   "execution_count": null,
   "id": "0781b72c",
   "metadata": {},
   "outputs": [],
   "source": []
  },
  {
   "cell_type": "code",
   "execution_count": 16,
   "id": "d2685716",
   "metadata": {},
   "outputs": [
    {
     "name": "stdout",
     "output_type": "stream",
     "text": [
      "pair 1 20.19.1.153 - aaaaaaaa-1c3a-4159-9a19-bbbbbbbbbbba\n",
      "pair 2 20.19.1.153 - ROG GAMING8\n",
      "pair 3 099999999 - aaaaaaaa-1c3a-4159-9a19-bbbbbbbbbbba\n",
      "score 1 None\n",
      "score 2 None\n",
      "score 3 None\n",
      "{'is_fraud': False,\n",
      " 'reason': [],\n",
      " 'score_final': 0,\n",
      " 'score_parameter': {'ip_deviceid': 0,\n",
      "                     'ip_devicemodel': 0,\n",
      "                     'phone_deviceid': 0}}\n",
      "--- 0.13244247436523438 seconds ---\n"
     ]
    }
   ],
   "source": [
    "\n",
    "start_time = time.time()\n",
    "pprint(m.score_user_otp(\"20.19.1.153\", \"aaaaaaaa-1c3a-4159-9a19-bbbbbbbbbbba\", \"099999999123\", \"ROG GAMING8\"))\n",
    "print(\"--- %s seconds ---\" % (time.time() - start_time))"
   ]
  },
  {
   "cell_type": "code",
   "execution_count": 17,
   "id": "264fa0f9",
   "metadata": {},
   "outputs": [
    {
     "name": "stdout",
     "output_type": "stream",
     "text": [
      "{'is_fraud': False,\n",
      " 'reason': [],\n",
      " 'score_final': 0.09214,\n",
      " 'score_parameter': {'createdFromIp_count': 0.0,\n",
      "                     'phoneSub_count': 0.0,\n",
      "                     'score_gibberish': 5.219298972805579,\n",
      "                     'score_sus_email': 0.0}}\n",
      "--- 0.07988190650939941 seconds ---\n"
     ]
    }
   ],
   "source": [
    "\n",
    "start_time = time.time()\n",
    "pprint(m.score_user_registrasi('aldis.fakhri@gmail.com', '080008880', '10.4.77.18', 'adawdawddaw'))\n",
    "print(\"--- %s seconds ---\" % (time.time() - start_time))"
   ]
  },
  {
   "cell_type": "code",
   "execution_count": null,
   "id": "1ee0faf8",
   "metadata": {},
   "outputs": [],
   "source": []
  },
  {
   "cell_type": "code",
   "execution_count": null,
   "id": "4e973cb8",
   "metadata": {},
   "outputs": [],
   "source": []
  },
  {
   "cell_type": "code",
   "execution_count": null,
   "id": "2d3b472f",
   "metadata": {},
   "outputs": [],
   "source": []
  },
  {
   "cell_type": "code",
   "execution_count": null,
   "id": "0da1e2e9",
   "metadata": {},
   "outputs": [],
   "source": [
    "def encode(s):\n",
    "    \n",
    "    i = 0\n",
    "    t = ''\n",
    "    while i < len(s):\n",
    "        if s[i].isupper():\n",
    "            t += 'U'\n",
    "        elif s[i].islower():\n",
    "            t += 'L'\n",
    "        elif s[i].isdigit():\n",
    "            t += 'D'\n",
    "        else:\n",
    "            t += 'O'\n",
    "        i += 1\n",
    "        \n",
    "    return t\n",
    "\n",
    "def short_encode(s):\n",
    "    i = 0\n",
    "    s = encode(s)\n",
    "    curr = ''\n",
    "    t = ''\n",
    "    \n",
    "    while i < len(s):\n",
    "        if curr != s[i]:\n",
    "            t += s[i]\n",
    "            curr = s[i]\n",
    "        \n",
    "        i += 1\n",
    "    return t\n",
    "\n",
    "def score_sus_email(s):\n",
    "\n",
    "    email_input = s\n",
    "    email_input = email_input.split('@')[0]\n",
    "    \n",
    "    pat_count_digit = encode(email_input).count('D')\n",
    "    pat_encode = short_encode(email_input)\n",
    "    \n",
    "    if pat_encode == 'LD' and pat_count_digit >= 4:\n",
    "        return 1\n",
    "    elif pat_encode == 'D':\n",
    "        return 1\n",
    "    return 0\n",
    "    \n",
    "score_sus_email('123312313@gmail.com')"
   ]
  },
  {
   "cell_type": "code",
   "execution_count": null,
   "id": "d99c8baf",
   "metadata": {},
   "outputs": [],
   "source": []
  },
  {
   "cell_type": "code",
   "execution_count": null,
   "id": "d7f0b957",
   "metadata": {},
   "outputs": [],
   "source": []
  },
  {
   "cell_type": "code",
   "execution_count": null,
   "id": "b4745beb",
   "metadata": {},
   "outputs": [],
   "source": []
  },
  {
   "cell_type": "code",
   "execution_count": null,
   "id": "a203cf5d",
   "metadata": {},
   "outputs": [],
   "source": [
    "# from gibberish_detector import detector\n",
    "\n",
    "# path_detector_indo = '/home/server/gli-data-science/akhiyar/alfagift_alert/gibberish-detector/indo_news.model'\n",
    "# Detector = detector.create_from_model(\n",
    "#     path_detector_indo\n",
    "# )\n",
    "\n",
    "# def score_gibberish(input_email):\n",
    "#     split_email = input_email.split('@')[0]\n",
    "    \n",
    "#     flag_gibberish1 = False\n",
    "    \n",
    "#     try:\n",
    "#         if Detector.is_gibberish(split_email):\n",
    "#             flag_gibberish1 = True\n",
    "#     except Exception as e:\n",
    "#         pass\n",
    "\n",
    "\n",
    "#     if flag_gibberish1:\n",
    "#         return 1\n",
    "#     else:\n",
    "#         return 0\n",
    "\n",
    "# email = 'qywyeqeyqw123@gmail.com'\n",
    "# score_gibberish(email)"
   ]
  },
  {
   "cell_type": "code",
   "execution_count": null,
   "id": "3e47969b",
   "metadata": {},
   "outputs": [],
   "source": [
    "from gibberish_detector import detector\n",
    "\n",
    "path_detector_indo = '/home/server/gli-data-science/akhiyar/alfagift_alert/gibberish-detector/indo_news.model.test'\n",
    "Detector = detector.create_from_model(\n",
    "    path_detector_indo\n",
    ")\n",
    "\n",
    "def score_gibberish(input_email):\n",
    "    split_email = input_email.split('@')[0]\n",
    "    \n",
    "    score_gib = Detector.calculate_probability_of_being_gibberish(split_email)\n",
    "    \n",
    "    return score_gib\n",
    "\n",
    "email = 'fadmawdwa@gmail.com'\n",
    "score_gibberish(email)\n",
    "\n"
   ]
  },
  {
   "cell_type": "code",
   "execution_count": null,
   "id": "da976304",
   "metadata": {},
   "outputs": [],
   "source": []
  },
  {
   "cell_type": "code",
   "execution_count": null,
   "id": "1f531bd8",
   "metadata": {},
   "outputs": [],
   "source": []
  },
  {
   "cell_type": "code",
   "execution_count": null,
   "id": "53b2fde1",
   "metadata": {},
   "outputs": [],
   "source": [
    "alfagift_member = pd.read_json('/home/server/mongo_export/alfagift_member_01jan22.json',\n",
    "                              dtype='object')\n",
    "alfagift_member['sapa'] = alfagift_member['sapa'].fillna('-')\n",
    "alfagift_member['sapa'] = alfagift_member['sapa'].apply(lambda x: x.get('store_code') \\\n",
    "                                                        if x != '-' else '-')\n",
    "alfagift_member['sapa'] = alfagift_member['sapa'].apply(lambda x: '-' \\\n",
    "                                                        if x == '' else x)\n",
    "\n",
    "alfagift_member['created_at'] = alfagift_member['created_at'].fillna('2019-01-01T23:08:53.393Z')\n",
    "alfagift_member['created_at'] = alfagift_member['created_at'].apply(lambda x: x.get('$date') \\\n",
    "                                                                    if type(x) != str else x)\n",
    "\n",
    "# alfagift_member = alfagift_member[['account_card', 'sapa', 'created_at']]\n",
    "alfagift_member['sapa'] = alfagift_member['sapa'].apply(lambda x: 'sapa' if x != '-' else 'not_sapa')\n",
    "\n",
    "alfagift_member['created_at_d'] = pd.to_datetime(alfagift_member['created_at']).dt.strftime(\"%Y-%m-%d\")\n",
    "alfagift_member['created_at_m'] = pd.to_datetime(alfagift_member['created_at']).dt.strftime(\"%Y-%m\")\n",
    "\n",
    "alfagift_member['account_card'] = alfagift_member['account_card'].astype('str')"
   ]
  },
  {
   "cell_type": "code",
   "execution_count": null,
   "id": "4ce8e65c",
   "metadata": {},
   "outputs": [],
   "source": [
    "# alfagift_member_sel = alfagift_member[(alfagift_member['created_at_m'] == '2022-01') |\n",
    "#                                       (alfagift_member['created_at_m'] == '2022-02') |\n",
    "#                                       (alfagift_member['created_at_m'] == '2022-03') |\n",
    "#                                       (alfagift_member['created_at_m'] == '2022-04') ]\n",
    "# alfagift_member_sel['created_at_d'] = pd.to_datetime(alfagift_member_sel['created_at']).dt.strftime(\"%Y-%m-%d\")\n",
    "\n",
    "# alfagift_member_sel = alfagift_member.copy()"
   ]
  },
  {
   "cell_type": "code",
   "execution_count": null,
   "id": "5a256d55",
   "metadata": {},
   "outputs": [],
   "source": []
  },
  {
   "cell_type": "code",
   "execution_count": null,
   "id": "a0d6b6b0",
   "metadata": {},
   "outputs": [],
   "source": [
    "### creating label for training set\n",
    "\n",
    "\n",
    "li_sus = []\n",
    "for dr in pd.date_range('2021-12-01', '2022-04-20', freq='D'):\n",
    "    sel_created = dr.strftime(\"%Y-%m-%d\")\n",
    "\n",
    "    alfagift_member_sel_d = alfagift_member[alfagift_member['created_at_d'] == sel_created]\n",
    "    #print(alfagift_member_sel_d.shape)\n",
    "\n",
    "\n",
    "    ## suspect by IP\n",
    "    alfagift_member_sel_d_ip = alfagift_member_sel_d.groupby(['createdFromIp'])\\\n",
    "                            .agg(createdFromIp_count=('createdFromIp','count'))\n",
    "    alfagift_member_sel_d_ip = alfagift_member_sel_d_ip[\n",
    "        alfagift_member_sel_d_ip['createdFromIp_count'] >= 5].reset_index()\n",
    "\n",
    "    sus_by_ip = pd.merge(alfagift_member_sel_d_ip, alfagift_member_sel_d, on='createdFromIp', how='left')\n",
    "\n",
    "    ## suspect by phone\n",
    "    alfagift_member_sel_d['phone_sub'] =  alfagift_member_sel_d['phone'].str[0:9]\n",
    "    alfagift_member_sel_d_phone = alfagift_member_sel_d.groupby(['phone_sub'])\\\n",
    "                                .agg(createdFromIp_count=('phone_sub','count'))\n",
    "    alfagift_member_sel_d_phone = alfagift_member_sel_d_phone[\n",
    "        alfagift_member_sel_d_phone['createdFromIp_count'] >= 5].reset_index()\n",
    "\n",
    "    sus_by_phone = pd.merge(alfagift_member_sel_d_phone, alfagift_member_sel_d, on='phone_sub', how='left')\n",
    "\n",
    "    \n",
    "    alfagift_member_sel_d['score_gibberish'] = alfagift_member_sel_d['email'].apply(score_gibberish)\n",
    "    \n",
    "    \n",
    "    ## saving by concating suspect aspect\n",
    "    sus_all = pd.concat([\n",
    "        sus_by_ip[['account_card','email','phone']], \n",
    "        sus_by_phone[['account_card','email','phone']],\n",
    "        alfagift_member_sel_d[alfagift_member_sel_d['member_status'] == 27][['account_card','email']],\n",
    "        alfagift_member_sel_d[alfagift_member_sel_d['score_gibberish'] > 4][['account_card','email']]\n",
    "    ], axis=0)\\\n",
    "        .drop_duplicates()\n",
    "    \n",
    "    sus_all = sus_all[~sus_all['email'].str.contains('deliverysapa', case=False)]\n",
    "    sus_all = sus_all[['account_card','phone','email']]\n",
    "    \n",
    "    \n",
    "    ## inserting into table to check transaction\n",
    "    df = sus_all[['account_card']]\n",
    "\n",
    "    engine = create_engine(engine_stmt)\n",
    "\n",
    "\n",
    "    dtyp = {c:types.VARCHAR(df[c].str.len().max()) for c in df.columns[df.dtypes == 'object'].tolist()}\n",
    "    df.to_sql('temp_sus_member', engine, index=False, \n",
    "                                          if_exists=\"replace\", dtype=dtyp)\n",
    "    \n",
    "    \n",
    "    q = '''\n",
    "    \n",
    "        SELECT \n",
    "            rto.TRO_DATE, rto.TRO_PONTA_ID\n",
    "        FROM \n",
    "            temp_sus_member tsm\n",
    "            INNER JOIN RPT_TRANS_OSHOP rto\n",
    "            ON rto.TRO_PONTA_ID = tsm.ACCOUNT_CARD \n",
    "    \n",
    "    '''\n",
    "    con_alfabi = engine.connect()\n",
    "    df_exclude = pd.read_sql_query(q, con_alfabi)\n",
    "    df_exclude_g =  df_exclude.groupby('tro_ponta_id').agg(tro_date_count=('tro_date','nunique'))\n",
    "    df_exclude_g = df_exclude_g[df_exclude_g['tro_date_count'] >2].reset_index()\n",
    "\n",
    "    \n",
    "    con_alfabi.close()\n",
    "    \n",
    "    sus_all = sus_all[~sus_all['account_card'].isin(df_exclude_g['tro_ponta_id'])]\n",
    "    ### end inserting into table to check transaction\n",
    "    li_sus.append(sus_all)\n",
    "\n",
    "\n",
    "    #break\n",
    "    sus_all.to_csv(\n",
    "        '/home/server/gli-data-science/akhiyar/alfagift_alert/suspect_fraud/sus_{}'.format(sel_created)\n",
    "    )\n",
    "\n",
    "    \n",
    "\n",
    "df_sus_all = pd.concat(li_sus).drop_duplicates()\n",
    "df_sus_all.to_csv(\n",
    "    '/home/server/gli-data-science/akhiyar/alfagift_alert/suspect_fraud/sus_all_exclude_trx.csv', index=False)"
   ]
  },
  {
   "cell_type": "code",
   "execution_count": null,
   "id": "7150afdd",
   "metadata": {},
   "outputs": [],
   "source": [
    "# alfagift_member_sel_d[alfagift_member_sel_d['score_gibberish'] > 3.8]"
   ]
  },
  {
   "cell_type": "code",
   "execution_count": null,
   "id": "6c837c1b",
   "metadata": {},
   "outputs": [],
   "source": []
  },
  {
   "cell_type": "code",
   "execution_count": null,
   "id": "8d8be551",
   "metadata": {},
   "outputs": [],
   "source": []
  },
  {
   "cell_type": "code",
   "execution_count": null,
   "id": "1df7987d",
   "metadata": {
    "scrolled": false
   },
   "outputs": [],
   "source": []
  },
  {
   "cell_type": "code",
   "execution_count": null,
   "id": "f3c16cbe",
   "metadata": {},
   "outputs": [],
   "source": []
  },
  {
   "cell_type": "code",
   "execution_count": null,
   "id": "381dde9b",
   "metadata": {},
   "outputs": [],
   "source": []
  },
  {
   "cell_type": "code",
   "execution_count": null,
   "id": "c1e2e44b",
   "metadata": {},
   "outputs": [],
   "source": []
  },
  {
   "cell_type": "code",
   "execution_count": null,
   "id": "d892d597",
   "metadata": {},
   "outputs": [],
   "source": [
    "string1 = \"santi78951321santi\"\n",
    "string2 = [\"santi12344\", \"aaaasanti\"]\n",
    "\n",
    "\n",
    "def seq_match(string1, li_string):\n",
    "    # match = SequenceMatcher(None, string1, string2).find_longest_match()\n",
    "    \n",
    "#     sum_score = 0\n",
    "    match_start = 0\n",
    "    match_end = 0\n",
    "    for string2 in li_string:\n",
    "        match = SequenceMatcher(None, string1, string2).find_longest_match(0, len(string1), 0, len(string2))\n",
    "\n",
    "#         print(match)  # -> Match(a=0, b=15, size=9)\n",
    "        \n",
    "        if match.size >= 3:\n",
    "\n",
    "\n",
    "            if ( string1.startswith(string1[match.a:match.a + match.size]) \n",
    "                and  string2.startswith(string2[match.b:match.b + match.size]) ) :\n",
    "#                 print('match in front')\n",
    "                \n",
    "                match_start += 1\n",
    "                \n",
    "            if ( string1.endswith(string1[match.a:match.a + match.size]) \n",
    "                and string2.endswith(string2[match.b:match.b + match.size]) ):\n",
    "#                 print('match in end')\n",
    "                \n",
    "                match_end += 1\n",
    "        \n",
    "#         print(match_start, match_end)\n",
    "#         if match_end or match_start:\n",
    "#             sum_score += 1\n",
    "        \n",
    "        \n",
    "    return match_start, match_end\n",
    "    \n",
    "# seq_match(string1, string2)\n",
    "\n",
    "\n",
    "# ### EXAMPLE USAGE OF sequence matcher\n",
    "\n",
    "# x = 'santi'\n",
    "# alfagift_member_test = alfagift_member_sel_d[(alfagift_member_sel_d['full_name'].str.startswith(x)) | \n",
    "#                          (alfagift_member_sel_d['full_name'].str.endswith(x))][['full_name']]\n",
    "\n",
    "# alfagift_member_test['full_name_sCount'], alfagift_member_test['full_name_eCount'] = zip(*alfagift_member_test['full_name']\\\n",
    "#         .apply(lambda x: seq_match(x, alfagift_member_test['full_name'])))\n",
    "\n",
    "# alfagift_member_test.head()\n",
    "\n",
    "\n",
    "def add_features(alfagift_member_sel_d):\n",
    "    \n",
    "    alfagift_member_sel_d['full_name_sCount'], alfagift_member_sel_d['full_name_eCount'] = \\\n",
    "            zip(*alfagift_member_sel_d['full_name']\\\n",
    "            .apply(lambda x: seq_match(x, alfagift_member_sel_d['full_name'])))\n",
    "    return alfagift_member_sel_d\n",
    "\n",
    "def parallelize_dataframe(df, func, n_cores=32):\n",
    "    df_split = np.array_split(df, n_cores)\n",
    "    pool = Pool(n_cores)\n",
    "    df = pd.concat(pool.map(func, df_split))\n",
    "    pool.close()\n",
    "    pool.join()\n",
    "    return df"
   ]
  },
  {
   "cell_type": "code",
   "execution_count": null,
   "id": "3ce73c2c",
   "metadata": {},
   "outputs": [],
   "source": []
  },
  {
   "cell_type": "code",
   "execution_count": null,
   "id": "38583c85",
   "metadata": {},
   "outputs": [],
   "source": [
    "# ## creating feature for training set\n",
    "\n",
    "\n",
    "# li_sus = []\n",
    "# for dr in pd.date_range('2021-12-01', '2022-04-20', freq='D'):\n",
    "#     sel_created = dr.strftime(\"%Y-%m-%d\")\n",
    "\n",
    "#     alfagift_member_sel_d = alfagift_member[alfagift_member['created_at_d'] == sel_created]\n",
    "#     # print(\"{} {}\".format(sel_created, alfagift_member_sel_d.shape))\n",
    "#     alfagift_member_sel_d['phone_sub'] =  alfagift_member_sel_d['phone'].str[0:9]\n",
    "#     alfagift_member_sel_d['full_name'] = alfagift_member_sel_d['full_name'].str.lower()\n",
    "    \n",
    "#     ## suspect by IP\n",
    "#     alfagift_member_sel_d_ip = alfagift_member_sel_d.groupby(['createdFromIp'])\\\n",
    "#                             .agg(createdFromIp_count=('createdFromIp','count'))\n",
    "\n",
    "#     alfagift_member_sel_d = pd.merge(alfagift_member_sel_d, \n",
    "#                                      alfagift_member_sel_d_ip,\n",
    "#                                      on='createdFromIp', how='left').fillna(0)\n",
    "\n",
    "#     ## suspect by phone\n",
    "#     alfagift_member_sel_d_phone = alfagift_member_sel_d.groupby(['phone_sub'])\\\n",
    "#                                 .agg(phoneSub_count=('phone_sub','count'))\n",
    "\n",
    "#     alfagift_member_sel_d = pd.merge(alfagift_member_sel_d, \n",
    "#                                      alfagift_member_sel_d_phone,\n",
    "#                                      on='phone_sub', how='left').fillna(0)\n",
    "    \n",
    "    \n",
    "#     alfagift_member_sel_d['score_gibberish'] = alfagift_member_sel_d['email'].apply(score_gibberish)\n",
    "#     alfagift_member_sel_d['score_sus_email'] = alfagift_member_sel_d['email'].apply(score_sus_email)\n",
    "    \n",
    "# #     alfagift_member_sel_d['nameMatch_count'] = alfagift_member_sel_d['full_name']\\\n",
    "# #     .apply(lambda x: len(process.extract(x, alfagift_member_sel_d['full_name'], \n",
    "# #             score_cutoff=70, limit=alfagift_member_sel_d.shape[0], scorer=fuzz.token_sort_ratio))-1)\n",
    " \n",
    "#     alfagift_member_sel_d = parallelize_dataframe(alfagift_member_sel_d, add_features)\n",
    "\n",
    "\n",
    "#     li_sus.append(alfagift_member_sel_d)\n",
    "#     alfagift_member_sel_d.to_csv(\n",
    "#     '/home/server/gli-data-science/akhiyar/alfagift_alert/suspect_fraud_feature/daily/{}'.format(sel_created))\n",
    "\n",
    "#     break\n",
    "\n",
    "# # df_sus_all = pd.concat(li_sus)\n",
    "# # df_sus_all.to_csv(\n",
    "# #     '/home/server/gli-data-science/akhiyar/alfagift_alert/suspect_fraud_feature/group_day/train_full_withname1.csv'\n",
    "# #     , index=False)"
   ]
  },
  {
   "cell_type": "code",
   "execution_count": null,
   "id": "bb9c6465",
   "metadata": {},
   "outputs": [],
   "source": [
    "alfagift_member_sel_d.head()"
   ]
  },
  {
   "cell_type": "code",
   "execution_count": null,
   "id": "5ae54cb8",
   "metadata": {},
   "outputs": [],
   "source": [
    "alfagift_member_sel_d.shape"
   ]
  },
  {
   "cell_type": "code",
   "execution_count": null,
   "id": "7b12a13c",
   "metadata": {},
   "outputs": [],
   "source": [
    "alfagift_member_sel_d.reset_index(drop=True).head()"
   ]
  },
  {
   "cell_type": "code",
   "execution_count": null,
   "id": "b51f76a5",
   "metadata": {},
   "outputs": [],
   "source": [
    "    alfagift_member_sel_d_ip = alfagift_member_sel_d.groupby(['createdFromIp'])\\\n",
    "                            .agg(createdFromIp_count=('createdFromIp','cumcount'))"
   ]
  },
  {
   "cell_type": "code",
   "execution_count": null,
   "id": "6b20318b",
   "metadata": {},
   "outputs": [],
   "source": [
    "alfagift_member_sel_d_ip.reset_index(drop=True).head()"
   ]
  },
  {
   "cell_type": "code",
   "execution_count": null,
   "id": "e5a741d7",
   "metadata": {},
   "outputs": [],
   "source": [
    "import time\n",
    "from timeit import default_timer as timer\n",
    "from multiprocessing import Pool, cpu_count\n",
    "\n",
    "def square(dr):\n",
    "\n",
    "\n",
    "    sel_created = dr.strftime(\"%Y-%m-%d\")\n",
    "\n",
    "    alfagift_member_sel_d = alfagift_member[alfagift_member['created_at_d'] == sel_created]\\\n",
    "                            .iloc[:,2:].reset_index(drop=True)\n",
    "    \n",
    "    \n",
    "    alfagift_member_sel_d['phone_sub'] =  alfagift_member_sel_d['phone'].str[0:9]\n",
    "    alfagift_member_sel_d['full_name'] = alfagift_member_sel_d['full_name'].str.lower()\n",
    "\n",
    "    ## suspect by IP\n",
    "    alfagift_member_sel_d_ip = alfagift_member_sel_d.groupby(['createdFromIp'])\\\n",
    "                            .agg(createdFromIp_count=('createdFromIp','cumcount')).reset_index(drop=True)\n",
    "\n",
    "    alfagift_member_sel_d = pd.concat([alfagift_member_sel_d, \n",
    "                                     alfagift_member_sel_d_ip]\n",
    "                                     ,axis=1)\n",
    "\n",
    "    ## suspect by phone\n",
    "    alfagift_member_sel_d_phone = alfagift_member_sel_d.groupby(['phone_sub'])\\\n",
    "                                .agg(phoneSub_count=('phone_sub','cumcount')).reset_index(drop=True)\n",
    "\n",
    "    alfagift_member_sel_d = pd.concat([alfagift_member_sel_d, \n",
    "                                     alfagift_member_sel_d_phone]\n",
    "                                     ,axis=1)\n",
    "    \n",
    "    \n",
    "    alfagift_member_sel_d['score_gibberish'] = alfagift_member_sel_d['email'].apply(score_gibberish)\n",
    "    alfagift_member_sel_d['score_sus_email'] = alfagift_member_sel_d['email'].apply(score_sus_email)\n",
    "    \n",
    "\n",
    "    li_name_count = []\n",
    "    for idx, row in alfagift_member_sel_d.iterrows():\n",
    "        cur_name = row['full_name']\n",
    "\n",
    "        compare_name = list(alfagift_member_sel_d.iloc[0:idx+1,:]['full_name'])\n",
    "\n",
    "\n",
    "        res_compare = seq_match(cur_name, compare_name)\n",
    "        li_name_count.append(res_compare)\n",
    "\n",
    "\n",
    "    df_count_name = pd.DataFrame(li_name_count, columns=['full_name_sCount', 'full_name_eCount'])\n",
    "    alfagift_member_sel_d = pd.concat([alfagift_member_sel_d, df_count_name], axis=1)\n",
    "\n",
    "    alfagift_member_sel_d.to_csv(\n",
    "    '/home/server/gli-data-science/akhiyar/alfagift_alert/suspect_fraud_feature/daily/{}'.format(sel_created))\n",
    "\n",
    "\n",
    "    return 0\n",
    "\n",
    "\n",
    "start = timer()\n",
    "\n",
    "print(f'starting computations on {cpu_count()} cores')\n",
    "\n",
    "values = pd.date_range('2021-12-30', '2022-04-20', freq='D')\n",
    "\n",
    "with Pool() as pool:\n",
    "    res = pool.map(square, values)\n",
    "    #print(res)\n",
    "\n",
    "end = timer()\n",
    "print(f'elapsed time: {end - start}')"
   ]
  },
  {
   "cell_type": "code",
   "execution_count": null,
   "id": "c2288d49",
   "metadata": {},
   "outputs": [],
   "source": [
    "from multiprocessing import Pool, cpu_count\n",
    "print(f'starting computations on {cpu_count()} cores')"
   ]
  },
  {
   "cell_type": "code",
   "execution_count": null,
   "id": "a42d6fb8",
   "metadata": {},
   "outputs": [],
   "source": [
    "## creating feature using cumulative\n",
    "\n",
    "\n",
    "\n"
   ]
  },
  {
   "cell_type": "code",
   "execution_count": null,
   "id": "7ed97cde",
   "metadata": {},
   "outputs": [],
   "source": [
    "# alfagift_member_sel_d_ip1 = alfagift_member_sel_d.groupby('createdFromIp').agg(createdFromIp_count=('createdFromIp','cumcount'))"
   ]
  },
  {
   "cell_type": "code",
   "execution_count": null,
   "id": "fe487284",
   "metadata": {},
   "outputs": [],
   "source": []
  },
  {
   "cell_type": "code",
   "execution_count": null,
   "id": "91c74141",
   "metadata": {},
   "outputs": [],
   "source": []
  },
  {
   "cell_type": "code",
   "execution_count": null,
   "id": "4ec7d55a",
   "metadata": {
    "scrolled": false
   },
   "outputs": [],
   "source": []
  },
  {
   "cell_type": "code",
   "execution_count": null,
   "id": "06b6f125",
   "metadata": {},
   "outputs": [],
   "source": []
  },
  {
   "cell_type": "code",
   "execution_count": null,
   "id": "8d8383c5",
   "metadata": {},
   "outputs": [],
   "source": []
  },
  {
   "cell_type": "code",
   "execution_count": null,
   "id": "a361d961",
   "metadata": {},
   "outputs": [],
   "source": []
  },
  {
   "cell_type": "code",
   "execution_count": null,
   "id": "de197274",
   "metadata": {},
   "outputs": [],
   "source": []
  },
  {
   "cell_type": "code",
   "execution_count": null,
   "id": "07ed301a",
   "metadata": {},
   "outputs": [],
   "source": [
    "# from datetime import datetime\n",
    "# start_time = datetime.now()\n",
    "\n",
    "# res = seq_match('akhiyar',list(alfagift_member_sel_d.iloc[:,:]['full_name']))\n",
    "# end_time = datetime.now()\n",
    "# print('Duration: {}'.format(end_time - start_time))"
   ]
  },
  {
   "cell_type": "code",
   "execution_count": null,
   "id": "49c53c07",
   "metadata": {},
   "outputs": [],
   "source": []
  },
  {
   "cell_type": "code",
   "execution_count": null,
   "id": "3d6b0be5",
   "metadata": {},
   "outputs": [],
   "source": []
  },
  {
   "cell_type": "code",
   "execution_count": null,
   "id": "902cecf6",
   "metadata": {},
   "outputs": [],
   "source": [
    "# # possible \n",
    "# ## need to check score\n",
    "# afghj56diskazani\n",
    "# afghj56rdiyanto\n",
    "# sfghj56upriyatno\n",
    "# dfghj56wiyanti\n",
    "# dfghj56wiyanti\n",
    "# wfgh568ahyusaputra"
   ]
  },
  {
   "cell_type": "code",
   "execution_count": null,
   "id": "6977fd05",
   "metadata": {},
   "outputs": [],
   "source": []
  },
  {
   "cell_type": "code",
   "execution_count": null,
   "id": "ae7bfafa",
   "metadata": {},
   "outputs": [],
   "source": []
  },
  {
   "cell_type": "code",
   "execution_count": null,
   "id": "053c38c3",
   "metadata": {},
   "outputs": [],
   "source": []
  },
  {
   "cell_type": "code",
   "execution_count": null,
   "id": "f49645ee",
   "metadata": {},
   "outputs": [],
   "source": []
  },
  {
   "cell_type": "code",
   "execution_count": null,
   "id": "51b1144a",
   "metadata": {},
   "outputs": [],
   "source": []
  },
  {
   "cell_type": "code",
   "execution_count": null,
   "id": "bf2ba180",
   "metadata": {},
   "outputs": [],
   "source": []
  },
  {
   "cell_type": "code",
   "execution_count": null,
   "id": "d53bdc25",
   "metadata": {
    "scrolled": false
   },
   "outputs": [],
   "source": []
  },
  {
   "cell_type": "code",
   "execution_count": null,
   "id": "380fe0ac",
   "metadata": {},
   "outputs": [],
   "source": []
  },
  {
   "cell_type": "code",
   "execution_count": null,
   "id": "dbbc5ffc",
   "metadata": {},
   "outputs": [],
   "source": []
  },
  {
   "cell_type": "code",
   "execution_count": null,
   "id": "c150043f",
   "metadata": {},
   "outputs": [],
   "source": []
  },
  {
   "cell_type": "code",
   "execution_count": null,
   "id": "90b3771c",
   "metadata": {},
   "outputs": [],
   "source": []
  },
  {
   "cell_type": "code",
   "execution_count": null,
   "id": "6cf41810",
   "metadata": {},
   "outputs": [],
   "source": [
    "virgo_abuseinject = pd.read_excel(\n",
    "    '/home/server/gli-data-science/ferina/Virgo_Abuse.xlsx'\n",
    "    ,dtype=object,sheet_name='Inject', names=['account_card'])\n",
    "# virgo_abuseuse = pd.read_excel(\n",
    "#     '/home/server/gli-data-science/ferina/Virgo_Abuse.xlsx'\n",
    "#     ,dtype=object,sheet_name='Use', names=['account_card'])\n",
    "\n",
    "## load feature and label \n",
    "df_sus_all = pd.read_csv(\n",
    "    '/home/server/gli-data-science/akhiyar/alfagift_alert/suspect_fraud_feature/group_day/train_full_withname1.csv'\n",
    "    , dtype='object')\n",
    "# df_sus_all = df_sus_all[(df_sus_all['created_at_d'] >= '2021-12-01') \n",
    "#                         & (df_sus_all['created_at_d'] <= '2022-04-17')]\n",
    "\n",
    "\n",
    "sus_label = pd.read_csv('./suspect_fraud/sus_all_exclude_trx.csv', dtype='object', usecols=[0])\n",
    "\n",
    "\n",
    "df_label = pd.concat([sus_label, virgo_abuseinject, virgo_abuseuse]).drop_duplicates()\n",
    "df_label['label'] = 1\n",
    "\n",
    "## merging feature with suspect label\n",
    "df_train = pd.merge(df_sus_all, df_label, on='account_card', how='left')\n",
    "df_train['label'] = df_train['label'].fillna(0)\n",
    "\n",
    "df_train['score_gibberish'] = df_train['score_gibberish'].astype(float).astype(int)\n",
    "df_train['score_sus_email'] = df_train['score_sus_email'].astype(int)\n",
    "df_train['createdFromIp_count'] = df_train['createdFromIp_count'].astype(int)\n",
    "df_train['phoneSub_count'] = df_train['phoneSub_count'].astype(int)\n",
    "df_train['full_name_sCount'] = df_train['full_name_sCount'].astype(int)\n",
    "df_train['full_name_eCount'] = df_train['full_name_eCount'].astype(int)"
   ]
  },
  {
   "cell_type": "code",
   "execution_count": null,
   "id": "e75269fc",
   "metadata": {},
   "outputs": [],
   "source": []
  },
  {
   "cell_type": "code",
   "execution_count": null,
   "id": "bdbd9394",
   "metadata": {
    "scrolled": false
   },
   "outputs": [],
   "source": []
  },
  {
   "cell_type": "code",
   "execution_count": null,
   "id": "0afecbc7",
   "metadata": {},
   "outputs": [],
   "source": []
  },
  {
   "cell_type": "code",
   "execution_count": null,
   "id": "24bba986",
   "metadata": {},
   "outputs": [],
   "source": []
  },
  {
   "cell_type": "code",
   "execution_count": null,
   "id": "c04d2c91",
   "metadata": {},
   "outputs": [],
   "source": []
  },
  {
   "cell_type": "code",
   "execution_count": null,
   "id": "ed63a3e5",
   "metadata": {},
   "outputs": [],
   "source": []
  },
  {
   "cell_type": "code",
   "execution_count": null,
   "id": "62680e0d",
   "metadata": {},
   "outputs": [],
   "source": [
    "wrap_col = [\n",
    "'score_gibberish',\n",
    "'score_sus_email',\n",
    "'createdFromIp_count',\n",
    "'phoneSub_count',\n",
    "'full_name_sCount',\n",
    "'full_name_eCount'\n",
    "]\n",
    "X = df_train[wrap_col]\n",
    "y = df_train[['label']]"
   ]
  },
  {
   "cell_type": "code",
   "execution_count": null,
   "id": "c3779176",
   "metadata": {},
   "outputs": [],
   "source": []
  },
  {
   "cell_type": "code",
   "execution_count": null,
   "id": "38a8d348",
   "metadata": {},
   "outputs": [],
   "source": [
    "#Initiating the Agglomerative Clustering model \n",
    "AC = KMeans(n_clusters=9, random_state=0)\n",
    "# AC = KModes(n_clusters=5, init='Huang', n_init=5, verbose=1)\n",
    "\n",
    "# fit model and predict clusters without PCA\n",
    "yhat_AC = AC.fit_predict(X)\n",
    "\n",
    "df_train[\"Clusters\"]= yhat_AC\n"
   ]
  },
  {
   "cell_type": "code",
   "execution_count": null,
   "id": "a7df8462",
   "metadata": {},
   "outputs": [],
   "source": [
    "df_train[\"Clusters\"].value_counts()"
   ]
  },
  {
   "cell_type": "code",
   "execution_count": null,
   "id": "5561d3b1",
   "metadata": {},
   "outputs": [],
   "source": []
  },
  {
   "cell_type": "code",
   "execution_count": null,
   "id": "5e457545",
   "metadata": {},
   "outputs": [],
   "source": [
    "df_train[df_train['Clusters'] == 8].iloc[:,15:-2]\\\n",
    ".describe()"
   ]
  },
  {
   "cell_type": "code",
   "execution_count": null,
   "id": "1101e1ba",
   "metadata": {},
   "outputs": [],
   "source": [
    "# df_train[(df_train['Clusters'] == 8)]['created_at_d'].value_counts()"
   ]
  },
  {
   "cell_type": "code",
   "execution_count": null,
   "id": "2e1ae1da",
   "metadata": {},
   "outputs": [],
   "source": [
    "df_train[(df_train['Clusters'] == 6) & (df_train['created_at_d'] > '2022-04-05')]"
   ]
  },
  {
   "cell_type": "code",
   "execution_count": null,
   "id": "a33ac654",
   "metadata": {},
   "outputs": [],
   "source": []
  },
  {
   "cell_type": "code",
   "execution_count": null,
   "id": "591c2325",
   "metadata": {},
   "outputs": [],
   "source": []
  },
  {
   "cell_type": "code",
   "execution_count": null,
   "id": "9c036e82",
   "metadata": {},
   "outputs": [],
   "source": []
  },
  {
   "cell_type": "code",
   "execution_count": null,
   "id": "ba850a2a",
   "metadata": {},
   "outputs": [],
   "source": [
    "# regressor = DecisionTreeClassifier(random_state=0, max_depth=4)\n",
    "# regressor.fit(X,y)\n",
    "\n",
    "\n",
    "# dump(regressor, './model/regis_dtree')\n",
    "# r = export_text(regressor, feature_names=list(X), decimals=0, spacing=6)\n",
    "# print(\"prediction rule \\n\\n{}\".format(r))"
   ]
  },
  {
   "cell_type": "code",
   "execution_count": null,
   "id": "eae8408b",
   "metadata": {},
   "outputs": [],
   "source": [
    "clf = LogisticRegression(random_state=0)\n",
    "clf.fit(X.values, y.values.ravel())\n",
    "dump(clf, './model/regis_logreg_withname1.pkl')"
   ]
  },
  {
   "cell_type": "code",
   "execution_count": null,
   "id": "8927795f",
   "metadata": {},
   "outputs": [],
   "source": [
    "X.values[3]"
   ]
  },
  {
   "cell_type": "code",
   "execution_count": null,
   "id": "9c4f1516",
   "metadata": {},
   "outputs": [],
   "source": []
  },
  {
   "cell_type": "code",
   "execution_count": null,
   "id": "bd906fdf",
   "metadata": {},
   "outputs": [],
   "source": [
    "li_input = [[\n",
    "    2,\n",
    "    0,\n",
    "    5,\n",
    "    0,\n",
    "    100,\n",
    "]]\n",
    "X_test = np.array(li_input)\n",
    "clf.predict_proba(X_test)"
   ]
  },
  {
   "cell_type": "code",
   "execution_count": null,
   "id": "d8ee4b71",
   "metadata": {},
   "outputs": [],
   "source": [
    "clf.coef_"
   ]
  },
  {
   "cell_type": "code",
   "execution_count": null,
   "id": "f1ad8147",
   "metadata": {},
   "outputs": [],
   "source": [
    "# ## for concating feature and bobot\n",
    "# pd.concat([pd.DataFrame(list(X), columns=['variabel']), \n",
    "#            pd.DataFrame(pd.Series(clf.coef_[0]), columns=['bobot'])], 1)\\\n",
    "# .append({'variabel':'intercept','bobot':clf.intercept_[0]},ignore_index=True)\n",
    "\n",
    "wrap_col = [\n",
    "'score_gibberish',\n",
    "'score_sus_email',\n",
    "'createdFromIp_count',\n",
    "'phoneSub_count',\n",
    "'full_name_sCount',\n",
    "# 'full_name_eCount'\n",
    "]\n",
    "res_pred = pd.concat([\n",
    "    pd.DataFrame(wrap_col, columns=['variabel']), \n",
    "    pd.DataFrame(clf.coef_[0], columns=['bobot']),\n",
    "    pd.DataFrame(X_test[0], columns=['feature'])      \n",
    "], 1)\n",
    "# res_pred['feature'] = res_pred['feature'].astype(int) \n",
    "# res_pred['b*f'] = res_pred['bobot'] * res_pred['feature']\n",
    "\n",
    "\n",
    "\n",
    "# dict_score_parameter = {}\n",
    "# for idx, row in res_pred.iterrows():\n",
    "#     dict_score_parameter[row['variabel']] = row['b*f']\n",
    "res_pred"
   ]
  },
  {
   "cell_type": "code",
   "execution_count": null,
   "id": "68115019",
   "metadata": {},
   "outputs": [],
   "source": []
  },
  {
   "cell_type": "code",
   "execution_count": null,
   "id": "14dc911c",
   "metadata": {},
   "outputs": [],
   "source": []
  },
  {
   "cell_type": "code",
   "execution_count": null,
   "id": "2467d542",
   "metadata": {},
   "outputs": [],
   "source": [
    "# model_clf = load('./model/regis_logreg.pkl')\n",
    "\n",
    "\n",
    "# X_test = pd.DataFrame()\n",
    "# X_test['score_gibberish'] = [1]\n",
    "# X_test['score_sus_email'] = [0]\n",
    "# X_test['createdFromIp_count'] = [0]\n",
    "# X_test['phoneSub_count'] = [0]\n",
    "\n",
    "# score = model_clf.predict_proba(X_test)\n",
    "# score[0][-1]\n",
    "\n",
    "\n",
    "# res_pred = pd.concat([\n",
    "#     pd.DataFrame(clf.feature_names_in_, columns=['variabel']), \n",
    "#     pd.DataFrame(clf.coef_[0], columns=['bobot']),\n",
    "#     pd.DataFrame(X_test.values[0], columns=['feature'])      \n",
    "# ], 1)\n",
    "# res_pred['b*f'] = res_pred['bobot'] * res_pred['feature']\n",
    "\n",
    "# dict_score_parameter = {}\n",
    "# for idx, row in res_pred.iterrows():\n",
    "#     dict_score_parameter[row['variabel']] = row['b*f']\n",
    "# dict_score_parameter"
   ]
  },
  {
   "cell_type": "code",
   "execution_count": null,
   "id": "2e4d1cb4",
   "metadata": {},
   "outputs": [],
   "source": []
  },
  {
   "cell_type": "code",
   "execution_count": null,
   "id": "e085ea4a",
   "metadata": {},
   "outputs": [],
   "source": []
  },
  {
   "cell_type": "code",
   "execution_count": null,
   "id": "99584e7d",
   "metadata": {},
   "outputs": [],
   "source": []
  },
  {
   "cell_type": "code",
   "execution_count": null,
   "id": "587e0024",
   "metadata": {},
   "outputs": [],
   "source": []
  },
  {
   "cell_type": "code",
   "execution_count": null,
   "id": "f1558b97",
   "metadata": {},
   "outputs": [],
   "source": []
  },
  {
   "cell_type": "code",
   "execution_count": null,
   "id": "2ff874af",
   "metadata": {},
   "outputs": [],
   "source": []
  },
  {
   "cell_type": "code",
   "execution_count": null,
   "id": "721dd421",
   "metadata": {},
   "outputs": [],
   "source": []
  },
  {
   "cell_type": "code",
   "execution_count": null,
   "id": "b89e0daf",
   "metadata": {},
   "outputs": [],
   "source": []
  },
  {
   "cell_type": "code",
   "execution_count": null,
   "id": "038bf3c1",
   "metadata": {},
   "outputs": [],
   "source": []
  },
  {
   "cell_type": "code",
   "execution_count": null,
   "id": "61f50fe7",
   "metadata": {},
   "outputs": [],
   "source": []
  }
 ],
 "metadata": {
  "kernelspec": {
   "display_name": "Python 3",
   "language": "python",
   "name": "python3"
  },
  "language_info": {
   "codemirror_mode": {
    "name": "ipython",
    "version": 3
   },
   "file_extension": ".py",
   "mimetype": "text/x-python",
   "name": "python",
   "nbconvert_exporter": "python",
   "pygments_lexer": "ipython3",
   "version": "3.8.5"
  }
 },
 "nbformat": 4,
 "nbformat_minor": 5
}
