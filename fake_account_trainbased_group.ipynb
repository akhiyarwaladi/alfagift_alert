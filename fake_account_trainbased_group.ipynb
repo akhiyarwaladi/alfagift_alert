{
 "cells": [
  {
   "cell_type": "code",
   "execution_count": 153,
   "id": "85554ae9",
   "metadata": {},
   "outputs": [
    {
     "name": "stdout",
     "output_type": "stream",
     "text": [
      "The autoreload extension is already loaded. To reload it, use:\n",
      "  %reload_ext autoreload\n"
     ]
    }
   ],
   "source": [
    "\n",
    "%load_ext autoreload\n",
    "%autoreload 2\n",
    "\n",
    "import warnings\n",
    "warnings.simplefilter(action='ignore', category=FutureWarning)\n",
    "\n",
    "import redis\n",
    "import json\n",
    "from pprint import pprint\n",
    "from joblib import dump, load\n",
    "\n",
    "import pymongo\n",
    "from datetime import datetime, timedelta, date\n",
    "import pandas as pd\n",
    "\n",
    "\n",
    "import numpy as np\n",
    "import pymongo\n",
    "import cx_Oracle\n",
    "import os\n",
    "import time\n",
    "import plotly.express as px\n",
    "\n",
    "from sklearn.tree import DecisionTreeClassifier\n",
    "from sklearn.tree import export_text\n",
    "from sklearn.linear_model import LogisticRegression\n",
    "\n",
    "\n",
    "pd.set_option('display.max_rows', None)\n",
    "pd.set_option('display.max_columns', None)\n",
    "pd.set_option('display.width', None)\n",
    "pd.set_option('display.max_colwidth', None)\n",
    "pd.set_option('display.float_format', lambda x: '%.2f' % x)\n",
    "pd.options.mode.chained_assignment = None  # default='warn'\n",
    "\n",
    "r = redis.Redis(host=\"127.0.0.1\", port=6379, db=0)"
   ]
  },
  {
   "cell_type": "code",
   "execution_count": null,
   "id": "d821b535",
   "metadata": {},
   "outputs": [],
   "source": []
  },
  {
   "cell_type": "code",
   "execution_count": 186,
   "id": "a56a5ce9",
   "metadata": {},
   "outputs": [
    {
     "name": "stdout",
     "output_type": "stream",
     "text": [
      "{'is_fraud': True,\n",
      " 'reason': ['Email kamu menggunakan pola tidak wajar'],\n",
      " 'score_final': 0.95919,\n",
      " 'score_parameter': {'createdFromIp_count': 0.0,\n",
      "                     'phoneSub_count': 0.0,\n",
      "                     'score_gibberish': 17.265420610526135,\n",
      "                     'score_sus_email': 0.0}}\n"
     ]
    }
   ],
   "source": [
    "from register_check_prod import RegisterCheck\n",
    "from pprint import pprint\n",
    "m = RegisterCheck()\n",
    "\n",
    "pprint(m.score_user('ttyytyttyty@gmail.com', '312312', '10.4.77.18', 'akhiyarwaladi'))"
   ]
  },
  {
   "cell_type": "code",
   "execution_count": null,
   "id": "5ad49ca3",
   "metadata": {},
   "outputs": [],
   "source": []
  },
  {
   "cell_type": "code",
   "execution_count": null,
   "id": "f69e266e",
   "metadata": {},
   "outputs": [],
   "source": []
  },
  {
   "cell_type": "code",
   "execution_count": 3,
   "id": "2fe3037f",
   "metadata": {},
   "outputs": [
    {
     "data": {
      "text/plain": [
       "1"
      ]
     },
     "execution_count": 3,
     "metadata": {},
     "output_type": "execute_result"
    }
   ],
   "source": [
    "def encode(s):\n",
    "    \n",
    "    i = 0\n",
    "    t = ''\n",
    "    while i < len(s):\n",
    "        if s[i].isupper():\n",
    "            t += 'U'\n",
    "        elif s[i].islower():\n",
    "            t += 'L'\n",
    "        elif s[i].isdigit():\n",
    "            t += 'D'\n",
    "        else:\n",
    "            t += 'O'\n",
    "        i += 1\n",
    "        \n",
    "    return t\n",
    "\n",
    "def short_encode(s):\n",
    "    i = 0\n",
    "    s = encode(s)\n",
    "    curr = ''\n",
    "    t = ''\n",
    "    \n",
    "    while i < len(s):\n",
    "        if curr != s[i]:\n",
    "            t += s[i]\n",
    "            curr = s[i]\n",
    "        \n",
    "        i += 1\n",
    "    return t\n",
    "\n",
    "def score_sus_email(s):\n",
    "\n",
    "    email_input = s\n",
    "    email_input = email_input.split('@')[0]\n",
    "    \n",
    "    \n",
    "    \n",
    "    pat_count_digit = encode(email_input).count('D')\n",
    "    pat_encode = short_encode(email_input)\n",
    "    \n",
    "    if pat_encode == 'LD' and pat_count_digit >= 4:\n",
    "        return 1\n",
    "    elif pat_encode == 'D':\n",
    "        return 1\n",
    "    return 0\n",
    "    \n",
    "score_sus_email('123312313@gmail.com')"
   ]
  },
  {
   "cell_type": "code",
   "execution_count": null,
   "id": "8ed6acc4",
   "metadata": {},
   "outputs": [],
   "source": []
  },
  {
   "cell_type": "code",
   "execution_count": null,
   "id": "95cba4c5",
   "metadata": {
    "scrolled": false
   },
   "outputs": [],
   "source": []
  },
  {
   "cell_type": "code",
   "execution_count": null,
   "id": "9ec381f5",
   "metadata": {},
   "outputs": [],
   "source": []
  },
  {
   "cell_type": "code",
   "execution_count": null,
   "id": "db0dbad7",
   "metadata": {},
   "outputs": [],
   "source": []
  },
  {
   "cell_type": "code",
   "execution_count": null,
   "id": "5ab6b930",
   "metadata": {},
   "outputs": [],
   "source": [
    "from gibberish_detector import detector\n",
    "\n",
    "path_detector_indo = '/home/server/gli-data-science/akhiyar/alfagift_alert/gibberish-detector/indo_news.model'\n",
    "Detector = detector.create_from_model(\n",
    "    path_detector_indo\n",
    ")\n",
    "from nostril import nonsense\n",
    "\n",
    "\n",
    "def score_gibberish(input_email):\n",
    "    split_email = input_email.split('@')[0]\n",
    "    #print(split_email)\n",
    "\n",
    "    flag_gibberish1 = False\n",
    "    \n",
    "    try:\n",
    "        if Detector.is_gibberish(split_email):\n",
    "            flag_gibberish1 = True\n",
    "    except Exception as e:\n",
    "        pass\n",
    "    \n",
    "    flag_gibberish2 = False\n",
    "    \n",
    "    try:\n",
    "        if nonsense(split_email):\n",
    "            flag_gibberish2 = True\n",
    "    except Exception as e:\n",
    "        pass\n",
    "\n",
    "\n",
    "    if flag_gibberish1 and flag_gibberish2:\n",
    "        return 1\n",
    "    else:\n",
    "        return 0\n",
    "\n",
    "email = 'qywyeqeyqw123@gmail.com'\n",
    "score_gibberish(email)"
   ]
  },
  {
   "cell_type": "code",
   "execution_count": null,
   "id": "57421583",
   "metadata": {},
   "outputs": [],
   "source": []
  },
  {
   "cell_type": "code",
   "execution_count": null,
   "id": "1f1a0e0f",
   "metadata": {},
   "outputs": [],
   "source": []
  },
  {
   "cell_type": "code",
   "execution_count": null,
   "id": "177bf208",
   "metadata": {},
   "outputs": [],
   "source": []
  },
  {
   "cell_type": "code",
   "execution_count": null,
   "id": "27d8f714",
   "metadata": {},
   "outputs": [],
   "source": [
    "alfagift_member = pd.read_json('/home/server/mongo_export/alfagift_member_01jan22.json',\n",
    "                              dtype='object')\n",
    "alfagift_member['sapa'] = alfagift_member['sapa'].fillna('-')\n",
    "alfagift_member['sapa'] = alfagift_member['sapa'].apply(lambda x: x.get('store_code') \\\n",
    "                                                        if x != '-' else '-')\n",
    "alfagift_member['sapa'] = alfagift_member['sapa'].apply(lambda x: '-' \\\n",
    "                                                        if x == '' else x)\n",
    "\n",
    "alfagift_member['created_at'] = alfagift_member['created_at'].fillna('2019-01-01T23:08:53.393Z')\n",
    "alfagift_member['created_at'] = alfagift_member['created_at'].apply(lambda x: x.get('$date') \\\n",
    "                                                                    if type(x) != str else x)\n",
    "\n",
    "# alfagift_member = alfagift_member[['account_card', 'sapa', 'created_at']]\n",
    "alfagift_member['sapa'] = alfagift_member['sapa'].apply(lambda x: 'sapa' if x != '-' else 'not_sapa')\n",
    "\n",
    "alfagift_member['created_at_d'] = pd.to_datetime(alfagift_member['created_at']).dt.strftime(\"%Y-%m-%d\")\n",
    "alfagift_member['created_at_m'] = pd.to_datetime(alfagift_member['created_at']).dt.strftime(\"%Y-%m\")\n",
    "\n",
    "alfagift_member['account_card'] = alfagift_member['account_card'].astype('str')"
   ]
  },
  {
   "cell_type": "code",
   "execution_count": null,
   "id": "5ccbe2bf",
   "metadata": {},
   "outputs": [],
   "source": [
    "# alfagift_member_sel = alfagift_member[(alfagift_member['created_at_m'] == '2022-01') |\n",
    "#                                       (alfagift_member['created_at_m'] == '2022-02') |\n",
    "#                                       (alfagift_member['created_at_m'] == '2022-03') |\n",
    "#                                       (alfagift_member['created_at_m'] == '2022-04') ]\n",
    "# alfagift_member_sel['created_at_d'] = pd.to_datetime(alfagift_member_sel['created_at']).dt.strftime(\"%Y-%m-%d\")\n",
    "\n",
    "alfagift_member_sel = alfagift_member.copy()"
   ]
  },
  {
   "cell_type": "code",
   "execution_count": null,
   "id": "857e01b7",
   "metadata": {},
   "outputs": [],
   "source": []
  },
  {
   "cell_type": "code",
   "execution_count": null,
   "id": "9450f800",
   "metadata": {},
   "outputs": [],
   "source": [
    "### creating label for training set\n",
    "\n",
    "\n",
    "li_sus = []\n",
    "for dr in pd.date_range('2022-01-01', '2022-04-17', freq='D'):\n",
    "    sel_created = dr.strftime(\"%Y-%m-%d\")\n",
    "\n",
    "    alfagift_member_sel_d = alfagift_member_sel[alfagift_member_sel['created_at_d'] == sel_created]\n",
    "    #print(alfagift_member_sel_d.shape)\n",
    "\n",
    "\n",
    "    ## suspect by IP\n",
    "    alfagift_member_sel_d_ip = alfagift_member_sel_d.groupby(['createdFromIp'])\\\n",
    "                            .agg(createdFromIp_count=('createdFromIp','count'))\n",
    "    alfagift_member_sel_d_ip = alfagift_member_sel_d_ip[\n",
    "        alfagift_member_sel_d_ip['createdFromIp_count'] >= 5].reset_index()\n",
    "\n",
    "    sus_by_ip = pd.merge(alfagift_member_sel_d_ip, alfagift_member_sel_d, on='createdFromIp', how='left')\n",
    "\n",
    "    ## suspect by phone\n",
    "    alfagift_member_sel_d['phone_sub'] =  alfagift_member_sel_d['phone'].str[0:9]\n",
    "    alfagift_member_sel_d_phone = alfagift_member_sel_d.groupby(['phone_sub'])\\\n",
    "                                .agg(createdFromIp_count=('phone_sub','count'))\n",
    "    alfagift_member_sel_d_phone = alfagift_member_sel_d_phone[\n",
    "        alfagift_member_sel_d_phone['createdFromIp_count'] >= 5].reset_index()\n",
    "\n",
    "    sus_by_phone = pd.merge(alfagift_member_sel_d_phone, alfagift_member_sel_d, on='phone_sub', how='left')\n",
    "\n",
    "    \n",
    "    \n",
    "    alfagift_member_sel_d['score_gibberish'] = alfagift_member_sel_d['email'].apply(score_gibberish)\n",
    "    \n",
    "    \n",
    "    \n",
    "    ## saving by concating suspect aspect\n",
    "    sus_all = pd.concat([\n",
    "        sus_by_ip[['account_card','email','phone']], \n",
    "        sus_by_phone[['account_card','email','phone']],\n",
    "        alfagift_member_sel_d[alfagift_member_sel_d['member_status'] == 27][['account_card','email']],\n",
    "        alfagift_member_sel_d[alfagift_member_sel_d['score_gibberish'] == 1][['account_card','email']]\n",
    "    ], axis=0)\\\n",
    "        .drop_duplicates()\n",
    "    \n",
    "    sus_all = sus_all[~sus_all['email'].str.contains('deliverysapa', case=False)]\n",
    "    sus_all = sus_all[['account_card','phone','email']]\n",
    "    \n",
    "    \n",
    "    \n",
    "    li_sus.append(sus_all)\n",
    "#     sus_all.to_csv(\n",
    "#         '/home/server/gli-data-science/akhiyar/alfagift_alert/suspect_fraud/sus_{}'.format(sel_created)\n",
    "#     )\n",
    "\n",
    "    #break\n",
    "\n",
    "df_sus_all = pd.concat(li_sus).drop_duplicates()\n",
    "df_sus_all.to_csv(\n",
    "    '/home/server/gli-data-science/akhiyar/alfagift_alert/suspect_fraud/sus_all1.csv', index=False)"
   ]
  },
  {
   "cell_type": "code",
   "execution_count": null,
   "id": "2c773d22",
   "metadata": {
    "scrolled": false
   },
   "outputs": [],
   "source": []
  },
  {
   "cell_type": "code",
   "execution_count": null,
   "id": "36671b91",
   "metadata": {},
   "outputs": [],
   "source": [
    "### checking\n",
    "# alfagift_member_sel_d[alfagift_member_sel_d['score_gibberish'] == 1].head(100)"
   ]
  },
  {
   "cell_type": "code",
   "execution_count": null,
   "id": "87a31537",
   "metadata": {},
   "outputs": [],
   "source": []
  },
  {
   "cell_type": "code",
   "execution_count": null,
   "id": "b587c897",
   "metadata": {},
   "outputs": [],
   "source": []
  },
  {
   "cell_type": "code",
   "execution_count": null,
   "id": "082c4f69",
   "metadata": {},
   "outputs": [],
   "source": []
  },
  {
   "cell_type": "code",
   "execution_count": null,
   "id": "539e5534",
   "metadata": {},
   "outputs": [],
   "source": []
  },
  {
   "cell_type": "code",
   "execution_count": null,
   "id": "3918da5b",
   "metadata": {},
   "outputs": [],
   "source": []
  },
  {
   "cell_type": "code",
   "execution_count": null,
   "id": "1fa096d0",
   "metadata": {},
   "outputs": [],
   "source": [
    "## creating feature for training set\n",
    "\n",
    "\n",
    "li_sus = []\n",
    "for dr in pd.date_range('2022-01-01', '2022-04-17', freq='D'):\n",
    "    sel_created = dr.strftime(\"%Y-%m-%d\")\n",
    "\n",
    "    alfagift_member_sel_d = alfagift_member_sel[alfagift_member_sel['created_at_d'] == sel_created]\n",
    "    print(\"{} {}\".format(sel_created, alfagift_member_sel_d.shape))\n",
    "\n",
    "\n",
    "    ## suspect by IP\n",
    "    alfagift_member_sel_d_ip = alfagift_member_sel_d.groupby(['createdFromIp'])\\\n",
    "                            .agg(createdFromIp_count=('createdFromIp','count'))\n",
    "#     alfagift_member_sel_d_ip = alfagift_member_sel_d_ip[\n",
    "#         alfagift_member_sel_d_ip['createdFromIp_count'] >= 5].reset_index()\n",
    "\n",
    "    alfagift_member_sel_d = pd.merge(alfagift_member_sel_d, \n",
    "                                     alfagift_member_sel_d_ip,\n",
    "                                     on='createdFromIp', how='left').fillna(0)\n",
    "\n",
    "    ## suspect by phone\n",
    "    alfagift_member_sel_d['phone_sub'] =  alfagift_member_sel_d['phone'].str[0:9]\n",
    "    alfagift_member_sel_d_phone = alfagift_member_sel_d.groupby(['phone_sub'])\\\n",
    "                                .agg(phoneSub_count=('phone_sub','count'))\n",
    "#     alfagift_member_sel_d_phone = alfagift_member_sel_d_phone[\n",
    "#         alfagift_member_sel_d_phone['phoneSub_count'] >= 5].reset_index()\n",
    "\n",
    "    \n",
    "    \n",
    "    alfagift_member_sel_d = pd.merge(alfagift_member_sel_d, \n",
    "                                     alfagift_member_sel_d_phone,\n",
    "                                     on='phone_sub', how='left').fillna(0)\n",
    "    \n",
    "    \n",
    "    alfagift_member_sel_d['score_gibberish'] = alfagift_member_sel_d['email'].apply(score_gibberish)\n",
    "    alfagift_member_sel_d['score_sus_email'] = alfagift_member_sel_d['email'].apply(score_sus_email)\n",
    "    \n",
    "\n",
    "    li_sus.append(alfagift_member_sel_d)\n",
    "#     alfagift_member_sel_d.to_csv(\n",
    "#     '/home/server/gli-data-science/akhiyar/alfagift_alert/suspect_fraud_feature/daily/{}'.format(sel_created))\n",
    "\n",
    "    #break\n",
    "\n",
    "df_sus_all = pd.concat(li_sus)\n",
    "df_sus_all.to_csv(\n",
    "    '/home/server/gli-data-science/akhiyar/alfagift_alert/suspect_fraud_feature/group_day/train_full.csv'\n",
    "    , index=False)"
   ]
  },
  {
   "cell_type": "code",
   "execution_count": null,
   "id": "7b1bc70d",
   "metadata": {},
   "outputs": [],
   "source": []
  },
  {
   "cell_type": "code",
   "execution_count": 7,
   "id": "749c8e58",
   "metadata": {},
   "outputs": [],
   "source": [
    "## load feature and label \n",
    "df_sus_all = pd.read_csv(\n",
    "    '/home/server/gli-data-science/akhiyar/alfagift_alert/suspect_fraud_feature/group_day/train_full.csv'\n",
    "    , dtype='object')\n",
    "df_label = pd.read_csv('./suspect_fraud/sus_all1.csv', dtype='object')\n",
    "df_label['label'] = 1\n",
    "\n",
    "## merging feature with suspect label\n",
    "df_train = pd.merge(df_sus_all, df_label, on='account_card', how='left')\n",
    "df_train['label'] = df_train['label'].fillna(0)"
   ]
  },
  {
   "cell_type": "code",
   "execution_count": null,
   "id": "a64775f6",
   "metadata": {
    "scrolled": false
   },
   "outputs": [],
   "source": [
    "# df_train[df_train['label'] == 1].head(100)"
   ]
  },
  {
   "cell_type": "code",
   "execution_count": null,
   "id": "ad439dfb",
   "metadata": {},
   "outputs": [],
   "source": []
  },
  {
   "cell_type": "code",
   "execution_count": null,
   "id": "5c5b8fbf",
   "metadata": {},
   "outputs": [],
   "source": []
  },
  {
   "cell_type": "code",
   "execution_count": null,
   "id": "21412e67",
   "metadata": {},
   "outputs": [],
   "source": []
  },
  {
   "cell_type": "code",
   "execution_count": null,
   "id": "1c3875e2",
   "metadata": {},
   "outputs": [],
   "source": []
  },
  {
   "cell_type": "code",
   "execution_count": 113,
   "id": "0c3e7d99",
   "metadata": {},
   "outputs": [],
   "source": [
    "wrap_col = [\n",
    "'score_gibberish',\n",
    "'score_sus_email',\n",
    "'createdFromIp_count',\n",
    "'phoneSub_count',\n",
    "\n",
    "]\n",
    "X = df_train[wrap_col]\n",
    "y = df_train[['label']]"
   ]
  },
  {
   "cell_type": "code",
   "execution_count": null,
   "id": "015a121e",
   "metadata": {},
   "outputs": [],
   "source": []
  },
  {
   "cell_type": "code",
   "execution_count": null,
   "id": "74ba67d3",
   "metadata": {},
   "outputs": [],
   "source": [
    "regressor = DecisionTreeClassifier(random_state=0, max_depth=4)\n",
    "regressor.fit(X,y)\n",
    "\n",
    "\n",
    "dump(regressor, './model/regis_dtree')\n",
    "r = export_text(regressor, feature_names=list(X), decimals=0, spacing=6)\n",
    "print(\"prediction rule \\n\\n{}\".format(r))"
   ]
  },
  {
   "cell_type": "code",
   "execution_count": 115,
   "id": "1a093bf8",
   "metadata": {},
   "outputs": [
    {
     "data": {
      "text/plain": [
       "['./model/regis_logreg']"
      ]
     },
     "execution_count": 115,
     "metadata": {},
     "output_type": "execute_result"
    }
   ],
   "source": [
    "clf = LogisticRegression(random_state=0)\n",
    "clf.fit(X.values, y.values)\n",
    "dump(clf, './model/regis_logreg')"
   ]
  },
  {
   "cell_type": "code",
   "execution_count": 146,
   "id": "16538cf1",
   "metadata": {},
   "outputs": [],
   "source": [
    "li_input = [[\n",
    "    0,\n",
    "    0,\n",
    "    0,\n",
    "    0\n",
    "]]\n",
    "X_test = np.array(li_input)"
   ]
  },
  {
   "cell_type": "code",
   "execution_count": 147,
   "id": "32dd8bf0",
   "metadata": {},
   "outputs": [
    {
     "data": {
      "text/plain": [
       "array([[9.99999264e-01, 7.35613103e-07]])"
      ]
     },
     "execution_count": 147,
     "metadata": {},
     "output_type": "execute_result"
    }
   ],
   "source": [
    "clf.predict_proba(X_test)"
   ]
  },
  {
   "cell_type": "code",
   "execution_count": 141,
   "id": "2a4538a0",
   "metadata": {},
   "outputs": [],
   "source": [
    "# ## for concating feature and bobot\n",
    "# pd.concat([pd.DataFrame(list(X), columns=['variabel']), \n",
    "#            pd.DataFrame(pd.Series(clf.coef_[0]), columns=['bobot'])], 1)\\\n",
    "# .append({'variabel':'intercept','bobot':clf.intercept_[0]},ignore_index=True)\n",
    "\n",
    "li_param = [\n",
    "'score_gibberish',\n",
    "'score_sus_email',\n",
    "'createdFromIp_count',\n",
    "'phoneSub_count']\n",
    "res_pred = pd.concat([\n",
    "    pd.DataFrame(li_param, columns=['variabel']), \n",
    "    pd.DataFrame(clf.coef_[0], columns=['bobot']),\n",
    "    pd.DataFrame(X.values[0], columns=['feature'])      \n",
    "], 1)\n",
    "res_pred['feature'] = res_pred['feature'].astype(int) \n",
    "res_pred['b*f'] = res_pred['bobot'] * res_pred['feature']\n",
    "\n",
    "\n",
    "\n",
    "dict_score_parameter = {}\n",
    "for idx, row in res_pred.iterrows():\n",
    "    dict_score_parameter[row['variabel']] = row['b*f']"
   ]
  },
  {
   "cell_type": "code",
   "execution_count": 142,
   "id": "ef2836e3",
   "metadata": {},
   "outputs": [
    {
     "data": {
      "text/plain": [
       "{'score_gibberish': 0.0,\n",
       " 'score_sus_email': 0.0,\n",
       " 'createdFromIp_count': 2.324759483436851,\n",
       " 'phoneSub_count': 2.2593141249243263}"
      ]
     },
     "execution_count": 142,
     "metadata": {},
     "output_type": "execute_result"
    }
   ],
   "source": [
    "dict_score_parameter"
   ]
  },
  {
   "cell_type": "code",
   "execution_count": null,
   "id": "4f125b76",
   "metadata": {},
   "outputs": [],
   "source": []
  },
  {
   "cell_type": "code",
   "execution_count": null,
   "id": "9ca6b7aa",
   "metadata": {},
   "outputs": [],
   "source": [
    "model_clf = load('./model/regis_logreg')"
   ]
  },
  {
   "cell_type": "code",
   "execution_count": null,
   "id": "0cb2652a",
   "metadata": {},
   "outputs": [],
   "source": []
  },
  {
   "cell_type": "code",
   "execution_count": null,
   "id": "fe83ba75",
   "metadata": {},
   "outputs": [],
   "source": [
    "\n",
    "\n",
    "X_test = pd.DataFrame()\n",
    "X_test['score_gibberish'] = [1]\n",
    "X_test['score_sus_email'] = [0]\n",
    "X_test['createdFromIp_count'] = [0]\n",
    "X_test['phoneSub_count'] = [0]\n",
    "\n",
    "score = model_clf.predict_proba(X_test)\n",
    "score[0][-1]"
   ]
  },
  {
   "cell_type": "code",
   "execution_count": null,
   "id": "4bee5399",
   "metadata": {},
   "outputs": [],
   "source": [
    "res_pred = pd.concat([\n",
    "    pd.DataFrame(clf.feature_names_in_, columns=['variabel']), \n",
    "    pd.DataFrame(clf.coef_[0], columns=['bobot']),\n",
    "    pd.DataFrame(X_test.values[0], columns=['feature'])      \n",
    "], 1)\n",
    "res_pred['b*f'] = res_pred['bobot'] * res_pred['feature']\n",
    "\n",
    "dict_score_parameter = {}\n",
    "for idx, row in res_pred.iterrows():\n",
    "    dict_score_parameter[row['variabel']] = row['b*f']\n",
    "dict_score_parameter"
   ]
  },
  {
   "cell_type": "code",
   "execution_count": null,
   "id": "aea2d983",
   "metadata": {},
   "outputs": [],
   "source": []
  },
  {
   "cell_type": "code",
   "execution_count": null,
   "id": "8f4866b5",
   "metadata": {},
   "outputs": [],
   "source": []
  },
  {
   "cell_type": "code",
   "execution_count": null,
   "id": "394cab56",
   "metadata": {},
   "outputs": [],
   "source": []
  },
  {
   "cell_type": "code",
   "execution_count": null,
   "id": "41e31e67",
   "metadata": {},
   "outputs": [],
   "source": [
    "{\n",
    "    is_fraud:1,\n",
    "    score_final:x\n",
    "    score_parameter:[\n",
    "        \n",
    "    ],\n",
    "    reason:[\n",
    "        perparameter\n",
    "    ]\n",
    "}"
   ]
  },
  {
   "cell_type": "code",
   "execution_count": null,
   "id": "596195fc",
   "metadata": {},
   "outputs": [],
   "source": []
  },
  {
   "cell_type": "code",
   "execution_count": null,
   "id": "d0cb6efb",
   "metadata": {},
   "outputs": [],
   "source": []
  },
  {
   "cell_type": "code",
   "execution_count": null,
   "id": "bcea4e40",
   "metadata": {},
   "outputs": [],
   "source": []
  }
 ],
 "metadata": {
  "kernelspec": {
   "display_name": "Python 3",
   "language": "python",
   "name": "python3"
  },
  "language_info": {
   "codemirror_mode": {
    "name": "ipython",
    "version": 3
   },
   "file_extension": ".py",
   "mimetype": "text/x-python",
   "name": "python",
   "nbconvert_exporter": "python",
   "pygments_lexer": "ipython3",
   "version": "3.8.5"
  }
 },
 "nbformat": 4,
 "nbformat_minor": 5
}
