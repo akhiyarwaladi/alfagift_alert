{
 "cells": [
  {
   "cell_type": "code",
   "execution_count": 7,
   "id": "92465d0f",
   "metadata": {},
   "outputs": [
    {
     "name": "stdout",
     "output_type": "stream",
     "text": [
      "The autoreload extension is already loaded. To reload it, use:\n",
      "  %reload_ext autoreload\n"
     ]
    }
   ],
   "source": [
    "\n",
    "%load_ext autoreload\n",
    "%autoreload 2\n",
    "\n",
    "import warnings\n",
    "warnings.simplefilter(action='ignore', category=FutureWarning)\n",
    "\n",
    "import redis\n",
    "import json\n",
    "from pprint import pprint\n",
    "from joblib import dump, load\n",
    "\n",
    "import pymongo\n",
    "from datetime import datetime, timedelta, date\n",
    "import pandas as pd\n",
    "from multiprocessing import Pool\n",
    "\n",
    "import numpy as np\n",
    "import pymongo\n",
    "import cx_Oracle\n",
    "import os\n",
    "import time\n",
    "import plotly.express as px\n",
    "\n",
    "from sklearn.tree import DecisionTreeClassifier\n",
    "from sklearn.tree import export_text\n",
    "from sklearn.linear_model import LogisticRegression, Lasso, RidgeClassifier\n",
    "from rapidfuzz import process, fuzz\n",
    "from sklearn.neural_network import MLPClassifier\n",
    "\n",
    "from difflib import SequenceMatcher\n",
    "from sklearn.cluster import KMeans\n",
    "\n",
    "pd.set_option('display.max_rows', None)\n",
    "pd.set_option('display.max_columns', None)\n",
    "pd.set_option('display.width', None)\n",
    "pd.set_option('display.max_colwidth', None)\n",
    "pd.set_option('display.float_format', lambda x: '%.2f' % x)\n",
    "pd.options.mode.chained_assignment = None  # default='warn'\n",
    "\n",
    "\n",
    "\n",
    "from sqlalchemy import event,create_engine,types\n",
    "driver = 'cx_oracle'\n",
    "server = '10.234.152.61' \n",
    "database = 'alfabi' \n",
    "username = 'report' \n",
    "password = 'justd0it'\n",
    "engine_stmt = \"oracle://%s:%s@%s/%s\" % (username, password, server, database )"
   ]
  },
  {
   "cell_type": "code",
   "execution_count": null,
   "id": "55bfdb9c",
   "metadata": {},
   "outputs": [],
   "source": []
  },
  {
   "cell_type": "code",
   "execution_count": null,
   "id": "1578b0a2",
   "metadata": {},
   "outputs": [],
   "source": [
    "from itertools import zip_longest\n",
    "\n",
    "r = redis.Redis(host=\"10.25.4.67\", port=6379, db=0)\n",
    "\n",
    "    \n",
    "# iterate a list in batches of size n\n",
    "def batcher(iterable, n):\n",
    "    args = [iter(iterable)] * n\n",
    "    return zip_longest(*args)\n",
    "\n",
    "# # in batches of 500 delete keys matching :*\n",
    "# for keybatch in batcher(r.scan_iter('otp_ip_devicemodel:*'),500):\n",
    "#     r.delete(*keybatch)\n",
    "# # in batches of 500 delete keys matching :*\n",
    "# for keybatch in batcher(r.scan_iter('otp_ip_devicemodel_prefix_phone:*'),500):\n",
    "#     r.delete(*keybatch)\n",
    "\n",
    "\n",
    "\n",
    "for i in r.scan_iter('otp_ip_deviceid:*'):\n",
    "    r.delete(i)\n",
    "for i in r.scan_iter('otp_ip_devicemodel:*'):\n",
    "    r.delete(i)\n",
    "for i in r.scan_iter('otp_phone_deviceid:*'):\n",
    "    r.delete(i)\n",
    "    \n",
    "for i in r.scan_iter('regis_ip:*'):\n",
    "    r.delete(i)\n",
    "for i in r.scan_iter('regis_prefixphone:*'):\n",
    "    r.delete(i)\n",
    "for i in r.scan_iter('regis_name:*'):\n",
    "    r.delete(i)"
   ]
  },
  {
   "cell_type": "code",
   "execution_count": null,
   "id": "2dd3f47a",
   "metadata": {},
   "outputs": [],
   "source": []
  },
  {
   "cell_type": "code",
   "execution_count": null,
   "id": "babc19c5",
   "metadata": {},
   "outputs": [],
   "source": []
  },
  {
   "cell_type": "code",
   "execution_count": null,
   "id": "74d53297",
   "metadata": {},
   "outputs": [],
   "source": [
    "# import redis\n",
    "\n",
    "# r_con = redis.Redis(host=\"10.25.4.67\", port=6379)\n",
    "# r_con.get('otp_ip_deviceid:0.0.0.221_27824e6d-b056-4bc1-847d-5c65f87f89bb')"
   ]
  },
  {
   "cell_type": "code",
   "execution_count": null,
   "id": "5eb1d09c",
   "metadata": {},
   "outputs": [],
   "source": []
  },
  {
   "cell_type": "code",
   "execution_count": null,
   "id": "4bb67ec9",
   "metadata": {},
   "outputs": [],
   "source": []
  },
  {
   "cell_type": "code",
   "execution_count": null,
   "id": "3a866dc6",
   "metadata": {},
   "outputs": [],
   "source": [
    "\n",
    "r_con = redis.Redis(host='10.25.4.67',port='6379')\n",
    "print(r_con.get(\"regis_ip:80.222.2.51\"))"
   ]
  },
  {
   "cell_type": "code",
   "execution_count": null,
   "id": "9300a228",
   "metadata": {},
   "outputs": [],
   "source": [
    "\n",
    "r_con = redis.Redis(host=\"10.25.4.67\", port=6379)\n",
    "print(r_con.get(\"regis_prefixphone:081289454\"))"
   ]
  },
  {
   "cell_type": "code",
   "execution_count": 3,
   "id": "99bec519",
   "metadata": {},
   "outputs": [
    {
     "name": "stdout",
     "output_type": "stream",
     "text": [
      "None\n"
     ]
    }
   ],
   "source": [
    "\n",
    "r_con = redis.Redis(host=\"10.25.4.67\", port=6379)\n",
    "print(r_con.get(\"otp_ip_deviceid:20.19.1.145  - aaaaaaaa-1c3a-4159-9a19-bbbbbbbbbbbb\"))"
   ]
  },
  {
   "cell_type": "code",
   "execution_count": null,
   "id": "09391268",
   "metadata": {},
   "outputs": [],
   "source": [
    "\n",
    "r_con = redis.Redis(host=\"10.25.4.67\", port=6379)\n",
    "print(r_con.get(\"otp_ip_devicemodel:10.4.76.177 - 18aea574-1c3a-4159-9a19-f1902c3c2565\"))"
   ]
  },
  {
   "cell_type": "code",
   "execution_count": null,
   "id": "eeee0a2c",
   "metadata": {},
   "outputs": [],
   "source": [
    "\n",
    "r_con = redis.Redis(host=\"10.25.4.67\", port=6379)\n",
    "print(r_con.get(\"otp_phone_deviceid:081289454 - 18aea574-1c3a-4159-9a19-f1902c3c2565\"))"
   ]
  },
  {
   "cell_type": "code",
   "execution_count": null,
   "id": "4fa737de",
   "metadata": {},
   "outputs": [],
   "source": []
  },
  {
   "cell_type": "code",
   "execution_count": null,
   "id": "ca3bd971",
   "metadata": {},
   "outputs": [],
   "source": [
    "r_con.get('otp_ip_devicemodel:{}'.format('20.19.1.145 - ROG GAMING'))"
   ]
  },
  {
   "cell_type": "code",
   "execution_count": null,
   "id": "d2af395c",
   "metadata": {},
   "outputs": [],
   "source": [
    "from register_check_prod import RegisterCheck\n",
    "from pprint import pprint\n",
    "m = RegisterCheck()\n",
    "\n",
    "\n",
    "import time\n",
    "start_time = time.time()\n",
    "pprint(m.score_user_registrasi('Tony_Mcneill7828@join.com', '1-033-021-8431', '80.222.2.51', 'adawdawddaw'))\n",
    "print(\"--- %s seconds ---\" % (time.time() - start_time))"
   ]
  },
  {
   "cell_type": "code",
   "execution_count": null,
   "id": "860bba4a",
   "metadata": {},
   "outputs": [],
   "source": []
  },
  {
   "cell_type": "code",
   "execution_count": null,
   "id": "382f8576",
   "metadata": {},
   "outputs": [],
   "source": [
    "\n"
   ]
  },
  {
   "cell_type": "code",
   "execution_count": 16,
   "id": "c4c71427",
   "metadata": {},
   "outputs": [
    {
     "name": "stdout",
     "output_type": "stream",
     "text": [
      "pair 1 20.19.1.145 - aaaaaaaa-1c3a-4159-9a19-bbbbbbbbbbbb\n",
      "pair 2 20.19.1.145 - ROG GAMING\n",
      "pair 3 099999999 - aaaaaaaa-1c3a-4159-9a19-bbbbbbbbbbbb\n",
      "score 1 b'13'\n",
      "score 2 b'13'\n",
      "score 3 b'5'\n",
      "{'is_fraud': True,\n",
      " 'reason': ['Unusual activity in your network'],\n",
      " 'score_final': 3.8000000000000003,\n",
      " 'score_parameter': {'ip_deviceid': 1.8,\n",
      "                     'ip_devicemodel': 1.8,\n",
      "                     'phone_deviceid': 0.2}}\n",
      "--- 0.05180168151855469 seconds ---\n"
     ]
    }
   ],
   "source": [
    "from register_check_prod import RegisterCheck\n",
    "from pprint import pprint\n",
    "m = RegisterCheck()\n",
    "\n",
    "import time\n",
    "start_time = time.time()\n",
    "pprint(m.score_user_otp(\"20.19.1.145\", \"aaaaaaaa-1c3a-4159-9a19-bbbbbbbbbbbb\", \"099999999123\", \"ROG GAMING\"))\n",
    "print(\"--- %s seconds ---\" % (time.time() - start_time))"
   ]
  },
  {
   "cell_type": "code",
   "execution_count": null,
   "id": "9746de3c",
   "metadata": {},
   "outputs": [],
   "source": []
  },
  {
   "cell_type": "code",
   "execution_count": null,
   "id": "01ea346e",
   "metadata": {},
   "outputs": [],
   "source": []
  },
  {
   "cell_type": "code",
   "execution_count": null,
   "id": "85422242",
   "metadata": {},
   "outputs": [],
   "source": []
  },
  {
   "cell_type": "code",
   "execution_count": null,
   "id": "6856a202",
   "metadata": {},
   "outputs": [],
   "source": []
  },
  {
   "cell_type": "code",
   "execution_count": null,
   "id": "8f8237e0",
   "metadata": {},
   "outputs": [],
   "source": [
    "def encode(s):\n",
    "    \n",
    "    i = 0\n",
    "    t = ''\n",
    "    while i < len(s):\n",
    "        if s[i].isupper():\n",
    "            t += 'U'\n",
    "        elif s[i].islower():\n",
    "            t += 'L'\n",
    "        elif s[i].isdigit():\n",
    "            t += 'D'\n",
    "        else:\n",
    "            t += 'O'\n",
    "        i += 1\n",
    "        \n",
    "    return t\n",
    "\n",
    "def short_encode(s):\n",
    "    i = 0\n",
    "    s = encode(s)\n",
    "    curr = ''\n",
    "    t = ''\n",
    "    \n",
    "    while i < len(s):\n",
    "        if curr != s[i]:\n",
    "            t += s[i]\n",
    "            curr = s[i]\n",
    "        \n",
    "        i += 1\n",
    "    return t\n",
    "\n",
    "def score_sus_email(s):\n",
    "\n",
    "    email_input = s\n",
    "    email_input = email_input.split('@')[0]\n",
    "    \n",
    "    pat_count_digit = encode(email_input).count('D')\n",
    "    pat_encode = short_encode(email_input)\n",
    "    \n",
    "    if pat_encode == 'LD' and pat_count_digit >= 4:\n",
    "        return 1\n",
    "    elif pat_encode == 'D':\n",
    "        return 1\n",
    "    return 0\n",
    "    \n",
    "score_sus_email('123312313@gmail.com')"
   ]
  },
  {
   "cell_type": "code",
   "execution_count": null,
   "id": "cf79b779",
   "metadata": {},
   "outputs": [],
   "source": []
  },
  {
   "cell_type": "code",
   "execution_count": null,
   "id": "eeaa9b73",
   "metadata": {
    "scrolled": false
   },
   "outputs": [],
   "source": []
  },
  {
   "cell_type": "code",
   "execution_count": null,
   "id": "b74065fb",
   "metadata": {},
   "outputs": [],
   "source": []
  },
  {
   "cell_type": "code",
   "execution_count": null,
   "id": "595086a6",
   "metadata": {},
   "outputs": [],
   "source": []
  },
  {
   "cell_type": "code",
   "execution_count": null,
   "id": "540a38a8",
   "metadata": {},
   "outputs": [],
   "source": []
  },
  {
   "cell_type": "code",
   "execution_count": null,
   "id": "e2ee972a",
   "metadata": {},
   "outputs": [],
   "source": [
    "# from gibberish_detector import detector\n",
    "\n",
    "# path_detector_indo = '/home/server/gli-data-science/akhiyar/alfagift_alert/gibberish-detector/indo_news.model'\n",
    "# Detector = detector.create_from_model(\n",
    "#     path_detector_indo\n",
    "# )\n",
    "\n",
    "# def score_gibberish(input_email):\n",
    "#     split_email = input_email.split('@')[0]\n",
    "    \n",
    "#     flag_gibberish1 = False\n",
    "    \n",
    "#     try:\n",
    "#         if Detector.is_gibberish(split_email):\n",
    "#             flag_gibberish1 = True\n",
    "#     except Exception as e:\n",
    "#         pass\n",
    "\n",
    "\n",
    "#     if flag_gibberish1:\n",
    "#         return 1\n",
    "#     else:\n",
    "#         return 0\n",
    "\n",
    "# email = 'qywyeqeyqw123@gmail.com'\n",
    "# score_gibberish(email)"
   ]
  },
  {
   "cell_type": "code",
   "execution_count": null,
   "id": "57257a57",
   "metadata": {},
   "outputs": [],
   "source": [
    "from gibberish_detector import detector\n",
    "\n",
    "path_detector_indo = '/home/server/gli-data-science/akhiyar/alfagift_alert/gibberish-detector/indo_news.model.test'\n",
    "Detector = detector.create_from_model(\n",
    "    path_detector_indo\n",
    ")\n",
    "\n",
    "def score_gibberish(input_email):\n",
    "    split_email = input_email.split('@')[0]\n",
    "    \n",
    "    score_gib = Detector.calculate_probability_of_being_gibberish(split_email)\n",
    "    \n",
    "    return score_gib\n",
    "\n",
    "email = 'fadmawdwa@gmail.com'\n",
    "score_gibberish(email)\n",
    "\n"
   ]
  },
  {
   "cell_type": "code",
   "execution_count": null,
   "id": "59ca609f",
   "metadata": {},
   "outputs": [],
   "source": []
  },
  {
   "cell_type": "code",
   "execution_count": null,
   "id": "79873197",
   "metadata": {},
   "outputs": [],
   "source": []
  },
  {
   "cell_type": "code",
   "execution_count": null,
   "id": "c63da9f2",
   "metadata": {},
   "outputs": [],
   "source": [
    "alfagift_member = pd.read_json('/home/server/mongo_export/alfagift_member_01jan22.json',\n",
    "                              dtype='object')\n",
    "alfagift_member['sapa'] = alfagift_member['sapa'].fillna('-')\n",
    "alfagift_member['sapa'] = alfagift_member['sapa'].apply(lambda x: x.get('store_code') \\\n",
    "                                                        if x != '-' else '-')\n",
    "alfagift_member['sapa'] = alfagift_member['sapa'].apply(lambda x: '-' \\\n",
    "                                                        if x == '' else x)\n",
    "\n",
    "alfagift_member['created_at'] = alfagift_member['created_at'].fillna('2019-01-01T23:08:53.393Z')\n",
    "alfagift_member['created_at'] = alfagift_member['created_at'].apply(lambda x: x.get('$date') \\\n",
    "                                                                    if type(x) != str else x)\n",
    "\n",
    "# alfagift_member = alfagift_member[['account_card', 'sapa', 'created_at']]\n",
    "alfagift_member['sapa'] = alfagift_member['sapa'].apply(lambda x: 'sapa' if x != '-' else 'not_sapa')\n",
    "\n",
    "alfagift_member['created_at_d'] = pd.to_datetime(alfagift_member['created_at']).dt.strftime(\"%Y-%m-%d\")\n",
    "alfagift_member['created_at_m'] = pd.to_datetime(alfagift_member['created_at']).dt.strftime(\"%Y-%m\")\n",
    "\n",
    "alfagift_member['account_card'] = alfagift_member['account_card'].astype('str')"
   ]
  },
  {
   "cell_type": "code",
   "execution_count": null,
   "id": "ea86b116",
   "metadata": {},
   "outputs": [],
   "source": [
    "# alfagift_member_sel = alfagift_member[(alfagift_member['created_at_m'] == '2022-01') |\n",
    "#                                       (alfagift_member['created_at_m'] == '2022-02') |\n",
    "#                                       (alfagift_member['created_at_m'] == '2022-03') |\n",
    "#                                       (alfagift_member['created_at_m'] == '2022-04') ]\n",
    "# alfagift_member_sel['created_at_d'] = pd.to_datetime(alfagift_member_sel['created_at']).dt.strftime(\"%Y-%m-%d\")\n",
    "\n",
    "# alfagift_member_sel = alfagift_member.copy()"
   ]
  },
  {
   "cell_type": "code",
   "execution_count": null,
   "id": "df24b78b",
   "metadata": {},
   "outputs": [],
   "source": []
  },
  {
   "cell_type": "code",
   "execution_count": null,
   "id": "3fd2a1df",
   "metadata": {},
   "outputs": [],
   "source": [
    "### creating label for training set\n",
    "\n",
    "\n",
    "li_sus = []\n",
    "for dr in pd.date_range('2021-12-01', '2022-04-20', freq='D'):\n",
    "    sel_created = dr.strftime(\"%Y-%m-%d\")\n",
    "\n",
    "    alfagift_member_sel_d = alfagift_member[alfagift_member['created_at_d'] == sel_created]\n",
    "    #print(alfagift_member_sel_d.shape)\n",
    "\n",
    "\n",
    "    ## suspect by IP\n",
    "    alfagift_member_sel_d_ip = alfagift_member_sel_d.groupby(['createdFromIp'])\\\n",
    "                            .agg(createdFromIp_count=('createdFromIp','count'))\n",
    "    alfagift_member_sel_d_ip = alfagift_member_sel_d_ip[\n",
    "        alfagift_member_sel_d_ip['createdFromIp_count'] >= 5].reset_index()\n",
    "\n",
    "    sus_by_ip = pd.merge(alfagift_member_sel_d_ip, alfagift_member_sel_d, on='createdFromIp', how='left')\n",
    "\n",
    "    ## suspect by phone\n",
    "    alfagift_member_sel_d['phone_sub'] =  alfagift_member_sel_d['phone'].str[0:9]\n",
    "    alfagift_member_sel_d_phone = alfagift_member_sel_d.groupby(['phone_sub'])\\\n",
    "                                .agg(createdFromIp_count=('phone_sub','count'))\n",
    "    alfagift_member_sel_d_phone = alfagift_member_sel_d_phone[\n",
    "        alfagift_member_sel_d_phone['createdFromIp_count'] >= 5].reset_index()\n",
    "\n",
    "    sus_by_phone = pd.merge(alfagift_member_sel_d_phone, alfagift_member_sel_d, on='phone_sub', how='left')\n",
    "\n",
    "    \n",
    "    alfagift_member_sel_d['score_gibberish'] = alfagift_member_sel_d['email'].apply(score_gibberish)\n",
    "    \n",
    "    \n",
    "    ## saving by concating suspect aspect\n",
    "    sus_all = pd.concat([\n",
    "        sus_by_ip[['account_card','email','phone']], \n",
    "        sus_by_phone[['account_card','email','phone']],\n",
    "        alfagift_member_sel_d[alfagift_member_sel_d['member_status'] == 27][['account_card','email']],\n",
    "        alfagift_member_sel_d[alfagift_member_sel_d['score_gibberish'] > 4][['account_card','email']]\n",
    "    ], axis=0)\\\n",
    "        .drop_duplicates()\n",
    "    \n",
    "    sus_all = sus_all[~sus_all['email'].str.contains('deliverysapa', case=False)]\n",
    "    sus_all = sus_all[['account_card','phone','email']]\n",
    "    \n",
    "    \n",
    "    ## inserting into table to check transaction\n",
    "    df = sus_all[['account_card']]\n",
    "\n",
    "    engine = create_engine(engine_stmt)\n",
    "\n",
    "\n",
    "    dtyp = {c:types.VARCHAR(df[c].str.len().max()) for c in df.columns[df.dtypes == 'object'].tolist()}\n",
    "    df.to_sql('temp_sus_member', engine, index=False, \n",
    "                                          if_exists=\"replace\", dtype=dtyp)\n",
    "    \n",
    "    \n",
    "    q = '''\n",
    "    \n",
    "        SELECT \n",
    "            rto.TRO_DATE, rto.TRO_PONTA_ID\n",
    "        FROM \n",
    "            temp_sus_member tsm\n",
    "            INNER JOIN RPT_TRANS_OSHOP rto\n",
    "            ON rto.TRO_PONTA_ID = tsm.ACCOUNT_CARD \n",
    "    \n",
    "    '''\n",
    "    con_alfabi = engine.connect()\n",
    "    df_exclude = pd.read_sql_query(q, con_alfabi)\n",
    "    df_exclude_g =  df_exclude.groupby('tro_ponta_id').agg(tro_date_count=('tro_date','nunique'))\n",
    "    df_exclude_g = df_exclude_g[df_exclude_g['tro_date_count'] >2].reset_index()\n",
    "\n",
    "    \n",
    "    con_alfabi.close()\n",
    "    \n",
    "    sus_all = sus_all[~sus_all['account_card'].isin(df_exclude_g['tro_ponta_id'])]\n",
    "    ### end inserting into table to check transaction\n",
    "    li_sus.append(sus_all)\n",
    "\n",
    "\n",
    "    #break\n",
    "    sus_all.to_csv(\n",
    "        '/home/server/gli-data-science/akhiyar/alfagift_alert/suspect_fraud/sus_{}'.format(sel_created)\n",
    "    )\n",
    "\n",
    "    \n",
    "\n",
    "df_sus_all = pd.concat(li_sus).drop_duplicates()\n",
    "df_sus_all.to_csv(\n",
    "    '/home/server/gli-data-science/akhiyar/alfagift_alert/suspect_fraud/sus_all_exclude_trx.csv', index=False)"
   ]
  },
  {
   "cell_type": "code",
   "execution_count": null,
   "id": "0061f2f4",
   "metadata": {},
   "outputs": [],
   "source": [
    "# alfagift_member_sel_d[alfagift_member_sel_d['score_gibberish'] > 3.8]"
   ]
  },
  {
   "cell_type": "code",
   "execution_count": null,
   "id": "40815abc",
   "metadata": {},
   "outputs": [],
   "source": []
  },
  {
   "cell_type": "code",
   "execution_count": null,
   "id": "69b82ae5",
   "metadata": {},
   "outputs": [],
   "source": []
  },
  {
   "cell_type": "code",
   "execution_count": null,
   "id": "ddf1ee11",
   "metadata": {
    "scrolled": false
   },
   "outputs": [],
   "source": []
  },
  {
   "cell_type": "code",
   "execution_count": null,
   "id": "1c8d0cec",
   "metadata": {},
   "outputs": [],
   "source": []
  },
  {
   "cell_type": "code",
   "execution_count": null,
   "id": "15fa1181",
   "metadata": {},
   "outputs": [],
   "source": []
  },
  {
   "cell_type": "code",
   "execution_count": null,
   "id": "91c94e15",
   "metadata": {},
   "outputs": [],
   "source": []
  },
  {
   "cell_type": "code",
   "execution_count": null,
   "id": "d5b657ef",
   "metadata": {},
   "outputs": [],
   "source": [
    "string1 = \"santi78951321santi\"\n",
    "string2 = [\"santi12344\", \"aaaasanti\"]\n",
    "\n",
    "\n",
    "def seq_match(string1, li_string):\n",
    "    # match = SequenceMatcher(None, string1, string2).find_longest_match()\n",
    "    \n",
    "#     sum_score = 0\n",
    "    match_start = 0\n",
    "    match_end = 0\n",
    "    for string2 in li_string:\n",
    "        match = SequenceMatcher(None, string1, string2).find_longest_match(0, len(string1), 0, len(string2))\n",
    "\n",
    "#         print(match)  # -> Match(a=0, b=15, size=9)\n",
    "        \n",
    "        if match.size >= 3:\n",
    "\n",
    "\n",
    "            if ( string1.startswith(string1[match.a:match.a + match.size]) \n",
    "                and  string2.startswith(string2[match.b:match.b + match.size]) ) :\n",
    "#                 print('match in front')\n",
    "                \n",
    "                match_start += 1\n",
    "                \n",
    "            if ( string1.endswith(string1[match.a:match.a + match.size]) \n",
    "                and string2.endswith(string2[match.b:match.b + match.size]) ):\n",
    "#                 print('match in end')\n",
    "                \n",
    "                match_end += 1\n",
    "        \n",
    "#         print(match_start, match_end)\n",
    "#         if match_end or match_start:\n",
    "#             sum_score += 1\n",
    "        \n",
    "        \n",
    "    return match_start, match_end\n",
    "    \n",
    "# seq_match(string1, string2)\n",
    "\n",
    "\n",
    "# ### EXAMPLE USAGE OF sequence matcher\n",
    "\n",
    "# x = 'santi'\n",
    "# alfagift_member_test = alfagift_member_sel_d[(alfagift_member_sel_d['full_name'].str.startswith(x)) | \n",
    "#                          (alfagift_member_sel_d['full_name'].str.endswith(x))][['full_name']]\n",
    "\n",
    "# alfagift_member_test['full_name_sCount'], alfagift_member_test['full_name_eCount'] = zip(*alfagift_member_test['full_name']\\\n",
    "#         .apply(lambda x: seq_match(x, alfagift_member_test['full_name'])))\n",
    "\n",
    "# alfagift_member_test.head()\n",
    "\n",
    "\n",
    "def add_features(alfagift_member_sel_d):\n",
    "    \n",
    "    alfagift_member_sel_d['full_name_sCount'], alfagift_member_sel_d['full_name_eCount'] = \\\n",
    "            zip(*alfagift_member_sel_d['full_name']\\\n",
    "            .apply(lambda x: seq_match(x, alfagift_member_sel_d['full_name'])))\n",
    "    return alfagift_member_sel_d\n",
    "\n",
    "def parallelize_dataframe(df, func, n_cores=32):\n",
    "    df_split = np.array_split(df, n_cores)\n",
    "    pool = Pool(n_cores)\n",
    "    df = pd.concat(pool.map(func, df_split))\n",
    "    pool.close()\n",
    "    pool.join()\n",
    "    return df"
   ]
  },
  {
   "cell_type": "code",
   "execution_count": null,
   "id": "7bc35cdd",
   "metadata": {},
   "outputs": [],
   "source": []
  },
  {
   "cell_type": "code",
   "execution_count": null,
   "id": "9c7a8635",
   "metadata": {},
   "outputs": [],
   "source": [
    "# ## creating feature for training set\n",
    "\n",
    "\n",
    "# li_sus = []\n",
    "# for dr in pd.date_range('2021-12-01', '2022-04-20', freq='D'):\n",
    "#     sel_created = dr.strftime(\"%Y-%m-%d\")\n",
    "\n",
    "#     alfagift_member_sel_d = alfagift_member[alfagift_member['created_at_d'] == sel_created]\n",
    "#     # print(\"{} {}\".format(sel_created, alfagift_member_sel_d.shape))\n",
    "#     alfagift_member_sel_d['phone_sub'] =  alfagift_member_sel_d['phone'].str[0:9]\n",
    "#     alfagift_member_sel_d['full_name'] = alfagift_member_sel_d['full_name'].str.lower()\n",
    "    \n",
    "#     ## suspect by IP\n",
    "#     alfagift_member_sel_d_ip = alfagift_member_sel_d.groupby(['createdFromIp'])\\\n",
    "#                             .agg(createdFromIp_count=('createdFromIp','count'))\n",
    "\n",
    "#     alfagift_member_sel_d = pd.merge(alfagift_member_sel_d, \n",
    "#                                      alfagift_member_sel_d_ip,\n",
    "#                                      on='createdFromIp', how='left').fillna(0)\n",
    "\n",
    "#     ## suspect by phone\n",
    "#     alfagift_member_sel_d_phone = alfagift_member_sel_d.groupby(['phone_sub'])\\\n",
    "#                                 .agg(phoneSub_count=('phone_sub','count'))\n",
    "\n",
    "#     alfagift_member_sel_d = pd.merge(alfagift_member_sel_d, \n",
    "#                                      alfagift_member_sel_d_phone,\n",
    "#                                      on='phone_sub', how='left').fillna(0)\n",
    "    \n",
    "    \n",
    "#     alfagift_member_sel_d['score_gibberish'] = alfagift_member_sel_d['email'].apply(score_gibberish)\n",
    "#     alfagift_member_sel_d['score_sus_email'] = alfagift_member_sel_d['email'].apply(score_sus_email)\n",
    "    \n",
    "# #     alfagift_member_sel_d['nameMatch_count'] = alfagift_member_sel_d['full_name']\\\n",
    "# #     .apply(lambda x: len(process.extract(x, alfagift_member_sel_d['full_name'], \n",
    "# #             score_cutoff=70, limit=alfagift_member_sel_d.shape[0], scorer=fuzz.token_sort_ratio))-1)\n",
    " \n",
    "#     alfagift_member_sel_d = parallelize_dataframe(alfagift_member_sel_d, add_features)\n",
    "\n",
    "\n",
    "#     li_sus.append(alfagift_member_sel_d)\n",
    "#     alfagift_member_sel_d.to_csv(\n",
    "#     '/home/server/gli-data-science/akhiyar/alfagift_alert/suspect_fraud_feature/daily/{}'.format(sel_created))\n",
    "\n",
    "#     break\n",
    "\n",
    "# # df_sus_all = pd.concat(li_sus)\n",
    "# # df_sus_all.to_csv(\n",
    "# #     '/home/server/gli-data-science/akhiyar/alfagift_alert/suspect_fraud_feature/group_day/train_full_withname1.csv'\n",
    "# #     , index=False)"
   ]
  },
  {
   "cell_type": "code",
   "execution_count": null,
   "id": "eef3630e",
   "metadata": {},
   "outputs": [],
   "source": [
    "alfagift_member_sel_d.head()"
   ]
  },
  {
   "cell_type": "code",
   "execution_count": null,
   "id": "519aeaf5",
   "metadata": {},
   "outputs": [],
   "source": [
    "alfagift_member_sel_d.shape"
   ]
  },
  {
   "cell_type": "code",
   "execution_count": null,
   "id": "138cf906",
   "metadata": {},
   "outputs": [],
   "source": [
    "alfagift_member_sel_d.reset_index(drop=True).head()"
   ]
  },
  {
   "cell_type": "code",
   "execution_count": null,
   "id": "f36d51c7",
   "metadata": {},
   "outputs": [],
   "source": [
    "    alfagift_member_sel_d_ip = alfagift_member_sel_d.groupby(['createdFromIp'])\\\n",
    "                            .agg(createdFromIp_count=('createdFromIp','cumcount'))"
   ]
  },
  {
   "cell_type": "code",
   "execution_count": null,
   "id": "893fa63c",
   "metadata": {},
   "outputs": [],
   "source": [
    "alfagift_member_sel_d_ip.reset_index(drop=True).head()"
   ]
  },
  {
   "cell_type": "code",
   "execution_count": null,
   "id": "503b837f",
   "metadata": {},
   "outputs": [],
   "source": [
    "import time\n",
    "from timeit import default_timer as timer\n",
    "from multiprocessing import Pool, cpu_count\n",
    "\n",
    "def square(dr):\n",
    "\n",
    "\n",
    "    sel_created = dr.strftime(\"%Y-%m-%d\")\n",
    "\n",
    "    alfagift_member_sel_d = alfagift_member[alfagift_member['created_at_d'] == sel_created]\\\n",
    "                            .iloc[:,2:].reset_index(drop=True)\n",
    "    \n",
    "    \n",
    "    alfagift_member_sel_d['phone_sub'] =  alfagift_member_sel_d['phone'].str[0:9]\n",
    "    alfagift_member_sel_d['full_name'] = alfagift_member_sel_d['full_name'].str.lower()\n",
    "\n",
    "    ## suspect by IP\n",
    "    alfagift_member_sel_d_ip = alfagift_member_sel_d.groupby(['createdFromIp'])\\\n",
    "                            .agg(createdFromIp_count=('createdFromIp','cumcount')).reset_index(drop=True)\n",
    "\n",
    "    alfagift_member_sel_d = pd.concat([alfagift_member_sel_d, \n",
    "                                     alfagift_member_sel_d_ip]\n",
    "                                     ,axis=1)\n",
    "\n",
    "    ## suspect by phone\n",
    "    alfagift_member_sel_d_phone = alfagift_member_sel_d.groupby(['phone_sub'])\\\n",
    "                                .agg(phoneSub_count=('phone_sub','cumcount')).reset_index(drop=True)\n",
    "\n",
    "    alfagift_member_sel_d = pd.concat([alfagift_member_sel_d, \n",
    "                                     alfagift_member_sel_d_phone]\n",
    "                                     ,axis=1)\n",
    "    \n",
    "    \n",
    "    alfagift_member_sel_d['score_gibberish'] = alfagift_member_sel_d['email'].apply(score_gibberish)\n",
    "    alfagift_member_sel_d['score_sus_email'] = alfagift_member_sel_d['email'].apply(score_sus_email)\n",
    "    \n",
    "\n",
    "    li_name_count = []\n",
    "    for idx, row in alfagift_member_sel_d.iterrows():\n",
    "        cur_name = row['full_name']\n",
    "\n",
    "        compare_name = list(alfagift_member_sel_d.iloc[0:idx+1,:]['full_name'])\n",
    "\n",
    "\n",
    "        res_compare = seq_match(cur_name, compare_name)\n",
    "        li_name_count.append(res_compare)\n",
    "\n",
    "\n",
    "    df_count_name = pd.DataFrame(li_name_count, columns=['full_name_sCount', 'full_name_eCount'])\n",
    "    alfagift_member_sel_d = pd.concat([alfagift_member_sel_d, df_count_name], axis=1)\n",
    "\n",
    "    alfagift_member_sel_d.to_csv(\n",
    "    '/home/server/gli-data-science/akhiyar/alfagift_alert/suspect_fraud_feature/daily/{}'.format(sel_created))\n",
    "\n",
    "\n",
    "    return 0\n",
    "\n",
    "\n",
    "start = timer()\n",
    "\n",
    "print(f'starting computations on {cpu_count()} cores')\n",
    "\n",
    "values = pd.date_range('2021-12-30', '2022-04-20', freq='D')\n",
    "\n",
    "with Pool() as pool:\n",
    "    res = pool.map(square, values)\n",
    "    #print(res)\n",
    "\n",
    "end = timer()\n",
    "print(f'elapsed time: {end - start}')"
   ]
  },
  {
   "cell_type": "code",
   "execution_count": null,
   "id": "4f966fca",
   "metadata": {},
   "outputs": [],
   "source": [
    "from multiprocessing import Pool, cpu_count\n",
    "print(f'starting computations on {cpu_count()} cores')"
   ]
  },
  {
   "cell_type": "code",
   "execution_count": null,
   "id": "db397e81",
   "metadata": {},
   "outputs": [],
   "source": [
    "## creating feature using cumulative\n",
    "\n",
    "\n",
    "\n"
   ]
  },
  {
   "cell_type": "code",
   "execution_count": null,
   "id": "5076b6bb",
   "metadata": {},
   "outputs": [],
   "source": [
    "# alfagift_member_sel_d_ip1 = alfagift_member_sel_d.groupby('createdFromIp').agg(createdFromIp_count=('createdFromIp','cumcount'))"
   ]
  },
  {
   "cell_type": "code",
   "execution_count": null,
   "id": "650acdb7",
   "metadata": {},
   "outputs": [],
   "source": []
  },
  {
   "cell_type": "code",
   "execution_count": null,
   "id": "732bf1b0",
   "metadata": {},
   "outputs": [],
   "source": []
  },
  {
   "cell_type": "code",
   "execution_count": null,
   "id": "a6600518",
   "metadata": {
    "scrolled": false
   },
   "outputs": [],
   "source": []
  },
  {
   "cell_type": "code",
   "execution_count": null,
   "id": "f14c861b",
   "metadata": {},
   "outputs": [],
   "source": []
  },
  {
   "cell_type": "code",
   "execution_count": null,
   "id": "d80e115c",
   "metadata": {},
   "outputs": [],
   "source": []
  },
  {
   "cell_type": "code",
   "execution_count": null,
   "id": "3618fc5f",
   "metadata": {},
   "outputs": [],
   "source": []
  },
  {
   "cell_type": "code",
   "execution_count": null,
   "id": "6ed8b135",
   "metadata": {},
   "outputs": [],
   "source": []
  },
  {
   "cell_type": "code",
   "execution_count": null,
   "id": "0caf9ff7",
   "metadata": {},
   "outputs": [],
   "source": [
    "# from datetime import datetime\n",
    "# start_time = datetime.now()\n",
    "\n",
    "# res = seq_match('akhiyar',list(alfagift_member_sel_d.iloc[:,:]['full_name']))\n",
    "# end_time = datetime.now()\n",
    "# print('Duration: {}'.format(end_time - start_time))"
   ]
  },
  {
   "cell_type": "code",
   "execution_count": null,
   "id": "117f3239",
   "metadata": {},
   "outputs": [],
   "source": []
  },
  {
   "cell_type": "code",
   "execution_count": null,
   "id": "81121fec",
   "metadata": {},
   "outputs": [],
   "source": []
  },
  {
   "cell_type": "code",
   "execution_count": null,
   "id": "426c95b5",
   "metadata": {},
   "outputs": [],
   "source": [
    "# # possible \n",
    "# ## need to check score\n",
    "# afghj56diskazani\n",
    "# afghj56rdiyanto\n",
    "# sfghj56upriyatno\n",
    "# dfghj56wiyanti\n",
    "# dfghj56wiyanti\n",
    "# wfgh568ahyusaputra"
   ]
  },
  {
   "cell_type": "code",
   "execution_count": null,
   "id": "1d961016",
   "metadata": {},
   "outputs": [],
   "source": []
  },
  {
   "cell_type": "code",
   "execution_count": null,
   "id": "b9c90cc7",
   "metadata": {},
   "outputs": [],
   "source": []
  },
  {
   "cell_type": "code",
   "execution_count": null,
   "id": "ba3a275e",
   "metadata": {},
   "outputs": [],
   "source": []
  },
  {
   "cell_type": "code",
   "execution_count": null,
   "id": "5dd450b7",
   "metadata": {},
   "outputs": [],
   "source": []
  },
  {
   "cell_type": "code",
   "execution_count": null,
   "id": "c492ddec",
   "metadata": {},
   "outputs": [],
   "source": []
  },
  {
   "cell_type": "code",
   "execution_count": null,
   "id": "a177f82e",
   "metadata": {},
   "outputs": [],
   "source": []
  },
  {
   "cell_type": "code",
   "execution_count": null,
   "id": "ca92c6a3",
   "metadata": {
    "scrolled": false
   },
   "outputs": [],
   "source": []
  },
  {
   "cell_type": "code",
   "execution_count": null,
   "id": "440a76d2",
   "metadata": {},
   "outputs": [],
   "source": []
  },
  {
   "cell_type": "code",
   "execution_count": null,
   "id": "ab02e5cf",
   "metadata": {},
   "outputs": [],
   "source": []
  },
  {
   "cell_type": "code",
   "execution_count": null,
   "id": "c1da562e",
   "metadata": {},
   "outputs": [],
   "source": []
  },
  {
   "cell_type": "code",
   "execution_count": null,
   "id": "a86f5c55",
   "metadata": {},
   "outputs": [],
   "source": []
  },
  {
   "cell_type": "code",
   "execution_count": null,
   "id": "a55dbb10",
   "metadata": {},
   "outputs": [],
   "source": [
    "virgo_abuseinject = pd.read_excel(\n",
    "    '/home/server/gli-data-science/ferina/Virgo_Abuse.xlsx'\n",
    "    ,dtype=object,sheet_name='Inject', names=['account_card'])\n",
    "# virgo_abuseuse = pd.read_excel(\n",
    "#     '/home/server/gli-data-science/ferina/Virgo_Abuse.xlsx'\n",
    "#     ,dtype=object,sheet_name='Use', names=['account_card'])\n",
    "\n",
    "## load feature and label \n",
    "df_sus_all = pd.read_csv(\n",
    "    '/home/server/gli-data-science/akhiyar/alfagift_alert/suspect_fraud_feature/group_day/train_full_withname1.csv'\n",
    "    , dtype='object')\n",
    "# df_sus_all = df_sus_all[(df_sus_all['created_at_d'] >= '2021-12-01') \n",
    "#                         & (df_sus_all['created_at_d'] <= '2022-04-17')]\n",
    "\n",
    "\n",
    "sus_label = pd.read_csv('./suspect_fraud/sus_all_exclude_trx.csv', dtype='object', usecols=[0])\n",
    "\n",
    "\n",
    "df_label = pd.concat([sus_label, virgo_abuseinject, virgo_abuseuse]).drop_duplicates()\n",
    "df_label['label'] = 1\n",
    "\n",
    "## merging feature with suspect label\n",
    "df_train = pd.merge(df_sus_all, df_label, on='account_card', how='left')\n",
    "df_train['label'] = df_train['label'].fillna(0)\n",
    "\n",
    "df_train['score_gibberish'] = df_train['score_gibberish'].astype(float).astype(int)\n",
    "df_train['score_sus_email'] = df_train['score_sus_email'].astype(int)\n",
    "df_train['createdFromIp_count'] = df_train['createdFromIp_count'].astype(int)\n",
    "df_train['phoneSub_count'] = df_train['phoneSub_count'].astype(int)\n",
    "df_train['full_name_sCount'] = df_train['full_name_sCount'].astype(int)\n",
    "df_train['full_name_eCount'] = df_train['full_name_eCount'].astype(int)"
   ]
  },
  {
   "cell_type": "code",
   "execution_count": null,
   "id": "a18f9f1a",
   "metadata": {},
   "outputs": [],
   "source": []
  },
  {
   "cell_type": "code",
   "execution_count": null,
   "id": "7971b8fc",
   "metadata": {
    "scrolled": false
   },
   "outputs": [],
   "source": []
  },
  {
   "cell_type": "code",
   "execution_count": null,
   "id": "0ac76d1d",
   "metadata": {},
   "outputs": [],
   "source": []
  },
  {
   "cell_type": "code",
   "execution_count": null,
   "id": "b7fe5bd8",
   "metadata": {},
   "outputs": [],
   "source": []
  },
  {
   "cell_type": "code",
   "execution_count": null,
   "id": "3650e6d6",
   "metadata": {},
   "outputs": [],
   "source": []
  },
  {
   "cell_type": "code",
   "execution_count": null,
   "id": "6dea6139",
   "metadata": {},
   "outputs": [],
   "source": []
  },
  {
   "cell_type": "code",
   "execution_count": null,
   "id": "956d5408",
   "metadata": {},
   "outputs": [],
   "source": [
    "wrap_col = [\n",
    "'score_gibberish',\n",
    "'score_sus_email',\n",
    "'createdFromIp_count',\n",
    "'phoneSub_count',\n",
    "'full_name_sCount',\n",
    "'full_name_eCount'\n",
    "]\n",
    "X = df_train[wrap_col]\n",
    "y = df_train[['label']]"
   ]
  },
  {
   "cell_type": "code",
   "execution_count": null,
   "id": "3351373b",
   "metadata": {},
   "outputs": [],
   "source": []
  },
  {
   "cell_type": "code",
   "execution_count": null,
   "id": "d7b0967b",
   "metadata": {},
   "outputs": [],
   "source": [
    "#Initiating the Agglomerative Clustering model \n",
    "AC = KMeans(n_clusters=9, random_state=0)\n",
    "# AC = KModes(n_clusters=5, init='Huang', n_init=5, verbose=1)\n",
    "\n",
    "# fit model and predict clusters without PCA\n",
    "yhat_AC = AC.fit_predict(X)\n",
    "\n",
    "df_train[\"Clusters\"]= yhat_AC\n"
   ]
  },
  {
   "cell_type": "code",
   "execution_count": null,
   "id": "aa368936",
   "metadata": {},
   "outputs": [],
   "source": [
    "df_train[\"Clusters\"].value_counts()"
   ]
  },
  {
   "cell_type": "code",
   "execution_count": null,
   "id": "d5a89980",
   "metadata": {},
   "outputs": [],
   "source": []
  },
  {
   "cell_type": "code",
   "execution_count": null,
   "id": "8d918227",
   "metadata": {},
   "outputs": [],
   "source": [
    "df_train[df_train['Clusters'] == 8].iloc[:,15:-2]\\\n",
    ".describe()"
   ]
  },
  {
   "cell_type": "code",
   "execution_count": null,
   "id": "036e61bf",
   "metadata": {},
   "outputs": [],
   "source": [
    "# df_train[(df_train['Clusters'] == 8)]['created_at_d'].value_counts()"
   ]
  },
  {
   "cell_type": "code",
   "execution_count": null,
   "id": "8d92b248",
   "metadata": {},
   "outputs": [],
   "source": [
    "df_train[(df_train['Clusters'] == 6) & (df_train['created_at_d'] > '2022-04-05')]"
   ]
  },
  {
   "cell_type": "code",
   "execution_count": null,
   "id": "544c3bd6",
   "metadata": {},
   "outputs": [],
   "source": []
  },
  {
   "cell_type": "code",
   "execution_count": null,
   "id": "5eaf02ec",
   "metadata": {},
   "outputs": [],
   "source": []
  },
  {
   "cell_type": "code",
   "execution_count": null,
   "id": "a4e7501f",
   "metadata": {},
   "outputs": [],
   "source": []
  },
  {
   "cell_type": "code",
   "execution_count": null,
   "id": "31943caf",
   "metadata": {},
   "outputs": [],
   "source": [
    "# regressor = DecisionTreeClassifier(random_state=0, max_depth=4)\n",
    "# regressor.fit(X,y)\n",
    "\n",
    "\n",
    "# dump(regressor, './model/regis_dtree')\n",
    "# r = export_text(regressor, feature_names=list(X), decimals=0, spacing=6)\n",
    "# print(\"prediction rule \\n\\n{}\".format(r))"
   ]
  },
  {
   "cell_type": "code",
   "execution_count": null,
   "id": "3b42e3c1",
   "metadata": {},
   "outputs": [],
   "source": [
    "clf = LogisticRegression(random_state=0)\n",
    "clf.fit(X.values, y.values.ravel())\n",
    "dump(clf, './model/regis_logreg_withname1.pkl')"
   ]
  },
  {
   "cell_type": "code",
   "execution_count": null,
   "id": "4bed9034",
   "metadata": {},
   "outputs": [],
   "source": [
    "X.values[3]"
   ]
  },
  {
   "cell_type": "code",
   "execution_count": null,
   "id": "1049231c",
   "metadata": {},
   "outputs": [],
   "source": []
  },
  {
   "cell_type": "code",
   "execution_count": null,
   "id": "a5c9f51c",
   "metadata": {},
   "outputs": [],
   "source": [
    "li_input = [[\n",
    "    2,\n",
    "    0,\n",
    "    5,\n",
    "    0,\n",
    "    100,\n",
    "]]\n",
    "X_test = np.array(li_input)\n",
    "clf.predict_proba(X_test)"
   ]
  },
  {
   "cell_type": "code",
   "execution_count": null,
   "id": "45805d29",
   "metadata": {},
   "outputs": [],
   "source": [
    "clf.coef_"
   ]
  },
  {
   "cell_type": "code",
   "execution_count": null,
   "id": "5d136c48",
   "metadata": {},
   "outputs": [],
   "source": [
    "# ## for concating feature and bobot\n",
    "# pd.concat([pd.DataFrame(list(X), columns=['variabel']), \n",
    "#            pd.DataFrame(pd.Series(clf.coef_[0]), columns=['bobot'])], 1)\\\n",
    "# .append({'variabel':'intercept','bobot':clf.intercept_[0]},ignore_index=True)\n",
    "\n",
    "wrap_col = [\n",
    "'score_gibberish',\n",
    "'score_sus_email',\n",
    "'createdFromIp_count',\n",
    "'phoneSub_count',\n",
    "'full_name_sCount',\n",
    "# 'full_name_eCount'\n",
    "]\n",
    "res_pred = pd.concat([\n",
    "    pd.DataFrame(wrap_col, columns=['variabel']), \n",
    "    pd.DataFrame(clf.coef_[0], columns=['bobot']),\n",
    "    pd.DataFrame(X_test[0], columns=['feature'])      \n",
    "], 1)\n",
    "# res_pred['feature'] = res_pred['feature'].astype(int) \n",
    "# res_pred['b*f'] = res_pred['bobot'] * res_pred['feature']\n",
    "\n",
    "\n",
    "\n",
    "# dict_score_parameter = {}\n",
    "# for idx, row in res_pred.iterrows():\n",
    "#     dict_score_parameter[row['variabel']] = row['b*f']\n",
    "res_pred"
   ]
  },
  {
   "cell_type": "code",
   "execution_count": null,
   "id": "1e5e118a",
   "metadata": {},
   "outputs": [],
   "source": []
  },
  {
   "cell_type": "code",
   "execution_count": null,
   "id": "8494d60a",
   "metadata": {},
   "outputs": [],
   "source": []
  },
  {
   "cell_type": "code",
   "execution_count": null,
   "id": "7994b8dd",
   "metadata": {},
   "outputs": [],
   "source": [
    "# model_clf = load('./model/regis_logreg.pkl')\n",
    "\n",
    "\n",
    "# X_test = pd.DataFrame()\n",
    "# X_test['score_gibberish'] = [1]\n",
    "# X_test['score_sus_email'] = [0]\n",
    "# X_test['createdFromIp_count'] = [0]\n",
    "# X_test['phoneSub_count'] = [0]\n",
    "\n",
    "# score = model_clf.predict_proba(X_test)\n",
    "# score[0][-1]\n",
    "\n",
    "\n",
    "# res_pred = pd.concat([\n",
    "#     pd.DataFrame(clf.feature_names_in_, columns=['variabel']), \n",
    "#     pd.DataFrame(clf.coef_[0], columns=['bobot']),\n",
    "#     pd.DataFrame(X_test.values[0], columns=['feature'])      \n",
    "# ], 1)\n",
    "# res_pred['b*f'] = res_pred['bobot'] * res_pred['feature']\n",
    "\n",
    "# dict_score_parameter = {}\n",
    "# for idx, row in res_pred.iterrows():\n",
    "#     dict_score_parameter[row['variabel']] = row['b*f']\n",
    "# dict_score_parameter"
   ]
  },
  {
   "cell_type": "code",
   "execution_count": null,
   "id": "a953ea9c",
   "metadata": {},
   "outputs": [],
   "source": []
  },
  {
   "cell_type": "code",
   "execution_count": null,
   "id": "8fc82dc6",
   "metadata": {},
   "outputs": [],
   "source": []
  },
  {
   "cell_type": "code",
   "execution_count": null,
   "id": "3a751921",
   "metadata": {},
   "outputs": [],
   "source": []
  },
  {
   "cell_type": "code",
   "execution_count": null,
   "id": "d3c35793",
   "metadata": {},
   "outputs": [],
   "source": []
  },
  {
   "cell_type": "code",
   "execution_count": null,
   "id": "4cdd438e",
   "metadata": {},
   "outputs": [],
   "source": []
  },
  {
   "cell_type": "code",
   "execution_count": null,
   "id": "50f44f41",
   "metadata": {},
   "outputs": [],
   "source": []
  },
  {
   "cell_type": "code",
   "execution_count": null,
   "id": "696f1fbc",
   "metadata": {},
   "outputs": [],
   "source": []
  },
  {
   "cell_type": "code",
   "execution_count": null,
   "id": "92581591",
   "metadata": {},
   "outputs": [],
   "source": []
  },
  {
   "cell_type": "code",
   "execution_count": null,
   "id": "1b2fd559",
   "metadata": {},
   "outputs": [],
   "source": []
  },
  {
   "cell_type": "code",
   "execution_count": null,
   "id": "d478bfc4",
   "metadata": {},
   "outputs": [],
   "source": []
  }
 ],
 "metadata": {
  "kernelspec": {
   "display_name": "Python 3",
   "language": "python",
   "name": "python3"
  },
  "language_info": {
   "codemirror_mode": {
    "name": "ipython",
    "version": 3
   },
   "file_extension": ".py",
   "mimetype": "text/x-python",
   "name": "python",
   "nbconvert_exporter": "python",
   "pygments_lexer": "ipython3",
   "version": "3.8.5"
  }
 },
 "nbformat": 4,
 "nbformat_minor": 5
}
