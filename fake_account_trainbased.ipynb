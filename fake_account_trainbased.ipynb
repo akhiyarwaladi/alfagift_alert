{
 "cells": [
  {
   "cell_type": "code",
   "execution_count": 78,
   "id": "6cade5de",
   "metadata": {},
   "outputs": [],
   "source": [
    "import warnings\n",
    "warnings.simplefilter(action='ignore', category=FutureWarning)\n",
    "\n",
    "import redis\n",
    "import json\n",
    "from pprint import pprint\n",
    "\n",
    "import pymongo\n",
    "from datetime import datetime, timedelta, date\n",
    "import pandas as pd\n",
    "\n",
    "\n",
    "import numpy as np\n",
    "import pymongo\n",
    "import cx_Oracle\n",
    "import os\n",
    "import time\n",
    "import plotly.express as px\n",
    "from datetime import datetime, timedelta, date\n",
    "\n",
    "\n",
    "pd.set_option('display.max_rows', None)\n",
    "pd.set_option('display.max_columns', None)\n",
    "pd.set_option('display.width', None)\n",
    "pd.set_option('display.max_colwidth', None)\n",
    "pd.set_option('display.float_format', lambda x: '%.2f' % x)\n",
    "pd.options.mode.chained_assignment = None  # default='warn'\n",
    "\n",
    "r = redis.Redis(host=\"127.0.0.1\", port=6379, db=0)"
   ]
  },
  {
   "cell_type": "code",
   "execution_count": null,
   "id": "2869393d",
   "metadata": {},
   "outputs": [],
   "source": []
  },
  {
   "cell_type": "code",
   "execution_count": 79,
   "id": "a44ffafb",
   "metadata": {},
   "outputs": [
    {
     "data": {
      "text/plain": [
       "0"
      ]
     },
     "execution_count": 79,
     "metadata": {},
     "output_type": "execute_result"
    }
   ],
   "source": [
    "def encode(s):\n",
    "    \n",
    "    i = 0\n",
    "    t = ''\n",
    "    while i < len(s):\n",
    "        if s[i].isupper():\n",
    "            t += 'U'\n",
    "        elif s[i].islower():\n",
    "            t += 'L'\n",
    "        elif s[i].isdigit():\n",
    "            t += 'D'\n",
    "        else:\n",
    "            t += 'O'\n",
    "        i += 1\n",
    "        \n",
    "    return t\n",
    "\n",
    "def short_encode(s):\n",
    "    i = 0\n",
    "    s = encode(s)\n",
    "    curr = ''\n",
    "    t = ''\n",
    "    \n",
    "    while i < len(s):\n",
    "        if curr != s[i]:\n",
    "            t += s[i]\n",
    "            curr = s[i]\n",
    "        \n",
    "        i += 1\n",
    "    return t\n",
    "\n",
    "def score_sus_email(s):\n",
    "\n",
    "    email_input = s\n",
    "    email_input = email_input.split('@')[0]\n",
    "    \n",
    "    \n",
    "    \n",
    "    pat_count_digit = encode(email_input).count('D')\n",
    "    pat_encode = short_encode(email_input)\n",
    "    \n",
    "    if pat_encode == 'LD' and pat_count_digit >= 4:\n",
    "        return 1\n",
    "    elif pat_encode == 'D' and pat_count_digit >= 4:\n",
    "        return 1\n",
    "    return 0\n",
    "    \n",
    "score_sus_email('qywyeqeyqw123@gmail.com')"
   ]
  },
  {
   "cell_type": "code",
   "execution_count": null,
   "id": "d7fe1444",
   "metadata": {},
   "outputs": [],
   "source": []
  },
  {
   "cell_type": "code",
   "execution_count": null,
   "id": "0def02b1",
   "metadata": {},
   "outputs": [],
   "source": []
  },
  {
   "cell_type": "code",
   "execution_count": 80,
   "id": "ee19bcb6",
   "metadata": {},
   "outputs": [
    {
     "data": {
      "text/plain": [
       "0"
      ]
     },
     "execution_count": 80,
     "metadata": {},
     "output_type": "execute_result"
    }
   ],
   "source": [
    "from gibberish_detector import detector\n",
    "Detector = detector.create_from_model(\n",
    "    '/home/server/gli-data-science/akhiyar/alfagift_alert/gibberish-detector/big.model')\n",
    "from nostril import nonsense\n",
    "\n",
    "\n",
    "def score_gibberish(input_email):\n",
    "    split_email = input_email.split('@')[0]\n",
    "    #print(split_email)\n",
    "\n",
    "    flag_gibberish1 = False\n",
    "    \n",
    "    try:\n",
    "        if Detector.is_gibberish(split_email):\n",
    "            flag_gibberish1 = True\n",
    "    except Exception as e:\n",
    "        pass\n",
    "    \n",
    "    flag_gibberish2 = False\n",
    "    \n",
    "    try:\n",
    "        if nonsense(split_email):\n",
    "            flag_gibberish2 = True\n",
    "    except Exception as e:\n",
    "        pass\n",
    "\n",
    "\n",
    "    if flag_gibberish1 and flag_gibberish2:\n",
    "        return 1\n",
    "    else:\n",
    "        return 0\n",
    "\n",
    "email = 'puji01236@gmail.com'\n",
    "score_gibberish(email)"
   ]
  },
  {
   "cell_type": "code",
   "execution_count": null,
   "id": "cda7f0a5",
   "metadata": {},
   "outputs": [],
   "source": []
  },
  {
   "cell_type": "code",
   "execution_count": null,
   "id": "cbdd72d6",
   "metadata": {},
   "outputs": [],
   "source": []
  },
  {
   "cell_type": "code",
   "execution_count": null,
   "id": "32876ee6",
   "metadata": {},
   "outputs": [],
   "source": []
  },
  {
   "cell_type": "code",
   "execution_count": 6,
   "id": "6211668c",
   "metadata": {},
   "outputs": [],
   "source": [
    "alfagift_member = pd.read_json('/home/server/mongo_export/alfagift_member.json')\n",
    "alfagift_member['sapa'] = alfagift_member['sapa'].fillna('-')\n",
    "alfagift_member['sapa'] = alfagift_member['sapa'].apply(lambda x: x.get('store_code') \\\n",
    "                                                        if x != '-' else '-')\n",
    "alfagift_member['sapa'] = alfagift_member['sapa'].apply(lambda x: '-' \\\n",
    "                                                        if x == '' else x)\n",
    "\n",
    "alfagift_member['created_at'] = alfagift_member['created_at'].fillna('2019-01-01T23:08:53.393Z')\n",
    "alfagift_member['created_at'] = alfagift_member['created_at'].apply(lambda x: x.get('$date') \\\n",
    "                                                                    if type(x) != str else x)\n",
    "\n",
    "# alfagift_member = alfagift_member[['account_card', 'sapa', 'created_at']]\n",
    "alfagift_member['sapa'] = alfagift_member['sapa'].apply(lambda x: 'sapa' if x != '-' else 'not_sapa')\n",
    "\n",
    "alfagift_member['created_at_d'] = pd.to_datetime(alfagift_member['created_at']).dt.strftime(\"%Y-%m-%d\")\n",
    "alfagift_member['created_at_m'] = pd.to_datetime(alfagift_member['created_at']).dt.strftime(\"%Y-%m\")\n",
    "\n",
    "alfagift_member['account_card'] = alfagift_member['account_card'].astype('str')"
   ]
  },
  {
   "cell_type": "code",
   "execution_count": null,
   "id": "7c5b037e",
   "metadata": {},
   "outputs": [],
   "source": [
    "alfagift_member_sel = alfagift_member[(alfagift_member['created_at_m'] == '2022-01') |\n",
    "                                      (alfagift_member['created_at_m'] == '2022-02') |\n",
    "                                      (alfagift_member['created_at_m'] == '2022-03') |\n",
    "                                      (alfagift_member['created_at_m'] == '2022-04') ]\n",
    "alfagift_member_sel['created_at_d'] = pd.to_datetime(alfagift_member_sel['created_at']).dt.strftime(\"%Y-%m-%d\")"
   ]
  },
  {
   "cell_type": "code",
   "execution_count": 12,
   "id": "4c2b4ecb",
   "metadata": {},
   "outputs": [],
   "source": [
    "## creating label for training set\n",
    "\n",
    "\n",
    "\n",
    "\n",
    "li_sus = []\n",
    "for dr in pd.date_range('2022-01-01', '2022-04-06', freq='D'):\n",
    "    sel_created = dr.strftime(\"%Y-%m-%d\")\n",
    "\n",
    "    alfagift_member_sel_d = alfagift_member_sel[alfagift_member_sel['created_at_d'] == sel_created]\n",
    "    #print(alfagift_member_sel_d.shape)\n",
    "\n",
    "\n",
    "    ## suspect by IP\n",
    "    alfagift_member_sel_d_ip = alfagift_member_sel_d.groupby(['createdFromIp'])\\\n",
    "                            .agg(createdFromIp_count=('createdFromIp','count'))\n",
    "    alfagift_member_sel_d_ip = alfagift_member_sel_d_ip[\n",
    "        alfagift_member_sel_d_ip['createdFromIp_count'] >= 5].reset_index()\n",
    "\n",
    "    sus_by_ip = pd.merge(alfagift_member_sel_d_ip, alfagift_member_sel_d, on='createdFromIp', how='left')\n",
    "\n",
    "    ## suspect by phone\n",
    "    alfagift_member_sel_d['phone_sub'] =  alfagift_member_sel_d['phone'].str[0:9]\n",
    "    alfagift_member_sel_d_phone = alfagift_member_sel_d.groupby(['phone_sub'])\\\n",
    "                                .agg(createdFromIp_count=('phone_sub','count'))\n",
    "    alfagift_member_sel_d_phone = alfagift_member_sel_d_phone[\n",
    "        alfagift_member_sel_d_phone['createdFromIp_count'] >= 5].reset_index()\n",
    "\n",
    "    sus_by_phone = pd.merge(alfagift_member_sel_d_phone, alfagift_member_sel_d, on='phone_sub', how='left')\n",
    "    \n",
    "    ## saving by concating suspect aspect\n",
    "    sus_all = pd.concat([sus_by_ip[['account_card']], sus_by_phone[['account_card']]], axis=0)\\\n",
    "        .drop_duplicates()\n",
    "    li_sus.append(sus_all)\n",
    "    sus_all.to_csv(\n",
    "    '/home/server/gli-data-science/akhiyar/alfagift_alert/suspect_fraud/sus_{}'.format(sel_created))\n",
    "\n",
    "df_sus_all = pd.concat(li_sus).drop_duplicates()\n",
    "df_sus_all.to_csv(\n",
    "    '/home/server/gli-data-science/akhiyar/alfagift_alert/suspect_fraud/sus_all.csv', index=False)"
   ]
  },
  {
   "cell_type": "code",
   "execution_count": null,
   "id": "01c2d27b",
   "metadata": {},
   "outputs": [],
   "source": []
  },
  {
   "cell_type": "code",
   "execution_count": null,
   "id": "ea456cfb",
   "metadata": {},
   "outputs": [],
   "source": []
  },
  {
   "cell_type": "code",
   "execution_count": null,
   "id": "a03fc62f",
   "metadata": {},
   "outputs": [],
   "source": []
  },
  {
   "cell_type": "code",
   "execution_count": null,
   "id": "3d519041",
   "metadata": {
    "scrolled": false
   },
   "outputs": [],
   "source": []
  },
  {
   "cell_type": "code",
   "execution_count": null,
   "id": "50ec6b2b",
   "metadata": {},
   "outputs": [],
   "source": []
  },
  {
   "cell_type": "code",
   "execution_count": null,
   "id": "e5a1dc17",
   "metadata": {},
   "outputs": [],
   "source": []
  },
  {
   "cell_type": "code",
   "execution_count": null,
   "id": "e4c6fb1e",
   "metadata": {},
   "outputs": [],
   "source": []
  },
  {
   "cell_type": "code",
   "execution_count": null,
   "id": "75ef6e6c",
   "metadata": {},
   "outputs": [],
   "source": []
  },
  {
   "cell_type": "code",
   "execution_count": null,
   "id": "cb6024a3",
   "metadata": {
    "scrolled": false
   },
   "outputs": [],
   "source": []
  },
  {
   "cell_type": "code",
   "execution_count": null,
   "id": "db5da8c4",
   "metadata": {},
   "outputs": [],
   "source": []
  },
  {
   "cell_type": "code",
   "execution_count": null,
   "id": "5745efcf",
   "metadata": {},
   "outputs": [],
   "source": []
  },
  {
   "cell_type": "code",
   "execution_count": null,
   "id": "a1e56987",
   "metadata": {},
   "outputs": [],
   "source": []
  },
  {
   "cell_type": "code",
   "execution_count": null,
   "id": "30e0d848",
   "metadata": {},
   "outputs": [],
   "source": []
  },
  {
   "cell_type": "code",
   "execution_count": null,
   "id": "6c9568ad",
   "metadata": {},
   "outputs": [],
   "source": []
  },
  {
   "cell_type": "code",
   "execution_count": null,
   "id": "01a212cd",
   "metadata": {},
   "outputs": [],
   "source": []
  },
  {
   "cell_type": "code",
   "execution_count": null,
   "id": "f6c38c5a",
   "metadata": {},
   "outputs": [],
   "source": []
  },
  {
   "cell_type": "code",
   "execution_count": null,
   "id": "ff3a1044",
   "metadata": {},
   "outputs": [],
   "source": []
  },
  {
   "cell_type": "code",
   "execution_count": null,
   "id": "83042c72",
   "metadata": {},
   "outputs": [],
   "source": []
  },
  {
   "cell_type": "code",
   "execution_count": null,
   "id": "a44b5c67",
   "metadata": {},
   "outputs": [],
   "source": []
  },
  {
   "cell_type": "code",
   "execution_count": null,
   "id": "2cd30a64",
   "metadata": {},
   "outputs": [],
   "source": []
  },
  {
   "cell_type": "code",
   "execution_count": null,
   "id": "dbaf8205",
   "metadata": {},
   "outputs": [],
   "source": []
  },
  {
   "cell_type": "code",
   "execution_count": 92,
   "id": "93321419",
   "metadata": {},
   "outputs": [],
   "source": [
    "alfagift_member_sel_d = alfagift_member_sel[alfagift_member_sel['created_at_d'] == '2022-01-06']"
   ]
  },
  {
   "cell_type": "code",
   "execution_count": 98,
   "id": "94b8343e",
   "metadata": {},
   "outputs": [
    {
     "data": {
      "text/html": [
       "<div>\n",
       "<style scoped>\n",
       "    .dataframe tbody tr th:only-of-type {\n",
       "        vertical-align: middle;\n",
       "    }\n",
       "\n",
       "    .dataframe tbody tr th {\n",
       "        vertical-align: top;\n",
       "    }\n",
       "\n",
       "    .dataframe thead th {\n",
       "        text-align: right;\n",
       "    }\n",
       "</style>\n",
       "<table border=\"1\" class=\"dataframe\">\n",
       "  <thead>\n",
       "    <tr style=\"text-align: right;\">\n",
       "      <th></th>\n",
       "      <th>_id</th>\n",
       "      <th>member_status</th>\n",
       "      <th>full_name</th>\n",
       "      <th>gender</th>\n",
       "      <th>email</th>\n",
       "      <th>birth_date</th>\n",
       "      <th>phone</th>\n",
       "      <th>marital_status</th>\n",
       "      <th>account_card</th>\n",
       "      <th>created_at</th>\n",
       "      <th>sapa</th>\n",
       "      <th>createdFromIp</th>\n",
       "      <th>created_at_m</th>\n",
       "      <th>created_at_d</th>\n",
       "    </tr>\n",
       "  </thead>\n",
       "  <tbody>\n",
       "    <tr>\n",
       "      <th>10688577</th>\n",
       "      <td>{'$oid': '61d637ca1e92fb7f0ce9cf60'}</td>\n",
       "      <td>26</td>\n",
       "      <td>Khayla</td>\n",
       "      <td>M</td>\n",
       "      <td>b.telungpuluhpapat1976@gmail.com</td>\n",
       "      <td>{'$date': '1985-09-19T17:00:00Z'}</td>\n",
       "      <td>081575023600</td>\n",
       "      <td>M</td>\n",
       "      <td>9990013514317462</td>\n",
       "      <td>2022-01-06T00:28:58.283Z</td>\n",
       "      <td>not_sapa</td>\n",
       "      <td>36.72.219.38</td>\n",
       "      <td>2022-01</td>\n",
       "      <td>2022-01-06</td>\n",
       "    </tr>\n",
       "  </tbody>\n",
       "</table>\n",
       "</div>"
      ],
      "text/plain": [
       "                                           _id  member_status full_name  \\\n",
       "10688577  {'$oid': '61d637ca1e92fb7f0ce9cf60'}             26    Khayla   \n",
       "\n",
       "         gender                             email  \\\n",
       "10688577      M  b.telungpuluhpapat1976@gmail.com   \n",
       "\n",
       "                                 birth_date         phone marital_status  \\\n",
       "10688577  {'$date': '1985-09-19T17:00:00Z'}  081575023600              M   \n",
       "\n",
       "              account_card                created_at      sapa createdFromIp  \\\n",
       "10688577  9990013514317462  2022-01-06T00:28:58.283Z  not_sapa  36.72.219.38   \n",
       "\n",
       "         created_at_m created_at_d  \n",
       "10688577      2022-01   2022-01-06  "
      ]
     },
     "execution_count": 98,
     "metadata": {},
     "output_type": "execute_result"
    }
   ],
   "source": [
    "alfagift_member_sel_d[alfagift_member_sel_d['email'].str.contains('b.telungpuluhpapat1976@gmail.com', case=False)]"
   ]
  },
  {
   "cell_type": "code",
   "execution_count": null,
   "id": "ea1c4bcf",
   "metadata": {},
   "outputs": [],
   "source": []
  },
  {
   "cell_type": "code",
   "execution_count": 86,
   "id": "8c298a69",
   "metadata": {},
   "outputs": [
    {
     "ename": "KeyboardInterrupt",
     "evalue": "",
     "output_type": "error",
     "traceback": [
      "\u001b[0;31m---------------------------------------------------------------------------\u001b[0m",
      "\u001b[0;31mKeyboardInterrupt\u001b[0m                         Traceback (most recent call last)",
      "\u001b[0;32m<ipython-input-86-d47e7039ea9b>\u001b[0m in \u001b[0;36m<module>\u001b[0;34m\u001b[0m\n\u001b[1;32m     74\u001b[0m \u001b[0;34m\u001b[0m\u001b[0m\n\u001b[1;32m     75\u001b[0m         \u001b[0mr\u001b[0m\u001b[0;34m.\u001b[0m\u001b[0mset\u001b[0m\u001b[0;34m(\u001b[0m\u001b[0;34m\"register_ip\"\u001b[0m\u001b[0;34m,\u001b[0m \u001b[0mjson\u001b[0m\u001b[0;34m.\u001b[0m\u001b[0mdumps\u001b[0m\u001b[0;34m(\u001b[0m\u001b[0mregister_ip\u001b[0m\u001b[0;34m)\u001b[0m\u001b[0;34m)\u001b[0m\u001b[0;34m\u001b[0m\u001b[0;34m\u001b[0m\u001b[0m\n\u001b[0;32m---> 76\u001b[0;31m         \u001b[0mr\u001b[0m\u001b[0;34m.\u001b[0m\u001b[0mset\u001b[0m\u001b[0;34m(\u001b[0m\u001b[0;34m\"register_prefix_phone\"\u001b[0m\u001b[0;34m,\u001b[0m \u001b[0mjson\u001b[0m\u001b[0;34m.\u001b[0m\u001b[0mdumps\u001b[0m\u001b[0;34m(\u001b[0m\u001b[0mregister_prefix_phone\u001b[0m\u001b[0;34m)\u001b[0m\u001b[0;34m)\u001b[0m\u001b[0;34m\u001b[0m\u001b[0;34m\u001b[0m\u001b[0m\n\u001b[0m\u001b[1;32m     77\u001b[0m         \u001b[0mr\u001b[0m\u001b[0;34m.\u001b[0m\u001b[0mset\u001b[0m\u001b[0;34m(\u001b[0m\u001b[0;34m\"register_lower_name\"\u001b[0m\u001b[0;34m,\u001b[0m \u001b[0mjson\u001b[0m\u001b[0;34m.\u001b[0m\u001b[0mdumps\u001b[0m\u001b[0;34m(\u001b[0m\u001b[0mregister_lower_name\u001b[0m\u001b[0;34m)\u001b[0m\u001b[0;34m)\u001b[0m\u001b[0;34m\u001b[0m\u001b[0;34m\u001b[0m\u001b[0m\n\u001b[1;32m     78\u001b[0m \u001b[0;34m\u001b[0m\u001b[0m\n",
      "\u001b[0;32m/opt/anaconda3/lib/python3.8/json/__init__.py\u001b[0m in \u001b[0;36mdumps\u001b[0;34m(obj, skipkeys, ensure_ascii, check_circular, allow_nan, cls, indent, separators, default, sort_keys, **kw)\u001b[0m\n\u001b[1;32m    229\u001b[0m         \u001b[0mcls\u001b[0m \u001b[0;32mis\u001b[0m \u001b[0;32mNone\u001b[0m \u001b[0;32mand\u001b[0m \u001b[0mindent\u001b[0m \u001b[0;32mis\u001b[0m \u001b[0;32mNone\u001b[0m \u001b[0;32mand\u001b[0m \u001b[0mseparators\u001b[0m \u001b[0;32mis\u001b[0m \u001b[0;32mNone\u001b[0m \u001b[0;32mand\u001b[0m\u001b[0;34m\u001b[0m\u001b[0;34m\u001b[0m\u001b[0m\n\u001b[1;32m    230\u001b[0m         default is None and not sort_keys and not kw):\n\u001b[0;32m--> 231\u001b[0;31m         \u001b[0;32mreturn\u001b[0m \u001b[0m_default_encoder\u001b[0m\u001b[0;34m.\u001b[0m\u001b[0mencode\u001b[0m\u001b[0;34m(\u001b[0m\u001b[0mobj\u001b[0m\u001b[0;34m)\u001b[0m\u001b[0;34m\u001b[0m\u001b[0;34m\u001b[0m\u001b[0m\n\u001b[0m\u001b[1;32m    232\u001b[0m     \u001b[0;32mif\u001b[0m \u001b[0mcls\u001b[0m \u001b[0;32mis\u001b[0m \u001b[0;32mNone\u001b[0m\u001b[0;34m:\u001b[0m\u001b[0;34m\u001b[0m\u001b[0;34m\u001b[0m\u001b[0m\n\u001b[1;32m    233\u001b[0m         \u001b[0mcls\u001b[0m \u001b[0;34m=\u001b[0m \u001b[0mJSONEncoder\u001b[0m\u001b[0;34m\u001b[0m\u001b[0;34m\u001b[0m\u001b[0m\n",
      "\u001b[0;32m/opt/anaconda3/lib/python3.8/json/encoder.py\u001b[0m in \u001b[0;36mencode\u001b[0;34m(self, o)\u001b[0m\n\u001b[1;32m    197\u001b[0m         \u001b[0;31m# exceptions aren't as detailed.  The list call should be roughly\u001b[0m\u001b[0;34m\u001b[0m\u001b[0;34m\u001b[0m\u001b[0;34m\u001b[0m\u001b[0m\n\u001b[1;32m    198\u001b[0m         \u001b[0;31m# equivalent to the PySequence_Fast that ''.join() would do.\u001b[0m\u001b[0;34m\u001b[0m\u001b[0;34m\u001b[0m\u001b[0;34m\u001b[0m\u001b[0m\n\u001b[0;32m--> 199\u001b[0;31m         \u001b[0mchunks\u001b[0m \u001b[0;34m=\u001b[0m \u001b[0mself\u001b[0m\u001b[0;34m.\u001b[0m\u001b[0miterencode\u001b[0m\u001b[0;34m(\u001b[0m\u001b[0mo\u001b[0m\u001b[0;34m,\u001b[0m \u001b[0m_one_shot\u001b[0m\u001b[0;34m=\u001b[0m\u001b[0;32mTrue\u001b[0m\u001b[0;34m)\u001b[0m\u001b[0;34m\u001b[0m\u001b[0;34m\u001b[0m\u001b[0m\n\u001b[0m\u001b[1;32m    200\u001b[0m         \u001b[0;32mif\u001b[0m \u001b[0;32mnot\u001b[0m \u001b[0misinstance\u001b[0m\u001b[0;34m(\u001b[0m\u001b[0mchunks\u001b[0m\u001b[0;34m,\u001b[0m \u001b[0;34m(\u001b[0m\u001b[0mlist\u001b[0m\u001b[0;34m,\u001b[0m \u001b[0mtuple\u001b[0m\u001b[0;34m)\u001b[0m\u001b[0;34m)\u001b[0m\u001b[0;34m:\u001b[0m\u001b[0;34m\u001b[0m\u001b[0;34m\u001b[0m\u001b[0m\n\u001b[1;32m    201\u001b[0m             \u001b[0mchunks\u001b[0m \u001b[0;34m=\u001b[0m \u001b[0mlist\u001b[0m\u001b[0;34m(\u001b[0m\u001b[0mchunks\u001b[0m\u001b[0;34m)\u001b[0m\u001b[0;34m\u001b[0m\u001b[0;34m\u001b[0m\u001b[0m\n",
      "\u001b[0;32m/opt/anaconda3/lib/python3.8/json/encoder.py\u001b[0m in \u001b[0;36miterencode\u001b[0;34m(self, o, _one_shot)\u001b[0m\n\u001b[1;32m    255\u001b[0m                 \u001b[0mself\u001b[0m\u001b[0;34m.\u001b[0m\u001b[0mkey_separator\u001b[0m\u001b[0;34m,\u001b[0m \u001b[0mself\u001b[0m\u001b[0;34m.\u001b[0m\u001b[0mitem_separator\u001b[0m\u001b[0;34m,\u001b[0m \u001b[0mself\u001b[0m\u001b[0;34m.\u001b[0m\u001b[0msort_keys\u001b[0m\u001b[0;34m,\u001b[0m\u001b[0;34m\u001b[0m\u001b[0;34m\u001b[0m\u001b[0m\n\u001b[1;32m    256\u001b[0m                 self.skipkeys, _one_shot)\n\u001b[0;32m--> 257\u001b[0;31m         \u001b[0;32mreturn\u001b[0m \u001b[0m_iterencode\u001b[0m\u001b[0;34m(\u001b[0m\u001b[0mo\u001b[0m\u001b[0;34m,\u001b[0m \u001b[0;36m0\u001b[0m\u001b[0;34m)\u001b[0m\u001b[0;34m\u001b[0m\u001b[0;34m\u001b[0m\u001b[0m\n\u001b[0m\u001b[1;32m    258\u001b[0m \u001b[0;34m\u001b[0m\u001b[0m\n\u001b[1;32m    259\u001b[0m def _make_iterencode(markers, _default, _encoder, _indent, _floatstr,\n",
      "\u001b[0;31mKeyboardInterrupt\u001b[0m: "
     ]
    }
   ],
   "source": [
    "li_train = []\n",
    "for dr in pd.date_range('2022-01-01', '2022-04-06', freq='D'):\n",
    "    sel_created = dr.strftime(\"%Y-%m-%d\")\n",
    "\n",
    "    alfagift_member_sel_d = alfagift_member_sel[alfagift_member_sel['created_at_d'] == sel_created]\n",
    "\n",
    "\n",
    "    dict_register_ip = {}\n",
    "    r.set(\"register_ip\", json.dumps(dict_register_ip))\n",
    "    dict_register_prefix_phone = {}\n",
    "    r.set(\"register_prefix_phone\", json.dumps(dict_register_prefix_phone))\n",
    "    dict_register_lower_name = {}\n",
    "    r.set(\"register_lower_name\", json.dumps(dict_register_lower_name))\n",
    "\n",
    "    li_score_ip = []\n",
    "    li_score_prefix_phone = []\n",
    "    li_score_full_name = []\n",
    "    li_ponta = []\n",
    "    li_email = []\n",
    "    score_ip = 0\n",
    "    score_prefix_phone = 0\n",
    "    for idx, row in alfagift_member_sel_d.iterrows():\n",
    "        cur_ponta = row['account_card']\n",
    "        li_ponta.append(cur_ponta)\n",
    "        \n",
    "        cur_email = row['email']\n",
    "        li_email.append(cur_email)\n",
    "        \n",
    "        cur_ip = row['createdFromIp']\n",
    "        cur_prefix_phone = row['phone'][0:9]\n",
    "        cur_lower_name = row['full_name'].lower()\n",
    "\n",
    "        student_obj_as_bytes = r.get(\"register_ip\")\n",
    "        student_obj_as_str = student_obj_as_bytes.decode(\"utf-8\")\n",
    "        register_ip = json.loads(student_obj_as_str)\n",
    "\n",
    "        student_obj_as_bytes = r.get(\"register_prefix_phone\")\n",
    "        student_obj_as_str = student_obj_as_bytes.decode(\"utf-8\")\n",
    "        register_prefix_phone = json.loads(student_obj_as_str)\n",
    "\n",
    "        student_obj_as_bytes = r.get(\"register_lower_name\")\n",
    "        student_obj_as_str = student_obj_as_bytes.decode(\"utf-8\")\n",
    "        register_lower_name = json.loads(student_obj_as_str)\n",
    "\n",
    "        \n",
    "        if cur_ip in register_ip:\n",
    "            score_ip += 1\n",
    "        \n",
    "        if cur_prefix_phone in register_prefix_phone:\n",
    "            score_prefix_phone += 1\n",
    "        \n",
    "        if cur_lower_name in register_lower_name:\n",
    "            score_full_name += 1\n",
    "\n",
    "        li_score_ip.append(score_ip)\n",
    "        li_score_prefix_phone.append(score_prefix_phone)\n",
    "        li_score_full_name.append(score_full_name)\n",
    "\n",
    "\n",
    "        #print(register_ip) \n",
    "        if cur_ip in register_ip:\n",
    "            register_ip[cur_ip] += 1\n",
    "        else:\n",
    "            register_ip[cur_ip] = 1\n",
    "\n",
    "        if cur_prefix_phone in register_prefix_phone:\n",
    "            register_prefix_phone[cur_prefix_phone] += 1\n",
    "        else:\n",
    "            register_prefix_phone[cur_prefix_phone] = 1\n",
    "\n",
    "        if cur_lower_name in register_lower_name:\n",
    "            register_lower_name[cur_lower_name] += 1\n",
    "        else:\n",
    "            register_lower_name[cur_lower_name] = 1\n",
    "\n",
    "        r.set(\"register_ip\", json.dumps(register_ip))\n",
    "        r.set(\"register_prefix_phone\", json.dumps(register_prefix_phone))\n",
    "        r.set(\"register_lower_name\", json.dumps(register_lower_name))\n",
    "\n",
    "        #break\n",
    "    student_obj_as_bytes = r.get(\"register_ip\")\n",
    "    student_obj_as_str = student_obj_as_bytes.decode(\"utf-8\")\n",
    "    register_ip = json.loads(student_obj_as_str)\n",
    "\n",
    "    student_obj_as_bytes = r.get(\"register_prefix_phone\")\n",
    "    student_obj_as_str = student_obj_as_bytes.decode(\"utf-8\")\n",
    "    register_prefix_phone = json.loads(student_obj_as_str)\n",
    "\n",
    "    student_obj_as_bytes = r.get(\"register_lower_name\")\n",
    "    student_obj_as_str = student_obj_as_bytes.decode(\"utf-8\")\n",
    "    register_lower_name = json.loads(student_obj_as_str)\n",
    "        \n",
    "    df_train = pd.DataFrame()\n",
    "    df_train['account_card'] = li_ponta\n",
    "    df_train['email'] = li_email\n",
    "    df_train['score_ip'] = li_score_ip\n",
    "    df_train['score_prefix_phone'] = li_score_prefix_phone\n",
    "    df_train['score_full_name'] = li_score_full_name\n",
    "    df_train['score_gibberish'] = df_train['email'].apply(score_gibberish)\n",
    "    df_train['score_sus_email'] = df_train['email'].apply(score_sus_email)\n",
    "    df_train.to_csv(\n",
    "        '/home/server/gli-data-science/akhiyar/alfagift_alert/suspect_fraud_feature/train_{}'.format(sel_created),index=False)\n",
    "    li_train.append(df_train)"
   ]
  },
  {
   "cell_type": "code",
   "execution_count": 87,
   "id": "11d216f6",
   "metadata": {},
   "outputs": [],
   "source": [
    "student_obj_as_bytes = r.get(\"register_lower_name\")\n",
    "student_obj_as_str = student_obj_as_bytes.decode(\"utf-8\")\n",
    "register_lower_name = json.loads(student_obj_as_str)"
   ]
  },
  {
   "cell_type": "code",
   "execution_count": 101,
   "id": "635f1b2a",
   "metadata": {},
   "outputs": [
    {
     "ename": "KeyError",
     "evalue": "'erwin'",
     "output_type": "error",
     "traceback": [
      "\u001b[0;31m---------------------------------------------------------------------------\u001b[0m",
      "\u001b[0;31mKeyError\u001b[0m                                  Traceback (most recent call last)",
      "\u001b[0;32m<ipython-input-101-289d4547456a>\u001b[0m in \u001b[0;36m<module>\u001b[0;34m\u001b[0m\n\u001b[0;32m----> 1\u001b[0;31m \u001b[0mregister_lower_name\u001b[0m\u001b[0;34m[\u001b[0m\u001b[0;34m'erwin'\u001b[0m\u001b[0;34m]\u001b[0m\u001b[0;34m\u001b[0m\u001b[0;34m\u001b[0m\u001b[0m\n\u001b[0m",
      "\u001b[0;31mKeyError\u001b[0m: 'erwin'"
     ]
    }
   ],
   "source": [
    "register_lower_name['erwin']"
   ]
  },
  {
   "cell_type": "code",
   "execution_count": null,
   "id": "b8b02571",
   "metadata": {},
   "outputs": [],
   "source": [
    "df_train_all = pd.concat(li_train)"
   ]
  },
  {
   "cell_type": "code",
   "execution_count": null,
   "id": "35d2f9ba",
   "metadata": {},
   "outputs": [],
   "source": [
    "# df_train_all"
   ]
  },
  {
   "cell_type": "code",
   "execution_count": null,
   "id": "a3a4305f",
   "metadata": {},
   "outputs": [],
   "source": []
  },
  {
   "cell_type": "code",
   "execution_count": null,
   "id": "c59d4cc9",
   "metadata": {},
   "outputs": [],
   "source": []
  },
  {
   "cell_type": "code",
   "execution_count": null,
   "id": "ff332018",
   "metadata": {},
   "outputs": [],
   "source": []
  },
  {
   "cell_type": "code",
   "execution_count": null,
   "id": "166ce02d",
   "metadata": {},
   "outputs": [],
   "source": []
  },
  {
   "cell_type": "code",
   "execution_count": null,
   "id": "6f2313f0",
   "metadata": {},
   "outputs": [],
   "source": []
  },
  {
   "cell_type": "code",
   "execution_count": null,
   "id": "380f0cca",
   "metadata": {},
   "outputs": [],
   "source": []
  },
  {
   "cell_type": "code",
   "execution_count": null,
   "id": "99809839",
   "metadata": {},
   "outputs": [],
   "source": []
  },
  {
   "cell_type": "code",
   "execution_count": null,
   "id": "c7240dd6",
   "metadata": {},
   "outputs": [],
   "source": []
  },
  {
   "cell_type": "code",
   "execution_count": null,
   "id": "40f4afc7",
   "metadata": {},
   "outputs": [],
   "source": []
  },
  {
   "cell_type": "code",
   "execution_count": null,
   "id": "ac68d180",
   "metadata": {},
   "outputs": [],
   "source": []
  },
  {
   "cell_type": "code",
   "execution_count": null,
   "id": "e72e8e64",
   "metadata": {},
   "outputs": [],
   "source": []
  },
  {
   "cell_type": "code",
   "execution_count": null,
   "id": "d8fcb642",
   "metadata": {},
   "outputs": [],
   "source": []
  },
  {
   "cell_type": "code",
   "execution_count": null,
   "id": "4b0e2357",
   "metadata": {},
   "outputs": [],
   "source": []
  },
  {
   "cell_type": "code",
   "execution_count": null,
   "id": "24447c3a",
   "metadata": {},
   "outputs": [],
   "source": []
  },
  {
   "cell_type": "code",
   "execution_count": null,
   "id": "705c7679",
   "metadata": {},
   "outputs": [],
   "source": []
  },
  {
   "cell_type": "code",
   "execution_count": null,
   "id": "e3e8a5cc",
   "metadata": {},
   "outputs": [],
   "source": []
  }
 ],
 "metadata": {
  "kernelspec": {
   "display_name": "Python 3",
   "language": "python",
   "name": "python3"
  },
  "language_info": {
   "codemirror_mode": {
    "name": "ipython",
    "version": 3
   },
   "file_extension": ".py",
   "mimetype": "text/x-python",
   "name": "python",
   "nbconvert_exporter": "python",
   "pygments_lexer": "ipython3",
   "version": "3.8.5"
  }
 },
 "nbformat": 4,
 "nbformat_minor": 5
}
