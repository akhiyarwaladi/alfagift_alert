{
 "cells": [
  {
   "cell_type": "code",
   "execution_count": 61,
   "id": "5466e739",
   "metadata": {},
   "outputs": [],
   "source": [
    "import warnings\n",
    "warnings.simplefilter(action='ignore', category=FutureWarning)\n",
    "\n",
    "import redis\n",
    "import json\n",
    "from pprint import pprint\n",
    "\n",
    "import pymongo\n",
    "from datetime import datetime, timedelta, date\n",
    "import pandas as pd\n",
    "\n",
    "\n",
    "import numpy as np\n",
    "import pymongo\n",
    "import cx_Oracle\n",
    "import os\n",
    "import time\n",
    "import plotly.express as px\n",
    "from datetime import datetime, timedelta, date\n",
    "\n",
    "\n",
    "pd.set_option('display.max_rows', None)\n",
    "pd.set_option('display.max_columns', None)\n",
    "pd.set_option('display.width', None)\n",
    "pd.set_option('display.max_colwidth', None)\n",
    "pd.set_option('display.float_format', lambda x: '%.2f' % x)\n",
    "pd.options.mode.chained_assignment = None  # default='warn'\n",
    "\n",
    "r = redis.Redis(host=\"127.0.0.1\", port=6379, db=0)"
   ]
  },
  {
   "cell_type": "code",
   "execution_count": null,
   "id": "0ff7a93a",
   "metadata": {},
   "outputs": [],
   "source": []
  },
  {
   "cell_type": "code",
   "execution_count": 57,
   "id": "430fb084",
   "metadata": {},
   "outputs": [
    {
     "data": {
      "text/plain": [
       "0"
      ]
     },
     "execution_count": 57,
     "metadata": {},
     "output_type": "execute_result"
    }
   ],
   "source": [
    "def encode(s):\n",
    "    \n",
    "    i = 0\n",
    "    t = ''\n",
    "    while i < len(s):\n",
    "        if s[i].isupper():\n",
    "            t += 'U'\n",
    "        elif s[i].islower():\n",
    "            t += 'L'\n",
    "        elif s[i].isdigit():\n",
    "            t += 'D'\n",
    "        else:\n",
    "            t += 'O'\n",
    "        i += 1\n",
    "        \n",
    "    return t\n",
    "\n",
    "def short_encode(s):\n",
    "    i = 0\n",
    "    s = encode(s)\n",
    "    curr = ''\n",
    "    t = ''\n",
    "    \n",
    "    while i < len(s):\n",
    "        if curr != s[i]:\n",
    "            t += s[i]\n",
    "            curr = s[i]\n",
    "        \n",
    "        i += 1\n",
    "    return t\n",
    "\n",
    "def score_sus_email(s):\n",
    "\n",
    "    email_input = s\n",
    "    email_input = email_input.split('@')[0]\n",
    "    \n",
    "    \n",
    "    \n",
    "    pat_count_digit = encode(email_input).count('D')\n",
    "    pat_encode = short_encode(email_input)\n",
    "    \n",
    "    if pat_encode == 'LD' and pat_count_digit >= 4:\n",
    "        return 1\n",
    "    elif pat_encode == 'D' and pat_count_digit >= 4:\n",
    "        return 1\n",
    "    return 0\n",
    "    \n",
    "score_sus_email('qywyeqeyqw123@gmail.com')"
   ]
  },
  {
   "cell_type": "code",
   "execution_count": null,
   "id": "f7006066",
   "metadata": {},
   "outputs": [],
   "source": []
  },
  {
   "cell_type": "code",
   "execution_count": null,
   "id": "cc2984dd",
   "metadata": {},
   "outputs": [],
   "source": []
  },
  {
   "cell_type": "code",
   "execution_count": 72,
   "id": "f7bae524",
   "metadata": {},
   "outputs": [
    {
     "data": {
      "text/plain": [
       "0"
      ]
     },
     "execution_count": 72,
     "metadata": {},
     "output_type": "execute_result"
    }
   ],
   "source": [
    "from gibberish_detector import detector\n",
    "Detector = detector.create_from_model(\n",
    "    '/home/server/gli-data-science/akhiyar/alfagift_alert/gibberish-detector/big.model')\n",
    "from nostril import nonsense\n",
    "\n",
    "\n",
    "def score_gibberish(input_email):\n",
    "    split_email = input_email.split('@')[0]\n",
    "    #print(split_email)\n",
    "\n",
    "    flag_gibberish1 = False\n",
    "    \n",
    "    try:\n",
    "        if Detector.is_gibberish(split_email):\n",
    "            flag_gibberish1 = True\n",
    "    except Exception as e:\n",
    "        pass\n",
    "    \n",
    "    flag_gibberish2 = False\n",
    "    \n",
    "    try:\n",
    "        if nonsense(split_email):\n",
    "            flag_gibberish2 = True\n",
    "    except Exception as e:\n",
    "        pass\n",
    "\n",
    "\n",
    "    if flag_gibberish1 and flag_gibberish2:\n",
    "        return 1\n",
    "    else:\n",
    "        return 0\n",
    "\n",
    "email = 'puji01236@gmail.com'\n",
    "score_gibberish(email)"
   ]
  },
  {
   "cell_type": "code",
   "execution_count": null,
   "id": "ff92bb90",
   "metadata": {},
   "outputs": [],
   "source": []
  },
  {
   "cell_type": "code",
   "execution_count": null,
   "id": "203de1f5",
   "metadata": {},
   "outputs": [],
   "source": []
  },
  {
   "cell_type": "code",
   "execution_count": null,
   "id": "567208da",
   "metadata": {},
   "outputs": [],
   "source": []
  },
  {
   "cell_type": "code",
   "execution_count": 6,
   "id": "21f76065",
   "metadata": {},
   "outputs": [],
   "source": [
    "alfagift_member = pd.read_json('/home/server/mongo_export/alfagift_member.json')\n",
    "alfagift_member['sapa'] = alfagift_member['sapa'].fillna('-')\n",
    "alfagift_member['sapa'] = alfagift_member['sapa'].apply(lambda x: x.get('store_code') \\\n",
    "                                                        if x != '-' else '-')\n",
    "alfagift_member['sapa'] = alfagift_member['sapa'].apply(lambda x: '-' \\\n",
    "                                                        if x == '' else x)\n",
    "\n",
    "alfagift_member['created_at'] = alfagift_member['created_at'].fillna('2019-01-01T23:08:53.393Z')\n",
    "alfagift_member['created_at'] = alfagift_member['created_at'].apply(lambda x: x.get('$date') \\\n",
    "                                                                    if type(x) != str else x)\n",
    "\n",
    "# alfagift_member = alfagift_member[['account_card', 'sapa', 'created_at']]\n",
    "alfagift_member['sapa'] = alfagift_member['sapa'].apply(lambda x: 'sapa' if x != '-' else 'not_sapa')\n",
    "\n",
    "alfagift_member['created_at_d'] = pd.to_datetime(alfagift_member['created_at']).dt.strftime(\"%Y-%m-%d\")\n",
    "alfagift_member['created_at_m'] = pd.to_datetime(alfagift_member['created_at']).dt.strftime(\"%Y-%m\")\n",
    "\n",
    "alfagift_member['account_card'] = alfagift_member['account_card'].astype('str')"
   ]
  },
  {
   "cell_type": "code",
   "execution_count": null,
   "id": "09bb04d3",
   "metadata": {},
   "outputs": [],
   "source": []
  },
  {
   "cell_type": "code",
   "execution_count": 12,
   "id": "d15507e4",
   "metadata": {},
   "outputs": [],
   "source": [
    "## creating label for training set\n",
    "\n",
    "alfagift_member_sel = alfagift_member[(alfagift_member['created_at_m'] == '2022-01') |\n",
    "                                      (alfagift_member['created_at_m'] == '2022-02') |\n",
    "                                      (alfagift_member['created_at_m'] == '2022-03') |\n",
    "                                      (alfagift_member['created_at_m'] == '2022-04') ]\n",
    "alfagift_member_sel['created_at_d'] = pd.to_datetime(alfagift_member_sel['created_at']).dt.strftime(\"%Y-%m-%d\")\n",
    "\n",
    "\n",
    "li_sus = []\n",
    "for dr in pd.date_range('2022-01-01', '2022-04-06', freq='D'):\n",
    "    sel_created = dr.strftime(\"%Y-%m-%d\")\n",
    "\n",
    "    alfagift_member_sel_d = alfagift_member_sel[alfagift_member_sel['created_at_d'] == sel_created]\n",
    "    #print(alfagift_member_sel_d.shape)\n",
    "\n",
    "\n",
    "    ## suspect by IP\n",
    "    alfagift_member_sel_d_ip = alfagift_member_sel_d.groupby(['createdFromIp'])\\\n",
    "                            .agg(createdFromIp_count=('createdFromIp','count'))\n",
    "    alfagift_member_sel_d_ip = alfagift_member_sel_d_ip[\n",
    "        alfagift_member_sel_d_ip['createdFromIp_count'] >= 5].reset_index()\n",
    "\n",
    "    sus_by_ip = pd.merge(alfagift_member_sel_d_ip, alfagift_member_sel_d, on='createdFromIp', how='left')\n",
    "\n",
    "    ## suspect by phone\n",
    "    alfagift_member_sel_d['phone_sub'] =  alfagift_member_sel_d['phone'].str[0:9]\n",
    "    alfagift_member_sel_d_phone = alfagift_member_sel_d.groupby(['phone_sub'])\\\n",
    "                                .agg(createdFromIp_count=('phone_sub','count'))\n",
    "    alfagift_member_sel_d_phone = alfagift_member_sel_d_phone[\n",
    "        alfagift_member_sel_d_phone['createdFromIp_count'] >= 5].reset_index()\n",
    "\n",
    "    sus_by_phone = pd.merge(alfagift_member_sel_d_phone, alfagift_member_sel_d, on='phone_sub', how='left')\n",
    "    \n",
    "    ## saving by concating suspect aspect\n",
    "    sus_all = pd.concat([sus_by_ip[['account_card']], sus_by_phone[['account_card']]], axis=0)\\\n",
    "        .drop_duplicates()\n",
    "    li_sus.append(sus_all)\n",
    "    sus_all.to_csv(\n",
    "    '/home/server/gli-data-science/akhiyar/alfagift_alert/suspect_fraud/sus_{}'.format(sel_created))\n",
    "\n",
    "df_sus_all = pd.concat(li_sus).drop_duplicates()\n",
    "df_sus_all.to_csv(\n",
    "    '/home/server/gli-data-science/akhiyar/alfagift_alert/suspect_fraud/sus_all.csv', index=False)"
   ]
  },
  {
   "cell_type": "code",
   "execution_count": null,
   "id": "0a806fc7",
   "metadata": {},
   "outputs": [],
   "source": []
  },
  {
   "cell_type": "code",
   "execution_count": null,
   "id": "587905ef",
   "metadata": {},
   "outputs": [],
   "source": []
  },
  {
   "cell_type": "code",
   "execution_count": null,
   "id": "68a2831c",
   "metadata": {},
   "outputs": [],
   "source": []
  },
  {
   "cell_type": "code",
   "execution_count": null,
   "id": "b146cf13",
   "metadata": {
    "scrolled": false
   },
   "outputs": [],
   "source": []
  },
  {
   "cell_type": "code",
   "execution_count": null,
   "id": "c545e9c4",
   "metadata": {},
   "outputs": [],
   "source": []
  },
  {
   "cell_type": "code",
   "execution_count": null,
   "id": "0b2c32a4",
   "metadata": {},
   "outputs": [],
   "source": []
  },
  {
   "cell_type": "code",
   "execution_count": null,
   "id": "1d1728b7",
   "metadata": {},
   "outputs": [],
   "source": []
  },
  {
   "cell_type": "code",
   "execution_count": null,
   "id": "05c8c30b",
   "metadata": {},
   "outputs": [],
   "source": []
  },
  {
   "cell_type": "code",
   "execution_count": null,
   "id": "fda3f42a",
   "metadata": {
    "scrolled": false
   },
   "outputs": [],
   "source": []
  },
  {
   "cell_type": "code",
   "execution_count": null,
   "id": "0828df4b",
   "metadata": {},
   "outputs": [],
   "source": []
  },
  {
   "cell_type": "code",
   "execution_count": null,
   "id": "7337abf1",
   "metadata": {},
   "outputs": [],
   "source": []
  },
  {
   "cell_type": "code",
   "execution_count": null,
   "id": "e9847bef",
   "metadata": {},
   "outputs": [],
   "source": []
  },
  {
   "cell_type": "code",
   "execution_count": null,
   "id": "59cb682a",
   "metadata": {},
   "outputs": [],
   "source": []
  },
  {
   "cell_type": "code",
   "execution_count": null,
   "id": "2ab3893e",
   "metadata": {},
   "outputs": [],
   "source": []
  },
  {
   "cell_type": "code",
   "execution_count": null,
   "id": "bd60b2d2",
   "metadata": {},
   "outputs": [],
   "source": []
  },
  {
   "cell_type": "code",
   "execution_count": null,
   "id": "94aad933",
   "metadata": {},
   "outputs": [],
   "source": []
  },
  {
   "cell_type": "code",
   "execution_count": null,
   "id": "3483171a",
   "metadata": {},
   "outputs": [],
   "source": []
  },
  {
   "cell_type": "code",
   "execution_count": null,
   "id": "de38f370",
   "metadata": {},
   "outputs": [],
   "source": []
  },
  {
   "cell_type": "code",
   "execution_count": null,
   "id": "e67ebeef",
   "metadata": {},
   "outputs": [],
   "source": []
  },
  {
   "cell_type": "code",
   "execution_count": null,
   "id": "725a8f40",
   "metadata": {},
   "outputs": [],
   "source": []
  },
  {
   "cell_type": "code",
   "execution_count": null,
   "id": "f6668544",
   "metadata": {},
   "outputs": [],
   "source": []
  },
  {
   "cell_type": "code",
   "execution_count": null,
   "id": "63ea54f3",
   "metadata": {},
   "outputs": [],
   "source": []
  },
  {
   "cell_type": "code",
   "execution_count": 66,
   "id": "63a0d714",
   "metadata": {},
   "outputs": [],
   "source": [
    "li_sus = []\n",
    "for dr in pd.date_range('2022-01-01', '2022-04-06', freq='D'):\n",
    "    sel_created = dr.strftime(\"%Y-%m-%d\")\n",
    "\n",
    "    alfagift_member_sel_d = alfagift_member_sel[alfagift_member_sel['created_at_d'] == sel_created]\n",
    "\n",
    "\n",
    "    dict_register_ip = {}\n",
    "    r.set(\"register_ip\", json.dumps(dict_register_ip))\n",
    "    dict_register_prefix_phone = {}\n",
    "    r.set(\"register_prefix_phone\", json.dumps(dict_register_prefix_phone))\n",
    "    dict_register_lower_name = {}\n",
    "    r.set(\"register_lower_name\", json.dumps(dict_register_lower_name))\n",
    "\n",
    "    li_score_ip = []\n",
    "    li_score_prefix_phone = []\n",
    "    li_score_full_name = []\n",
    "    li_ponta = []\n",
    "    li_email = []\n",
    "\n",
    "    for idx, row in alfagift_member_sel_d.iterrows():\n",
    "        cur_ponta = row['account_card']\n",
    "        li_ponta.append(cur_ponta)\n",
    "        \n",
    "        cur_email = row['email']\n",
    "        li_email.append(cur_email)\n",
    "        \n",
    "        cur_ip = row['createdFromIp']\n",
    "        cur_prefix_phone = row['phone'][0:9]\n",
    "        cur_lower_name = row['full_name'].lower()\n",
    "\n",
    "        student_obj_as_bytes = r.get(\"register_ip\")\n",
    "        student_obj_as_str = student_obj_as_bytes.decode(\"utf-8\")\n",
    "        register_ip = json.loads(student_obj_as_str)\n",
    "\n",
    "        student_obj_as_bytes = r.get(\"register_prefix_phone\")\n",
    "        student_obj_as_str = student_obj_as_bytes.decode(\"utf-8\")\n",
    "        register_prefix_phone = json.loads(student_obj_as_str)\n",
    "\n",
    "        student_obj_as_bytes = r.get(\"register_lower_name\")\n",
    "        student_obj_as_str = student_obj_as_bytes.decode(\"utf-8\")\n",
    "        register_lower_name = json.loads(student_obj_as_str)\n",
    "\n",
    "        score_ip = 0\n",
    "        if cur_ip in register_ip:\n",
    "            score_ip += 1\n",
    "        score_prefix_phone = 0\n",
    "        if cur_prefix_phone in register_prefix_phone:\n",
    "            score_prefix_phone += 1\n",
    "        score_full_name = 0\n",
    "        if cur_lower_name in register_lower_name:\n",
    "            score_full_name += 1\n",
    "\n",
    "        li_score_ip.append(score_ip)\n",
    "        li_score_prefix_phone.append(score_prefix_phone)\n",
    "        li_score_full_name.append(score_full_name)\n",
    "\n",
    "\n",
    "        #print(register_ip) \n",
    "        if cur_ip in register_ip:\n",
    "            register_ip[cur_ip] += 1\n",
    "        else:\n",
    "            register_ip[cur_ip] = 1\n",
    "\n",
    "        if cur_prefix_phone in register_prefix_phone:\n",
    "            register_prefix_phone[cur_prefix_phone] += 1\n",
    "        else:\n",
    "            register_prefix_phone[cur_prefix_phone] = 1\n",
    "\n",
    "        if cur_lower_name in register_lower_name:\n",
    "            register_lower_name[cur_lower_name] += 1\n",
    "        else:\n",
    "            register_lower_name[cur_lower_name] = 1\n",
    "\n",
    "        r.set(\"register_ip\", json.dumps(register_ip))\n",
    "        r.set(\"register_prefix_phone\", json.dumps(register_prefix_phone))\n",
    "        r.set(\"register_lower_name\", json.dumps(register_lower_name))\n",
    "\n",
    "        break\n",
    "        \n",
    "    df_train = pd.DataFrame()\n",
    "    df_train['account_card'] = li_ponta\n",
    "    df_train['email'] = li_email\n",
    "    df_train['score_ip'] = li_score_ip\n",
    "    df_train['score_prefix_phone'] = li_score_prefix_phone\n",
    "    df_train['score_full_name'] = li_score_full_name\n",
    "    df_train['score_gibberish'] = df_train['email'].apply(score_gibberish)\n",
    "    df_train['score_sus_email'] = df_train['email'].apply(score_sus_email)"
   ]
  },
  {
   "cell_type": "code",
   "execution_count": null,
   "id": "0d66bc94",
   "metadata": {},
   "outputs": [],
   "source": []
  },
  {
   "cell_type": "code",
   "execution_count": 67,
   "id": "8a9b7947",
   "metadata": {},
   "outputs": [
    {
     "data": {
      "text/html": [
       "<div>\n",
       "<style scoped>\n",
       "    .dataframe tbody tr th:only-of-type {\n",
       "        vertical-align: middle;\n",
       "    }\n",
       "\n",
       "    .dataframe tbody tr th {\n",
       "        vertical-align: top;\n",
       "    }\n",
       "\n",
       "    .dataframe thead th {\n",
       "        text-align: right;\n",
       "    }\n",
       "</style>\n",
       "<table border=\"1\" class=\"dataframe\">\n",
       "  <thead>\n",
       "    <tr style=\"text-align: right;\">\n",
       "      <th></th>\n",
       "      <th>account_card</th>\n",
       "      <th>email</th>\n",
       "      <th>score_ip</th>\n",
       "      <th>score_prefix_phone</th>\n",
       "      <th>score_full_name</th>\n",
       "      <th>score_gibberish</th>\n",
       "      <th>score_sus_email</th>\n",
       "    </tr>\n",
       "  </thead>\n",
       "  <tbody>\n",
       "    <tr>\n",
       "      <th>0</th>\n",
       "      <td>9990013751796283</td>\n",
       "      <td>puji01236@gmail.com</td>\n",
       "      <td>0</td>\n",
       "      <td>0</td>\n",
       "      <td>0</td>\n",
       "      <td>0.50</td>\n",
       "      <td>0.25</td>\n",
       "    </tr>\n",
       "  </tbody>\n",
       "</table>\n",
       "</div>"
      ],
      "text/plain": [
       "       account_card                email  score_ip  score_prefix_phone  \\\n",
       "0  9990013751796283  puji01236@gmail.com         0                   0   \n",
       "\n",
       "   score_full_name  score_gibberish  score_sus_email  \n",
       "0                0             0.50             0.25  "
      ]
     },
     "execution_count": 67,
     "metadata": {},
     "output_type": "execute_result"
    }
   ],
   "source": [
    "df_train"
   ]
  },
  {
   "cell_type": "code",
   "execution_count": null,
   "id": "c16ddd5c",
   "metadata": {},
   "outputs": [],
   "source": []
  },
  {
   "cell_type": "code",
   "execution_count": null,
   "id": "b7868474",
   "metadata": {},
   "outputs": [],
   "source": []
  },
  {
   "cell_type": "code",
   "execution_count": null,
   "id": "874f2e26",
   "metadata": {},
   "outputs": [],
   "source": []
  },
  {
   "cell_type": "code",
   "execution_count": null,
   "id": "3fba8c81",
   "metadata": {},
   "outputs": [],
   "source": []
  },
  {
   "cell_type": "code",
   "execution_count": null,
   "id": "740291ce",
   "metadata": {},
   "outputs": [],
   "source": []
  },
  {
   "cell_type": "code",
   "execution_count": null,
   "id": "b0df5da2",
   "metadata": {},
   "outputs": [],
   "source": [
    "df_sample_test['score_ip'] = li_score_ip\n",
    "df_sample_test['score_prefix_phone'] = li_score_prefix_phone\n",
    "df_sample_test['score_full_name'] = li_score_full_name\n",
    "df_sample_test['score_gibberish'] = df_sample_test['email'].apply(score_gibberish)\n",
    "df_sample_test['score_sus_email'] = df_sample_test['email'].apply(score_sus_email)"
   ]
  },
  {
   "cell_type": "code",
   "execution_count": null,
   "id": "be57425e",
   "metadata": {
    "scrolled": false
   },
   "outputs": [],
   "source": []
  },
  {
   "cell_type": "code",
   "execution_count": null,
   "id": "71655653",
   "metadata": {},
   "outputs": [],
   "source": []
  },
  {
   "cell_type": "code",
   "execution_count": null,
   "id": "71366589",
   "metadata": {},
   "outputs": [],
   "source": [
    "# df_sample_test.head(100)"
   ]
  },
  {
   "cell_type": "code",
   "execution_count": null,
   "id": "b20b56ea",
   "metadata": {},
   "outputs": [],
   "source": [
    "df_sample_test[df_sample_test['createdFromIp'].str.contains('125.166.227.104', case=False)]"
   ]
  },
  {
   "cell_type": "code",
   "execution_count": null,
   "id": "79b8a68a",
   "metadata": {
    "scrolled": false
   },
   "outputs": [],
   "source": [
    "df_sample_test[df_sample_test['score_ip'] >= 0.25]\\\n",
    "[['full_name','phone','email','createdFromIp','score_prefix_phone','score_ip',\n",
    "  'score_full_name','score_gibberish','score_sus_email']].head(100)"
   ]
  },
  {
   "cell_type": "code",
   "execution_count": null,
   "id": "e723d5c0",
   "metadata": {},
   "outputs": [],
   "source": []
  },
  {
   "cell_type": "code",
   "execution_count": null,
   "id": "377135ff",
   "metadata": {},
   "outputs": [],
   "source": []
  },
  {
   "cell_type": "code",
   "execution_count": null,
   "id": "06745f60",
   "metadata": {},
   "outputs": [],
   "source": []
  },
  {
   "cell_type": "code",
   "execution_count": null,
   "id": "a1c70550",
   "metadata": {},
   "outputs": [],
   "source": []
  },
  {
   "cell_type": "code",
   "execution_count": null,
   "id": "f3523544",
   "metadata": {},
   "outputs": [],
   "source": []
  },
  {
   "cell_type": "code",
   "execution_count": null,
   "id": "8ac26458",
   "metadata": {},
   "outputs": [],
   "source": []
  },
  {
   "cell_type": "code",
   "execution_count": null,
   "id": "f1133ee6",
   "metadata": {},
   "outputs": [],
   "source": []
  },
  {
   "cell_type": "code",
   "execution_count": null,
   "id": "00d43333",
   "metadata": {},
   "outputs": [],
   "source": []
  },
  {
   "cell_type": "code",
   "execution_count": null,
   "id": "0429a74d",
   "metadata": {},
   "outputs": [],
   "source": []
  },
  {
   "cell_type": "code",
   "execution_count": null,
   "id": "c4578021",
   "metadata": {},
   "outputs": [],
   "source": []
  },
  {
   "cell_type": "code",
   "execution_count": null,
   "id": "098d77a0",
   "metadata": {},
   "outputs": [],
   "source": []
  },
  {
   "cell_type": "code",
   "execution_count": null,
   "id": "d8267517",
   "metadata": {},
   "outputs": [],
   "source": []
  }
 ],
 "metadata": {
  "kernelspec": {
   "display_name": "Python 3",
   "language": "python",
   "name": "python3"
  },
  "language_info": {
   "codemirror_mode": {
    "name": "ipython",
    "version": 3
   },
   "file_extension": ".py",
   "mimetype": "text/x-python",
   "name": "python",
   "nbconvert_exporter": "python",
   "pygments_lexer": "ipython3",
   "version": "3.8.5"
  }
 },
 "nbformat": 4,
 "nbformat_minor": 5
}
