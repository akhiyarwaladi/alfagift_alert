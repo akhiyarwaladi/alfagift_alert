{
 "cells": [
  {
   "cell_type": "code",
   "execution_count": 1,
   "id": "ce0dbf99",
   "metadata": {},
   "outputs": [],
   "source": [
    "import warnings\n",
    "warnings.simplefilter(action='ignore', category=FutureWarning)\n",
    "\n",
    "import redis\n",
    "import json\n",
    "from pprint import pprint\n",
    "\n",
    "import pymongo\n",
    "from datetime import datetime, timedelta, date\n",
    "import pandas as pd\n",
    "\n",
    "\n",
    "import numpy as np\n",
    "import pymongo\n",
    "import cx_Oracle\n",
    "import os\n",
    "import time\n",
    "import plotly.express as px\n",
    "from datetime import datetime, timedelta, date\n",
    "\n",
    "\n",
    "pd.set_option('display.max_rows', None)\n",
    "pd.set_option('display.max_columns', None)\n",
    "pd.set_option('display.width', None)\n",
    "pd.set_option('display.max_colwidth', None)\n",
    "pd.set_option('display.float_format', lambda x: '%.4f' % x)\n",
    "pd.options.mode.chained_assignment = None  # default='warn'\n",
    "\n",
    "\n",
    "\n",
    "from joblib import dump, load\n",
    "r = redis.Redis(host=\"127.0.0.1\", port=6379, db=0)"
   ]
  },
  {
   "cell_type": "code",
   "execution_count": null,
   "id": "cb78b083",
   "metadata": {},
   "outputs": [],
   "source": []
  },
  {
   "cell_type": "code",
   "execution_count": null,
   "id": "388e33f8",
   "metadata": {},
   "outputs": [],
   "source": []
  },
  {
   "cell_type": "code",
   "execution_count": 2,
   "id": "3566acc9",
   "metadata": {},
   "outputs": [],
   "source": [
    "virgo_abuseinject = pd.read_excel(\n",
    "    '/home/server/gli-data-science/ferina/Virgo_Abuse.xlsx'\n",
    "    ,dtype=object,sheet_name='Inject', names=['account_card'])\n",
    "\n",
    "\n",
    "# virgo_abuseuse = pd.read_excel(\n",
    "#     '/home/server/gli-data-science/ferina/Virgo_Abuse.xlsx'\n",
    "#     ,dtype=object,sheet_name='Use', names=['account_card'])\n",
    "\n",
    "## load feature and label \n",
    "df_sus_all = pd.read_csv(\n",
    "    '/home/server/gli-data-science/akhiyar/alfagift_alert/suspect_fraud_feature/group_day/train_full_withname1_increment.csv'\n",
    "    , dtype='object')\n",
    "# df_sus_all = df_sus_all[(df_sus_all['created_at_d'] >= '2021-12-01') \n",
    "#                         & (df_sus_all['created_at_d'] <= '2022-04-17')]\n",
    "\n",
    "sus_label = pd.read_csv('./suspect_fraud/sus_all_exclude_trx.csv', dtype='object', usecols=[0])\n",
    "\n",
    "\n",
    "df_label = pd.concat([sus_label, virgo_abuseinject]).drop_duplicates()\n",
    "df_label['label'] = 1\n",
    "\n",
    "## merging feature with suspect label\n",
    "df_train = pd.merge(df_sus_all, df_label, on='account_card', how='left')\n",
    "df_train['label'] = df_train['label'].fillna(0)\n",
    "\n",
    "df_train['score_gibberish'] = df_train['score_gibberish'].astype(float)\n",
    "df_train['score_sus_email'] = df_train['score_sus_email'].astype(int)\n",
    "df_train['createdFromIp_count'] = df_train['createdFromIp_count'].astype(int)\n",
    "df_train['phoneSub_count'] = df_train['phoneSub_count'].astype(int)\n",
    "df_train['full_name_sCount'] = df_train['full_name_sCount'].astype(int)\n",
    "df_train['full_name_eCount'] = df_train['full_name_eCount'].astype(int)"
   ]
  },
  {
   "cell_type": "code",
   "execution_count": null,
   "id": "dccde441",
   "metadata": {},
   "outputs": [],
   "source": []
  },
  {
   "cell_type": "code",
   "execution_count": 3,
   "id": "aca9cbd5",
   "metadata": {
    "scrolled": false
   },
   "outputs": [],
   "source": [
    "wrap_col = [\n",
    "'score_gibberish',\n",
    "'score_sus_email',\n",
    "'createdFromIp_count',\n",
    "'phoneSub_count',\n",
    "'full_name_sCount',\n",
    "'full_name_eCount'\n",
    "]"
   ]
  },
  {
   "cell_type": "code",
   "execution_count": 4,
   "id": "950c1a22",
   "metadata": {},
   "outputs": [],
   "source": [
    "# from sklearn.model_selection import train_test_split\n",
    "\n",
    "# X_train, X_test = train_test_split(df_train, \n",
    "#                         test_size=0.2, random_state=42)\n",
    "# X_train_feature = X_train[wrap_col]\n",
    "\n",
    "# from sklearn.cluster import KMeans\n",
    "\n",
    "# #Initiating the Agglomerative Clustering model \n",
    "# AC = KMeans(n_clusters=9, random_state=0)\n",
    "# # AC = KModes(n_clusters=5, init='Huang', n_init=5, verbose=1)\n",
    "\n",
    "# # fit model and predict clusters without PCA\n",
    "# y_train_res = AC.fit_predict(X_train_feature)\n",
    "\n",
    "# X_train[\"Clusters\"]= y_train_res\n",
    "\n",
    "# print(X_train[\"Clusters\"].value_counts())"
   ]
  },
  {
   "cell_type": "code",
   "execution_count": null,
   "id": "fffb98db",
   "metadata": {},
   "outputs": [],
   "source": []
  },
  {
   "cell_type": "code",
   "execution_count": 5,
   "id": "5ddb27a0",
   "metadata": {},
   "outputs": [],
   "source": [
    "# X_train[X_train['Clusters'] == 5].head(50)"
   ]
  },
  {
   "cell_type": "code",
   "execution_count": null,
   "id": "8a25cc49",
   "metadata": {},
   "outputs": [],
   "source": []
  },
  {
   "cell_type": "code",
   "execution_count": 6,
   "id": "ee1507b7",
   "metadata": {},
   "outputs": [],
   "source": [
    "# X_sim = np.array(\n",
    "# [[\n",
    "#     5,\n",
    "#     0,\n",
    "#     40,\n",
    "#     50,\n",
    "#     0,\n",
    "#     5\n",
    "# ]]\n",
    "# )\n",
    "\n",
    "# AC.predict(X_sim)"
   ]
  },
  {
   "cell_type": "code",
   "execution_count": null,
   "id": "6dfb672c",
   "metadata": {},
   "outputs": [],
   "source": []
  },
  {
   "cell_type": "code",
   "execution_count": null,
   "id": "8bdc1f9f",
   "metadata": {},
   "outputs": [],
   "source": []
  },
  {
   "cell_type": "code",
   "execution_count": 7,
   "id": "8e2bf88f",
   "metadata": {},
   "outputs": [],
   "source": [
    "wrap_col = [\n",
    "'score_gibberish',\n",
    "'score_sus_email',\n",
    "'createdFromIp_count',\n",
    "'phoneSub_count',\n",
    "]\n",
    "\n",
    "from sklearn.linear_model import LogisticRegression\n",
    "\n",
    "X_train1 = df_train[wrap_col]\n",
    "y_train1 = df_train['label']"
   ]
  },
  {
   "cell_type": "code",
   "execution_count": 8,
   "id": "7ddaa29d",
   "metadata": {},
   "outputs": [],
   "source": [
    "from sklearn.preprocessing import StandardScaler\n",
    "from sklearn.preprocessing import MinMaxScaler\n",
    "scaler = StandardScaler()\n",
    "scaler.fit(X_train1)\n",
    "X_train1_fit = scaler.transform(X_train1)"
   ]
  },
  {
   "cell_type": "code",
   "execution_count": 9,
   "id": "ca918953",
   "metadata": {},
   "outputs": [
    {
     "name": "stdout",
     "output_type": "stream",
     "text": [
      "[[1.66559527 0.5169351  0.41260547 0.76045662]]\n",
      "[-7.50713178]\n"
     ]
    }
   ],
   "source": [
    "clf = LogisticRegression(fit_intercept=True, tol=0.01)\n",
    "clf.fit(X_train1.values, y_train1.values)\n",
    "\n",
    "print(clf.coef_)\n",
    "print(clf.intercept_)"
   ]
  },
  {
   "cell_type": "code",
   "execution_count": 15,
   "id": "cd11c87c",
   "metadata": {},
   "outputs": [
    {
     "data": {
      "text/plain": [
       "['/home/server/gli-data-science/akhiyar/alfagift_alert/fraud_model/registrasi_logreg.pkl']"
      ]
     },
     "execution_count": 15,
     "metadata": {},
     "output_type": "execute_result"
    }
   ],
   "source": [
    "dump(clf, '/home/server/gli-data-science/akhiyar/alfagift_alert/fraud_model/registrasi_logreg.pkl')"
   ]
  },
  {
   "cell_type": "code",
   "execution_count": null,
   "id": "321d7ec3",
   "metadata": {},
   "outputs": [],
   "source": []
  },
  {
   "cell_type": "code",
   "execution_count": 11,
   "id": "51115cd7",
   "metadata": {},
   "outputs": [
    {
     "data": {
      "text/html": [
       "<div>\n",
       "<style scoped>\n",
       "    .dataframe tbody tr th:only-of-type {\n",
       "        vertical-align: middle;\n",
       "    }\n",
       "\n",
       "    .dataframe tbody tr th {\n",
       "        vertical-align: top;\n",
       "    }\n",
       "\n",
       "    .dataframe thead th {\n",
       "        text-align: right;\n",
       "    }\n",
       "</style>\n",
       "<table border=\"1\" class=\"dataframe\">\n",
       "  <thead>\n",
       "    <tr style=\"text-align: right;\">\n",
       "      <th></th>\n",
       "      <th>variabel</th>\n",
       "      <th>bobot</th>\n",
       "      <th>feature</th>\n",
       "    </tr>\n",
       "  </thead>\n",
       "  <tbody>\n",
       "    <tr>\n",
       "      <th>0</th>\n",
       "      <td>score_gibberish</td>\n",
       "      <td>1.6656</td>\n",
       "      <td>3.2252</td>\n",
       "    </tr>\n",
       "    <tr>\n",
       "      <th>1</th>\n",
       "      <td>score_sus_email</td>\n",
       "      <td>0.5169</td>\n",
       "      <td>0.0000</td>\n",
       "    </tr>\n",
       "    <tr>\n",
       "      <th>2</th>\n",
       "      <td>createdFromIp_count</td>\n",
       "      <td>0.4126</td>\n",
       "      <td>0.0000</td>\n",
       "    </tr>\n",
       "    <tr>\n",
       "      <th>3</th>\n",
       "      <td>phoneSub_count</td>\n",
       "      <td>0.7605</td>\n",
       "      <td>0.0000</td>\n",
       "    </tr>\n",
       "  </tbody>\n",
       "</table>\n",
       "</div>"
      ],
      "text/plain": [
       "              variabel  bobot  feature\n",
       "0      score_gibberish 1.6656   3.2252\n",
       "1      score_sus_email 0.5169   0.0000\n",
       "2  createdFromIp_count 0.4126   0.0000\n",
       "3       phoneSub_count 0.7605   0.0000"
      ]
     },
     "execution_count": 11,
     "metadata": {},
     "output_type": "execute_result"
    }
   ],
   "source": [
    "res_pred = pd.concat([\n",
    "    pd.DataFrame(wrap_col, columns=['variabel']), \n",
    "    pd.DataFrame(clf.coef_[0], columns=['bobot']),\n",
    "    pd.DataFrame(X_train1.values[0], columns=['feature'])      \n",
    "], 1)\n",
    "res_pred"
   ]
  },
  {
   "cell_type": "code",
   "execution_count": 13,
   "id": "b9c68bd3",
   "metadata": {},
   "outputs": [
    {
     "data": {
      "text/plain": [
       "array([[0.60638581, 0.39361419]])"
      ]
     },
     "execution_count": 13,
     "metadata": {},
     "output_type": "execute_result"
    }
   ],
   "source": [
    "X_sim = np.array(\n",
    "[[\n",
    "    4,\n",
    "    0,\n",
    "    1,\n",
    "    0,\n",
    "]]\n",
    ")\n",
    "\n",
    "clf.predict_proba(X_sim)"
   ]
  },
  {
   "cell_type": "code",
   "execution_count": null,
   "id": "32b02c03",
   "metadata": {},
   "outputs": [],
   "source": [
    "dump(clf, './model/regis_logreg_withname1_increment.pkl')"
   ]
  },
  {
   "cell_type": "code",
   "execution_count": null,
   "id": "dda61eeb",
   "metadata": {},
   "outputs": [],
   "source": []
  },
  {
   "cell_type": "code",
   "execution_count": null,
   "id": "7b09560e",
   "metadata": {},
   "outputs": [],
   "source": []
  },
  {
   "cell_type": "code",
   "execution_count": null,
   "id": "1ae3e07c",
   "metadata": {},
   "outputs": [],
   "source": [
    "df_show = pd.concat([df_train[['full_name','email','createdFromIp','phone']],\n",
    "                     X_train1,\n",
    "                     pd.DataFrame(clf.predict_proba(X_train1), columns=['non','score'])[['score']]], axis=1)"
   ]
  },
  {
   "cell_type": "code",
   "execution_count": null,
   "id": "c4c4999a",
   "metadata": {
    "scrolled": false
   },
   "outputs": [],
   "source": [
    "df_show[(df_show['createdFromIp_count'] > 5) \n",
    "        & (df_show['createdFromIp_count'] < 8)\n",
    "       & (df_show['score'] < 0.5)].tail(200)"
   ]
  },
  {
   "cell_type": "code",
   "execution_count": null,
   "id": "12b24045",
   "metadata": {},
   "outputs": [],
   "source": [
    "df_show.head()"
   ]
  },
  {
   "cell_type": "code",
   "execution_count": null,
   "id": "450517f8",
   "metadata": {},
   "outputs": [],
   "source": []
  },
  {
   "cell_type": "code",
   "execution_count": null,
   "id": "619445ae",
   "metadata": {},
   "outputs": [],
   "source": []
  },
  {
   "cell_type": "code",
   "execution_count": null,
   "id": "ddeedf1b",
   "metadata": {},
   "outputs": [],
   "source": []
  },
  {
   "cell_type": "code",
   "execution_count": null,
   "id": "779526d4",
   "metadata": {},
   "outputs": [],
   "source": [
    "li_train = []\n",
    "for dr in pd.date_range('2022-01-01', '2022-04-06', freq='D'):\n",
    "    sel_created = dr.strftime(\"%Y-%m-%d\")\n",
    "\n",
    "    alfagift_member_sel_d = alfagift_member_sel[alfagift_member_sel['created_at_d'] == sel_created]\n",
    "\n",
    "\n",
    "    dict_register_ip = {}\n",
    "    r.set(\"register_ip\", json.dumps(dict_register_ip))\n",
    "    dict_register_prefix_phone = {}\n",
    "    r.set(\"register_prefix_phone\", json.dumps(dict_register_prefix_phone))\n",
    "    dict_register_lower_name = {}\n",
    "    r.set(\"register_lower_name\", json.dumps(dict_register_lower_name))\n",
    "\n",
    "    li_score_ip = []\n",
    "    li_score_prefix_phone = []\n",
    "    li_score_full_name = []\n",
    "    li_ponta = []\n",
    "    li_email = []\n",
    "    score_ip = 0\n",
    "    score_prefix_phone = 0\n",
    "    score_full_name = 0\n",
    "    \n",
    "    \n",
    "    for idx, row in alfagift_member_sel_d.iterrows():\n",
    "        cur_ponta = row['account_card']\n",
    "        li_ponta.append(cur_ponta)\n",
    "        \n",
    "        cur_email = row['email']\n",
    "        li_email.append(cur_email)\n",
    "        \n",
    "        cur_ip = row['createdFromIp']\n",
    "        cur_prefix_phone = row['phone'][0:9]\n",
    "        cur_lower_name = row['full_name'].lower()\n",
    "\n",
    "        student_obj_as_bytes = r.get(\"register_ip\")\n",
    "        student_obj_as_str = student_obj_as_bytes.decode(\"utf-8\")\n",
    "        register_ip = json.loads(student_obj_as_str)\n",
    "\n",
    "        student_obj_as_bytes = r.get(\"register_prefix_phone\")\n",
    "        student_obj_as_str = student_obj_as_bytes.decode(\"utf-8\")\n",
    "        register_prefix_phone = json.loads(student_obj_as_str)\n",
    "\n",
    "        student_obj_as_bytes = r.get(\"register_lower_name\")\n",
    "        student_obj_as_str = student_obj_as_bytes.decode(\"utf-8\")\n",
    "        register_lower_name = json.loads(student_obj_as_str)\n",
    "\n",
    "        \n",
    "        if cur_ip in register_ip:\n",
    "            score_ip += 1\n",
    "        \n",
    "        if cur_prefix_phone in register_prefix_phone:\n",
    "            score_prefix_phone += 1\n",
    "        \n",
    "        if cur_lower_name in register_lower_name:\n",
    "            score_full_name += 1\n",
    "\n",
    "        li_score_ip.append(score_ip)\n",
    "        li_score_prefix_phone.append(score_prefix_phone)\n",
    "        li_score_full_name.append(score_full_name)\n",
    "\n",
    "\n",
    "        \n",
    "        if cur_ip in register_ip:\n",
    "            register_ip[cur_ip] += 1\n",
    "        else:\n",
    "            register_ip[cur_ip] = 1\n",
    "\n",
    "        if cur_prefix_phone in register_prefix_phone:\n",
    "            register_prefix_phone[cur_prefix_phone] += 1\n",
    "        else:\n",
    "            register_prefix_phone[cur_prefix_phone] = 1\n",
    "\n",
    "        if cur_lower_name in register_lower_name:\n",
    "            register_lower_name[cur_lower_name] += 1\n",
    "        else:\n",
    "            register_lower_name[cur_lower_name] = 1\n",
    "\n",
    "        r.set(\"register_ip\", json.dumps(register_ip))\n",
    "        r.set(\"register_prefix_phone\", json.dumps(register_prefix_phone))\n",
    "        r.set(\"register_lower_name\", json.dumps(register_lower_name))\n",
    "\n",
    "        #break\n",
    "    student_obj_as_bytes = r.get(\"register_ip\")\n",
    "    student_obj_as_str = student_obj_as_bytes.decode(\"utf-8\")\n",
    "    register_ip = json.loads(student_obj_as_str)\n",
    "\n",
    "    student_obj_as_bytes = r.get(\"register_prefix_phone\")\n",
    "    student_obj_as_str = student_obj_as_bytes.decode(\"utf-8\")\n",
    "    register_prefix_phone = json.loads(student_obj_as_str)\n",
    "\n",
    "    student_obj_as_bytes = r.get(\"register_lower_name\")\n",
    "    student_obj_as_str = student_obj_as_bytes.decode(\"utf-8\")\n",
    "    register_lower_name = json.loads(student_obj_as_str)\n",
    "        \n",
    "    df_train = alfagift_member_sel_d.copy()\n",
    "\n",
    "    df_train['score_ip'] = li_score_ip\n",
    "    df_train['score_prefix_phone'] = li_score_prefix_phone\n",
    "    df_train['score_full_name'] = li_score_full_name\n",
    "    \n",
    "    df_train['sum_score_ip'] = df_train['createdFromIp'].apply(lambda x: register_ip[x])\n",
    "    df_train['sum_score_prefix_phone'] = df_train['phone'].apply(lambda x: register_prefix_phone[x[0:9]])\n",
    "    df_train['sum_score_full_name'] = df_train['full_name'].apply(lambda x: register_lower_name[x.lower()])\n",
    "    df_train['score_gibberish'] = df_train['email'].apply(score_gibberish)\n",
    "    df_train['score_sus_email'] = df_train['email'].apply(score_sus_email)\n",
    "    df_train = df_train.drop(['_id','gender','birth_date','marital_status'], axis=1)\n",
    "    df_train.to_csv(\n",
    "        '/home/server/gli-data-science/akhiyar/alfagift_alert/suspect_fraud_feature/train_{}'\\\n",
    "        .format(sel_created),index=False)\n",
    "    li_train.append(df_train)"
   ]
  },
  {
   "cell_type": "code",
   "execution_count": null,
   "id": "10d21f8a",
   "metadata": {},
   "outputs": [],
   "source": []
  },
  {
   "cell_type": "code",
   "execution_count": null,
   "id": "9fc709b3",
   "metadata": {},
   "outputs": [],
   "source": []
  },
  {
   "cell_type": "code",
   "execution_count": null,
   "id": "4a669241",
   "metadata": {},
   "outputs": [],
   "source": []
  },
  {
   "cell_type": "code",
   "execution_count": null,
   "id": "28ef9293",
   "metadata": {},
   "outputs": [],
   "source": []
  },
  {
   "cell_type": "code",
   "execution_count": null,
   "id": "252aab67",
   "metadata": {},
   "outputs": [],
   "source": []
  },
  {
   "cell_type": "code",
   "execution_count": null,
   "id": "38cbf24a",
   "metadata": {},
   "outputs": [],
   "source": []
  },
  {
   "cell_type": "code",
   "execution_count": null,
   "id": "30d394ea",
   "metadata": {},
   "outputs": [],
   "source": []
  },
  {
   "cell_type": "code",
   "execution_count": null,
   "id": "1e97ecee",
   "metadata": {},
   "outputs": [],
   "source": []
  },
  {
   "cell_type": "code",
   "execution_count": null,
   "id": "3784e48c",
   "metadata": {},
   "outputs": [],
   "source": []
  },
  {
   "cell_type": "code",
   "execution_count": null,
   "id": "f457716f",
   "metadata": {},
   "outputs": [],
   "source": []
  },
  {
   "cell_type": "code",
   "execution_count": null,
   "id": "f12207b2",
   "metadata": {},
   "outputs": [],
   "source": []
  },
  {
   "cell_type": "code",
   "execution_count": null,
   "id": "c28c2cf5",
   "metadata": {},
   "outputs": [],
   "source": []
  },
  {
   "cell_type": "code",
   "execution_count": null,
   "id": "8f01c45e",
   "metadata": {},
   "outputs": [],
   "source": []
  },
  {
   "cell_type": "code",
   "execution_count": null,
   "id": "924ea39e",
   "metadata": {},
   "outputs": [],
   "source": []
  },
  {
   "cell_type": "code",
   "execution_count": null,
   "id": "af3d8186",
   "metadata": {},
   "outputs": [],
   "source": []
  },
  {
   "cell_type": "code",
   "execution_count": null,
   "id": "5eddc99f",
   "metadata": {},
   "outputs": [],
   "source": []
  },
  {
   "cell_type": "code",
   "execution_count": null,
   "id": "e1932b19",
   "metadata": {},
   "outputs": [],
   "source": []
  },
  {
   "cell_type": "code",
   "execution_count": null,
   "id": "85ff802a",
   "metadata": {},
   "outputs": [],
   "source": []
  },
  {
   "cell_type": "code",
   "execution_count": null,
   "id": "81294970",
   "metadata": {},
   "outputs": [],
   "source": []
  }
 ],
 "metadata": {
  "kernelspec": {
   "display_name": "Python 3",
   "language": "python",
   "name": "python3"
  },
  "language_info": {
   "codemirror_mode": {
    "name": "ipython",
    "version": 3
   },
   "file_extension": ".py",
   "mimetype": "text/x-python",
   "name": "python",
   "nbconvert_exporter": "python",
   "pygments_lexer": "ipython3",
   "version": "3.8.5"
  }
 },
 "nbformat": 4,
 "nbformat_minor": 5
}
