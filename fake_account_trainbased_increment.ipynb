{
 "cells": [
  {
   "cell_type": "code",
   "execution_count": 1,
   "id": "6d07c4de",
   "metadata": {},
   "outputs": [],
   "source": [
    "import warnings\n",
    "warnings.simplefilter(action='ignore', category=FutureWarning)\n",
    "\n",
    "import redis\n",
    "import json\n",
    "from pprint import pprint\n",
    "\n",
    "import pymongo\n",
    "from datetime import datetime, timedelta, date\n",
    "import pandas as pd\n",
    "\n",
    "\n",
    "import numpy as np\n",
    "import pymongo\n",
    "import cx_Oracle\n",
    "import os\n",
    "import time\n",
    "import plotly.express as px\n",
    "from datetime import datetime, timedelta, date\n",
    "\n",
    "\n",
    "pd.set_option('display.max_rows', None)\n",
    "pd.set_option('display.max_columns', None)\n",
    "pd.set_option('display.width', None)\n",
    "pd.set_option('display.max_colwidth', None)\n",
    "pd.set_option('display.float_format', lambda x: '%.2f' % x)\n",
    "pd.options.mode.chained_assignment = None  # default='warn'\n",
    "\n",
    "\n",
    "\n",
    "from joblib import dump, load\n",
    "r = redis.Redis(host=\"127.0.0.1\", port=6379, db=0)"
   ]
  },
  {
   "cell_type": "code",
   "execution_count": null,
   "id": "aa4d094e",
   "metadata": {},
   "outputs": [],
   "source": []
  },
  {
   "cell_type": "code",
   "execution_count": null,
   "id": "bf25abae",
   "metadata": {},
   "outputs": [],
   "source": []
  },
  {
   "cell_type": "code",
   "execution_count": 2,
   "id": "0cae2947",
   "metadata": {},
   "outputs": [],
   "source": [
    "virgo_abuseinject = pd.read_excel(\n",
    "    '/home/server/gli-data-science/ferina/Virgo_Abuse.xlsx'\n",
    "    ,dtype=object,sheet_name='Inject', names=['account_card'])\n",
    "\n",
    "\n",
    "# virgo_abuseuse = pd.read_excel(\n",
    "#     '/home/server/gli-data-science/ferina/Virgo_Abuse.xlsx'\n",
    "#     ,dtype=object,sheet_name='Use', names=['account_card'])\n",
    "\n",
    "## load feature and label \n",
    "df_sus_all = pd.read_csv(\n",
    "    '/home/server/gli-data-science/akhiyar/alfagift_alert/suspect_fraud_feature/group_day/train_full_withname1_increment.csv'\n",
    "    , dtype='object')\n",
    "# df_sus_all = df_sus_all[(df_sus_all['created_at_d'] >= '2021-12-01') \n",
    "#                         & (df_sus_all['created_at_d'] <= '2022-04-17')]\n",
    "\n",
    "sus_label = pd.read_csv('./suspect_fraud/sus_all_exclude_trx.csv', dtype='object', usecols=[0])\n",
    "\n",
    "\n",
    "df_label = pd.concat([sus_label, virgo_abuseinject]).drop_duplicates()\n",
    "df_label['label'] = 1\n",
    "\n",
    "## merging feature with suspect label\n",
    "df_train = pd.merge(df_sus_all, df_label, on='account_card', how='left')\n",
    "df_train['label'] = df_train['label'].fillna(0)\n",
    "\n",
    "df_train['score_gibberish'] = df_train['score_gibberish'].astype(float)\n",
    "df_train['score_sus_email'] = df_train['score_sus_email'].astype(int)\n",
    "df_train['createdFromIp_count'] = df_train['createdFromIp_count'].astype(int)\n",
    "df_train['phoneSub_count'] = df_train['phoneSub_count'].astype(int)\n",
    "df_train['full_name_sCount'] = df_train['full_name_sCount'].astype(int)\n",
    "df_train['full_name_eCount'] = df_train['full_name_eCount'].astype(int)"
   ]
  },
  {
   "cell_type": "code",
   "execution_count": null,
   "id": "c832290c",
   "metadata": {},
   "outputs": [],
   "source": []
  },
  {
   "cell_type": "code",
   "execution_count": 3,
   "id": "90ce68e9",
   "metadata": {
    "scrolled": false
   },
   "outputs": [],
   "source": [
    "wrap_col = [\n",
    "'score_gibberish',\n",
    "'score_sus_email',\n",
    "'createdFromIp_count',\n",
    "'phoneSub_count',\n",
    "'full_name_sCount',\n",
    "'full_name_eCount'\n",
    "]"
   ]
  },
  {
   "cell_type": "code",
   "execution_count": null,
   "id": "4eba13b9",
   "metadata": {},
   "outputs": [],
   "source": [
    "from sklearn.model_selection import train_test_split\n",
    "\n",
    "X_train, X_test = train_test_split(df_train, \n",
    "                        test_size=0.2, random_state=42)\n",
    "X_train_feature = X_train[wrap_col]\n",
    "\n",
    "from sklearn.cluster import KMeans\n",
    "\n",
    "#Initiating the Agglomerative Clustering model \n",
    "AC = KMeans(n_clusters=9, random_state=0)\n",
    "# AC = KModes(n_clusters=5, init='Huang', n_init=5, verbose=1)\n",
    "\n",
    "# fit model and predict clusters without PCA\n",
    "y_train_res = AC.fit_predict(X_train_feature)\n",
    "\n",
    "X_train[\"Clusters\"]= y_train_res\n",
    "\n",
    "print(X_train[\"Clusters\"].value_counts())"
   ]
  },
  {
   "cell_type": "code",
   "execution_count": null,
   "id": "3c18149e",
   "metadata": {},
   "outputs": [],
   "source": []
  },
  {
   "cell_type": "code",
   "execution_count": null,
   "id": "b6b19912",
   "metadata": {},
   "outputs": [],
   "source": [
    "X_train[X_train['Clusters'] == 3].head(50)"
   ]
  },
  {
   "cell_type": "code",
   "execution_count": null,
   "id": "c8bdea70",
   "metadata": {},
   "outputs": [],
   "source": []
  },
  {
   "cell_type": "code",
   "execution_count": null,
   "id": "9a174519",
   "metadata": {},
   "outputs": [],
   "source": [
    "X_sim = np.array(\n",
    "[[\n",
    "    4.2,\n",
    "    1,\n",
    "    13,\n",
    "    0,\n",
    "    5,\n",
    "    5\n",
    "]]\n",
    ")\n",
    "\n",
    "AC.predict(X_sim)"
   ]
  },
  {
   "cell_type": "code",
   "execution_count": null,
   "id": "23054583",
   "metadata": {},
   "outputs": [],
   "source": [
    "wrap_col"
   ]
  },
  {
   "cell_type": "code",
   "execution_count": null,
   "id": "3506f9cc",
   "metadata": {},
   "outputs": [],
   "source": [
    "wrap_col.remove('score_sus_email')"
   ]
  },
  {
   "cell_type": "code",
   "execution_count": null,
   "id": "9e75103e",
   "metadata": {},
   "outputs": [],
   "source": [
    "from sklearn.linear_model import LogisticRegression\n",
    "\n",
    "X_train1 = df_train[wrap_col]\n",
    "y_train1 = df_train['label']"
   ]
  },
  {
   "cell_type": "code",
   "execution_count": null,
   "id": "7d837723",
   "metadata": {},
   "outputs": [],
   "source": []
  },
  {
   "cell_type": "code",
   "execution_count": null,
   "id": "8bb9fd9e",
   "metadata": {},
   "outputs": [],
   "source": [
    "\n",
    "\n",
    "clf = LogisticRegression(fit_intercept=True, tol=0.01)\n",
    "clf.fit(X_train1, y_train1)\n",
    "\n",
    "print(clf.coef_)\n",
    "print(clf.intercept_)"
   ]
  },
  {
   "cell_type": "code",
   "execution_count": null,
   "id": "7bb9f4f9",
   "metadata": {},
   "outputs": [],
   "source": [
    "X_sim = np.array(\n",
    "[[\n",
    "    5,\n",
    "    5,\n",
    "    0,\n",
    "    0,\n",
    "    0\n",
    "]]\n",
    ")\n",
    "\n",
    "clf.predict(X_sim)"
   ]
  },
  {
   "cell_type": "code",
   "execution_count": null,
   "id": "ff8e81ef",
   "metadata": {},
   "outputs": [],
   "source": []
  },
  {
   "cell_type": "code",
   "execution_count": null,
   "id": "b7e42bca",
   "metadata": {},
   "outputs": [],
   "source": []
  },
  {
   "cell_type": "code",
   "execution_count": null,
   "id": "db831d60",
   "metadata": {},
   "outputs": [],
   "source": []
  },
  {
   "cell_type": "code",
   "execution_count": null,
   "id": "3a40a4eb",
   "metadata": {},
   "outputs": [],
   "source": []
  },
  {
   "cell_type": "code",
   "execution_count": null,
   "id": "e78d4434",
   "metadata": {},
   "outputs": [],
   "source": []
  },
  {
   "cell_type": "code",
   "execution_count": null,
   "id": "2aee20de",
   "metadata": {},
   "outputs": [],
   "source": []
  },
  {
   "cell_type": "code",
   "execution_count": null,
   "id": "29b001e6",
   "metadata": {},
   "outputs": [],
   "source": []
  },
  {
   "cell_type": "code",
   "execution_count": null,
   "id": "e44f5dbb",
   "metadata": {},
   "outputs": [],
   "source": []
  },
  {
   "cell_type": "code",
   "execution_count": null,
   "id": "34bd4d7f",
   "metadata": {},
   "outputs": [],
   "source": []
  },
  {
   "cell_type": "code",
   "execution_count": null,
   "id": "b5e46deb",
   "metadata": {},
   "outputs": [],
   "source": [
    "li_train = []\n",
    "for dr in pd.date_range('2022-01-01', '2022-04-06', freq='D'):\n",
    "    sel_created = dr.strftime(\"%Y-%m-%d\")\n",
    "\n",
    "    alfagift_member_sel_d = alfagift_member_sel[alfagift_member_sel['created_at_d'] == sel_created]\n",
    "\n",
    "\n",
    "    dict_register_ip = {}\n",
    "    r.set(\"register_ip\", json.dumps(dict_register_ip))\n",
    "    dict_register_prefix_phone = {}\n",
    "    r.set(\"register_prefix_phone\", json.dumps(dict_register_prefix_phone))\n",
    "    dict_register_lower_name = {}\n",
    "    r.set(\"register_lower_name\", json.dumps(dict_register_lower_name))\n",
    "\n",
    "    li_score_ip = []\n",
    "    li_score_prefix_phone = []\n",
    "    li_score_full_name = []\n",
    "    li_ponta = []\n",
    "    li_email = []\n",
    "    score_ip = 0\n",
    "    score_prefix_phone = 0\n",
    "    score_full_name = 0\n",
    "    \n",
    "    \n",
    "    for idx, row in alfagift_member_sel_d.iterrows():\n",
    "        cur_ponta = row['account_card']\n",
    "        li_ponta.append(cur_ponta)\n",
    "        \n",
    "        cur_email = row['email']\n",
    "        li_email.append(cur_email)\n",
    "        \n",
    "        cur_ip = row['createdFromIp']\n",
    "        cur_prefix_phone = row['phone'][0:9]\n",
    "        cur_lower_name = row['full_name'].lower()\n",
    "\n",
    "        student_obj_as_bytes = r.get(\"register_ip\")\n",
    "        student_obj_as_str = student_obj_as_bytes.decode(\"utf-8\")\n",
    "        register_ip = json.loads(student_obj_as_str)\n",
    "\n",
    "        student_obj_as_bytes = r.get(\"register_prefix_phone\")\n",
    "        student_obj_as_str = student_obj_as_bytes.decode(\"utf-8\")\n",
    "        register_prefix_phone = json.loads(student_obj_as_str)\n",
    "\n",
    "        student_obj_as_bytes = r.get(\"register_lower_name\")\n",
    "        student_obj_as_str = student_obj_as_bytes.decode(\"utf-8\")\n",
    "        register_lower_name = json.loads(student_obj_as_str)\n",
    "\n",
    "        \n",
    "        if cur_ip in register_ip:\n",
    "            score_ip += 1\n",
    "        \n",
    "        if cur_prefix_phone in register_prefix_phone:\n",
    "            score_prefix_phone += 1\n",
    "        \n",
    "        if cur_lower_name in register_lower_name:\n",
    "            score_full_name += 1\n",
    "\n",
    "        li_score_ip.append(score_ip)\n",
    "        li_score_prefix_phone.append(score_prefix_phone)\n",
    "        li_score_full_name.append(score_full_name)\n",
    "\n",
    "\n",
    "        \n",
    "        if cur_ip in register_ip:\n",
    "            register_ip[cur_ip] += 1\n",
    "        else:\n",
    "            register_ip[cur_ip] = 1\n",
    "\n",
    "        if cur_prefix_phone in register_prefix_phone:\n",
    "            register_prefix_phone[cur_prefix_phone] += 1\n",
    "        else:\n",
    "            register_prefix_phone[cur_prefix_phone] = 1\n",
    "\n",
    "        if cur_lower_name in register_lower_name:\n",
    "            register_lower_name[cur_lower_name] += 1\n",
    "        else:\n",
    "            register_lower_name[cur_lower_name] = 1\n",
    "\n",
    "        r.set(\"register_ip\", json.dumps(register_ip))\n",
    "        r.set(\"register_prefix_phone\", json.dumps(register_prefix_phone))\n",
    "        r.set(\"register_lower_name\", json.dumps(register_lower_name))\n",
    "\n",
    "        #break\n",
    "    student_obj_as_bytes = r.get(\"register_ip\")\n",
    "    student_obj_as_str = student_obj_as_bytes.decode(\"utf-8\")\n",
    "    register_ip = json.loads(student_obj_as_str)\n",
    "\n",
    "    student_obj_as_bytes = r.get(\"register_prefix_phone\")\n",
    "    student_obj_as_str = student_obj_as_bytes.decode(\"utf-8\")\n",
    "    register_prefix_phone = json.loads(student_obj_as_str)\n",
    "\n",
    "    student_obj_as_bytes = r.get(\"register_lower_name\")\n",
    "    student_obj_as_str = student_obj_as_bytes.decode(\"utf-8\")\n",
    "    register_lower_name = json.loads(student_obj_as_str)\n",
    "        \n",
    "    df_train = alfagift_member_sel_d.copy()\n",
    "\n",
    "    df_train['score_ip'] = li_score_ip\n",
    "    df_train['score_prefix_phone'] = li_score_prefix_phone\n",
    "    df_train['score_full_name'] = li_score_full_name\n",
    "    \n",
    "    df_train['sum_score_ip'] = df_train['createdFromIp'].apply(lambda x: register_ip[x])\n",
    "    df_train['sum_score_prefix_phone'] = df_train['phone'].apply(lambda x: register_prefix_phone[x[0:9]])\n",
    "    df_train['sum_score_full_name'] = df_train['full_name'].apply(lambda x: register_lower_name[x.lower()])\n",
    "    df_train['score_gibberish'] = df_train['email'].apply(score_gibberish)\n",
    "    df_train['score_sus_email'] = df_train['email'].apply(score_sus_email)\n",
    "    df_train = df_train.drop(['_id','gender','birth_date','marital_status'], axis=1)\n",
    "    df_train.to_csv(\n",
    "        '/home/server/gli-data-science/akhiyar/alfagift_alert/suspect_fraud_feature/train_{}'\\\n",
    "        .format(sel_created),index=False)\n",
    "    li_train.append(df_train)"
   ]
  },
  {
   "cell_type": "code",
   "execution_count": null,
   "id": "e2096ba1",
   "metadata": {},
   "outputs": [],
   "source": []
  },
  {
   "cell_type": "code",
   "execution_count": null,
   "id": "7f35e2aa",
   "metadata": {},
   "outputs": [],
   "source": []
  },
  {
   "cell_type": "code",
   "execution_count": null,
   "id": "5ea615c4",
   "metadata": {},
   "outputs": [],
   "source": []
  },
  {
   "cell_type": "code",
   "execution_count": null,
   "id": "3c309850",
   "metadata": {},
   "outputs": [],
   "source": []
  },
  {
   "cell_type": "code",
   "execution_count": null,
   "id": "6cd0c850",
   "metadata": {},
   "outputs": [],
   "source": []
  },
  {
   "cell_type": "code",
   "execution_count": null,
   "id": "4317e230",
   "metadata": {},
   "outputs": [],
   "source": []
  },
  {
   "cell_type": "code",
   "execution_count": null,
   "id": "bc31f54d",
   "metadata": {},
   "outputs": [],
   "source": []
  },
  {
   "cell_type": "code",
   "execution_count": null,
   "id": "537103e5",
   "metadata": {},
   "outputs": [],
   "source": []
  },
  {
   "cell_type": "code",
   "execution_count": null,
   "id": "e74d196a",
   "metadata": {},
   "outputs": [],
   "source": []
  },
  {
   "cell_type": "code",
   "execution_count": null,
   "id": "4b95d4f8",
   "metadata": {},
   "outputs": [],
   "source": []
  },
  {
   "cell_type": "code",
   "execution_count": null,
   "id": "826099c7",
   "metadata": {},
   "outputs": [],
   "source": []
  },
  {
   "cell_type": "code",
   "execution_count": null,
   "id": "7ce5ec52",
   "metadata": {},
   "outputs": [],
   "source": []
  },
  {
   "cell_type": "code",
   "execution_count": null,
   "id": "638d9dd2",
   "metadata": {},
   "outputs": [],
   "source": []
  },
  {
   "cell_type": "code",
   "execution_count": null,
   "id": "be04cf2b",
   "metadata": {},
   "outputs": [],
   "source": []
  },
  {
   "cell_type": "code",
   "execution_count": null,
   "id": "3157be60",
   "metadata": {},
   "outputs": [],
   "source": []
  },
  {
   "cell_type": "code",
   "execution_count": null,
   "id": "260b4e77",
   "metadata": {},
   "outputs": [],
   "source": []
  },
  {
   "cell_type": "code",
   "execution_count": null,
   "id": "bacee908",
   "metadata": {},
   "outputs": [],
   "source": []
  },
  {
   "cell_type": "code",
   "execution_count": null,
   "id": "05211775",
   "metadata": {},
   "outputs": [],
   "source": []
  },
  {
   "cell_type": "code",
   "execution_count": null,
   "id": "5c41d5fe",
   "metadata": {},
   "outputs": [],
   "source": []
  }
 ],
 "metadata": {
  "kernelspec": {
   "display_name": "Python 3",
   "language": "python",
   "name": "python3"
  },
  "language_info": {
   "codemirror_mode": {
    "name": "ipython",
    "version": 3
   },
   "file_extension": ".py",
   "mimetype": "text/x-python",
   "name": "python",
   "nbconvert_exporter": "python",
   "pygments_lexer": "ipython3",
   "version": "3.8.5"
  }
 },
 "nbformat": 4,
 "nbformat_minor": 5
}
