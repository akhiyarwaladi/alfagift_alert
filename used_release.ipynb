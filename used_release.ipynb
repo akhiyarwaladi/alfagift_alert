{
 "cells": [
  {
   "cell_type": "code",
   "execution_count": 2,
   "metadata": {},
   "outputs": [],
   "source": [
    "import pandas as pd\n",
    "import numpy as np\n",
    "import os\n",
    "from pathlib import Path\n",
    "import psycopg2\n",
    "from datetime import datetime, timedelta"
   ]
  },
  {
   "cell_type": "code",
   "execution_count": 3,
   "metadata": {},
   "outputs": [
    {
     "name": "stdout",
     "output_type": "stream",
     "text": [
      "prd_order Connected!\n"
     ]
    }
   ],
   "source": [
    "try:\n",
    "    cpo = psycopg2.connect(host=\"35.240.137.10\",\n",
    "                            database=\"prd_order\",\n",
    "                            user=\"akhiyar_waladi\",\n",
    "                            password=\"nd4n6fk9\")\n",
    "    print(\"prd_order Connected!\")\n",
    "except Exception as error:\n",
    "    print(\"Error while connecting: \", error)\n",
    "    sys.exit()"
   ]
  },
  {
   "cell_type": "code",
   "execution_count": 4,
   "metadata": {},
   "outputs": [
    {
     "name": "stdout",
     "output_type": "stream",
     "text": [
      "prd_promo Connected!\n"
     ]
    }
   ],
   "source": [
    "try:\n",
    "    cpp = psycopg2.connect(host=\"35.240.166.149\",\n",
    "                            database=\"prd_promo_stl_v2\",\n",
    "                            user=\"akhiyar_waladi\",\n",
    "                            password=\"nd4n6fk9\")\n",
    "    print(\"prd_promo Connected!\")\n",
    "except Exception as error:\n",
    "    print(\"Error while connecting: \", error)\n",
    "    sys.exit()"
   ]
  },
  {
   "cell_type": "code",
   "execution_count": 6,
   "metadata": {
    "scrolled": false
   },
   "outputs": [
    {
     "name": "stdout",
     "output_type": "stream",
     "text": [
      "2021-06-12 2021-06-13\n",
      "2021-06-13 2021-06-14\n",
      "2021-06-14 2021-06-15\n"
     ]
    }
   ],
   "source": [
    "## loop from start that we want\n",
    "for start_date in pd.date_range('2021-06-12', '2021-06-14', freq='D'):\n",
    "    \n",
    "    end_date = start_date + timedelta(days=1)\n",
    "    \n",
    "    start_date_str = start_date.strftime('%Y-%m-%d')\n",
    "    end_date_str = end_date.strftime('%Y-%m-%d')\n",
    "    print(start_date_str, end_date_str)\n",
    "\n",
    "    q_order = '''\n",
    "    select tbto_id, tbto_no, tbtc_id, tbto_voucher_code, tbto_create_date, tbto_status\n",
    "    from tb_transaction_order tto\n",
    "    where tto.tbto_create_date between '{}' and '{}'\n",
    "    and tbto_voucher_code != ''\n",
    "    and tbto_status in ('12','14','15')\n",
    "\n",
    "    '''.format(start_date_str, end_date_str)\n",
    "    df_order = pd.read_sql(q_order, cpo)\n",
    "\n",
    "    q_promo = '''\n",
    "    select tbtvi_cart_id, tbtvi_registration_receipt, tbtvi_registration_no, tbtvi_created_date, tbtvi_updated_date, tbtvi_released \n",
    "    from tb_transaction_voucher_issued ttvi \n",
    "    where tbtvi_cart_id in {}\n",
    "    '''.format(tuple(df_order['tbtc_id']))\n",
    "    df_promo = pd.read_sql(q_promo, cpp)\n",
    "\n",
    "    df_order_promo = pd.merge(df_order, df_promo, left_on='tbtc_id', right_on='tbtvi_cart_id')\n",
    "\n",
    "    df_order_promo[df_order_promo['tbtvi_released'] == True].\\\n",
    "        to_excel('/home/server/gli-data-science/akhiyar/used_release/used_in_release_{}.xlsx'.format(start_date), index=False)"
   ]
  },
  {
   "cell_type": "code",
   "execution_count": null,
   "metadata": {},
   "outputs": [],
   "source": []
  },
  {
   "cell_type": "code",
   "execution_count": null,
   "metadata": {},
   "outputs": [],
   "source": []
  },
  {
   "cell_type": "code",
   "execution_count": null,
   "metadata": {},
   "outputs": [],
   "source": []
  },
  {
   "cell_type": "code",
   "execution_count": null,
   "metadata": {},
   "outputs": [],
   "source": []
  },
  {
   "cell_type": "code",
   "execution_count": null,
   "metadata": {},
   "outputs": [],
   "source": [
    "### for testing purpose uncomment this ###\n",
    "\n",
    "# start_date_str = '2021-04-05'\n",
    "# end_date_str = '2021-04-06'\n",
    "# q_order = '''\n",
    "# select tbto_id, tbto_no, tbtc_id, tbto_voucher_code, tbto_create_date, tbto_status\n",
    "# from tb_transaction_order tto\n",
    "# where tto.tbto_create_date between '{}' and '{}'\n",
    "# and tbto_voucher_code != ''\n",
    "# and tbto_status in ('12','14','15')\n",
    "\n",
    "# '''.format(start_date_str, end_date_str)\n",
    "# df_order = pd.read_sql(q_order, cpo)\n",
    "\n",
    "# q_promo = '''\n",
    "# select tbtvi_cart_id, tbtvi_registration_receipt, tbtvi_registration_no, tbtvi_created_date, tbtvi_updated_date, tbtvi_released \n",
    "# from tb_transaction_voucher_issued ttvi \n",
    "# where tbtvi_cart_id in {}\n",
    "# '''.format(tuple(list(df_order['tbtc_id'])))\n",
    "# df_promo = pd.read_sql(q_promo, cpp)\n",
    "\n",
    "# df_join =  pd.merge(df_order, df_promo, left_on='tbtc_id', right_on='tbtvi_cart_id', how='left')\n",
    "\n",
    "# df_join.to_excel('reiBangke_{}_{}.xlsx'.format(start_date_str, end_date_str), index=False)"
   ]
  },
  {
   "cell_type": "code",
   "execution_count": null,
   "metadata": {},
   "outputs": [],
   "source": []
  },
  {
   "cell_type": "code",
   "execution_count": null,
   "metadata": {},
   "outputs": [],
   "source": []
  },
  {
   "cell_type": "code",
   "execution_count": null,
   "metadata": {},
   "outputs": [],
   "source": []
  }
 ],
 "metadata": {
  "kernelspec": {
   "display_name": "Python 3",
   "language": "python",
   "name": "python3"
  },
  "language_info": {
   "codemirror_mode": {
    "name": "ipython",
    "version": 3
   },
   "file_extension": ".py",
   "mimetype": "text/x-python",
   "name": "python",
   "nbconvert_exporter": "python",
   "pygments_lexer": "ipython3",
   "version": "3.8.5"
  }
 },
 "nbformat": 4,
 "nbformat_minor": 4
}
