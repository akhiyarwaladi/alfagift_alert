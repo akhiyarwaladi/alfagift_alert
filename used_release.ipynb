{
 "cells": [
  {
   "cell_type": "code",
   "execution_count": 1,
   "metadata": {},
   "outputs": [
    {
     "name": "stdout",
     "output_type": "stream",
     "text": [
      "exists\n",
      "2021-07-01 2021-07-16\n"
     ]
    }
   ],
   "source": [
    "import pandas as pd\n",
    "import numpy as np\n",
    "import os\n",
    "from pathlib import Path\n",
    "import psycopg2\n",
    "from datetime import datetime, timedelta, date\n",
    "import shutil\n",
    "\n",
    "parent_path = '/home/server/gli-data-science/akhiyar/data_req/used_release'\n",
    "if os.path.exists(parent_path):\n",
    "    print(\"exists\")\n",
    "    shutil.rmtree(parent_path)\n",
    "os.makedirs(parent_path, exist_ok=True)\n",
    "end_date = date.today()-timedelta(days=1)\n",
    "start_date = end_date.replace(day=1)\n",
    "print(start_date, end_date)"
   ]
  },
  {
   "cell_type": "code",
   "execution_count": null,
   "metadata": {},
   "outputs": [],
   "source": []
  },
  {
   "cell_type": "code",
   "execution_count": 2,
   "metadata": {},
   "outputs": [],
   "source": [
    "def pro_connect():\n",
    "    try:\n",
    "        cpo = psycopg2.connect(host=\"35.240.137.10\",\n",
    "                                database=\"prd_order\",\n",
    "                                user=\"akhiyar_waladi\",\n",
    "                                password=\"nd4n6fk9\")\n",
    "        print(\"prd_order Connected!\")\n",
    "    except Exception as error:\n",
    "        print(\"Error while connecting: \", error)\n",
    "        sys.exit()\n",
    "        \n",
    "    return cpo"
   ]
  },
  {
   "cell_type": "code",
   "execution_count": 3,
   "metadata": {},
   "outputs": [],
   "source": [
    "def pas_connect():\n",
    "    try:\n",
    "        cpp = psycopg2.connect(host=\"35.240.166.149\",\n",
    "                                database=\"prd_promo_stl_v2\",\n",
    "                                user=\"akhiyar_waladi\",\n",
    "                                password=\"nd4n6fk9\")\n",
    "        print(\"prd_promo Connected!\")\n",
    "    except Exception as error:\n",
    "        print(\"Error while connecting: \", error)\n",
    "        sys.exit()\n",
    "        \n",
    "    return cpp"
   ]
  },
  {
   "cell_type": "code",
   "execution_count": 4,
   "metadata": {
    "scrolled": false
   },
   "outputs": [
    {
     "name": "stdout",
     "output_type": "stream",
     "text": [
      "2021-07-01 2021-07-02\n",
      "prd_order Connected!\n",
      "prd_promo Connected!\n",
      "2021-07-02 2021-07-03\n",
      "prd_order Connected!\n"
     ]
    },
    {
     "ename": "DatabaseError",
     "evalue": "Execution failed on sql '\n    select tbto_id, tbto_no, tbtc_id, tbto_voucher_code, tbto_create_date, tbto_status\n    from tb_transaction_order tto\n    where tto.tbto_create_date between '2021-07-02' and '2021-07-03'\n    and tbto_voucher_code != ''\n    and tbto_status in ('12','14','15')\n\n    ': canceling statement due to conflict with recovery\nDETAIL:  User query might have needed to see row versions that must be removed.\n",
     "output_type": "error",
     "traceback": [
      "\u001b[0;31m---------------------------------------------------------------------------\u001b[0m",
      "\u001b[0;31mSerializationFailure\u001b[0m                      Traceback (most recent call last)",
      "\u001b[0;32m/opt/anaconda3/lib/python3.8/site-packages/pandas/io/sql.py\u001b[0m in \u001b[0;36mexecute\u001b[0;34m(self, *args, **kwargs)\u001b[0m\n\u001b[1;32m   1680\u001b[0m         \u001b[0;32mtry\u001b[0m\u001b[0;34m:\u001b[0m\u001b[0;34m\u001b[0m\u001b[0;34m\u001b[0m\u001b[0m\n\u001b[0;32m-> 1681\u001b[0;31m             \u001b[0mcur\u001b[0m\u001b[0;34m.\u001b[0m\u001b[0mexecute\u001b[0m\u001b[0;34m(\u001b[0m\u001b[0;34m*\u001b[0m\u001b[0margs\u001b[0m\u001b[0;34m,\u001b[0m \u001b[0;34m**\u001b[0m\u001b[0mkwargs\u001b[0m\u001b[0;34m)\u001b[0m\u001b[0;34m\u001b[0m\u001b[0;34m\u001b[0m\u001b[0m\n\u001b[0m\u001b[1;32m   1682\u001b[0m             \u001b[0;32mreturn\u001b[0m \u001b[0mcur\u001b[0m\u001b[0;34m\u001b[0m\u001b[0;34m\u001b[0m\u001b[0m\n",
      "\u001b[0;31mSerializationFailure\u001b[0m: canceling statement due to conflict with recovery\nDETAIL:  User query might have needed to see row versions that must be removed.\n",
      "\nThe above exception was the direct cause of the following exception:\n",
      "\u001b[0;31mDatabaseError\u001b[0m                             Traceback (most recent call last)",
      "\u001b[0;32m<ipython-input-4-a60d41d76bca>\u001b[0m in \u001b[0;36m<module>\u001b[0;34m\u001b[0m\n\u001b[1;32m     17\u001b[0m     '''.format(start_date_str, end_date_str)\n\u001b[1;32m     18\u001b[0m     \u001b[0mcpo\u001b[0m \u001b[0;34m=\u001b[0m \u001b[0mpro_connect\u001b[0m\u001b[0;34m(\u001b[0m\u001b[0;34m)\u001b[0m\u001b[0;34m\u001b[0m\u001b[0;34m\u001b[0m\u001b[0m\n\u001b[0;32m---> 19\u001b[0;31m     \u001b[0mdf_order\u001b[0m \u001b[0;34m=\u001b[0m \u001b[0mpd\u001b[0m\u001b[0;34m.\u001b[0m\u001b[0mread_sql\u001b[0m\u001b[0;34m(\u001b[0m\u001b[0mq_order\u001b[0m\u001b[0;34m,\u001b[0m \u001b[0mcpo\u001b[0m\u001b[0;34m)\u001b[0m\u001b[0;34m\u001b[0m\u001b[0;34m\u001b[0m\u001b[0m\n\u001b[0m\u001b[1;32m     20\u001b[0m     \u001b[0mcpo\u001b[0m\u001b[0;34m.\u001b[0m\u001b[0mclose\u001b[0m\u001b[0;34m(\u001b[0m\u001b[0;34m)\u001b[0m\u001b[0;34m\u001b[0m\u001b[0;34m\u001b[0m\u001b[0m\n\u001b[1;32m     21\u001b[0m \u001b[0;34m\u001b[0m\u001b[0m\n",
      "\u001b[0;32m/opt/anaconda3/lib/python3.8/site-packages/pandas/io/sql.py\u001b[0m in \u001b[0;36mread_sql\u001b[0;34m(sql, con, index_col, coerce_float, params, parse_dates, columns, chunksize)\u001b[0m\n\u001b[1;32m    481\u001b[0m \u001b[0;34m\u001b[0m\u001b[0m\n\u001b[1;32m    482\u001b[0m     \u001b[0;32mif\u001b[0m \u001b[0misinstance\u001b[0m\u001b[0;34m(\u001b[0m\u001b[0mpandas_sql\u001b[0m\u001b[0;34m,\u001b[0m \u001b[0mSQLiteDatabase\u001b[0m\u001b[0;34m)\u001b[0m\u001b[0;34m:\u001b[0m\u001b[0;34m\u001b[0m\u001b[0;34m\u001b[0m\u001b[0m\n\u001b[0;32m--> 483\u001b[0;31m         return pandas_sql.read_query(\n\u001b[0m\u001b[1;32m    484\u001b[0m             \u001b[0msql\u001b[0m\u001b[0;34m,\u001b[0m\u001b[0;34m\u001b[0m\u001b[0;34m\u001b[0m\u001b[0m\n\u001b[1;32m    485\u001b[0m             \u001b[0mindex_col\u001b[0m\u001b[0;34m=\u001b[0m\u001b[0mindex_col\u001b[0m\u001b[0;34m,\u001b[0m\u001b[0;34m\u001b[0m\u001b[0;34m\u001b[0m\u001b[0m\n",
      "\u001b[0;32m/opt/anaconda3/lib/python3.8/site-packages/pandas/io/sql.py\u001b[0m in \u001b[0;36mread_query\u001b[0;34m(self, sql, index_col, coerce_float, params, parse_dates, chunksize)\u001b[0m\n\u001b[1;32m   1725\u001b[0m \u001b[0;34m\u001b[0m\u001b[0m\n\u001b[1;32m   1726\u001b[0m         \u001b[0margs\u001b[0m \u001b[0;34m=\u001b[0m \u001b[0m_convert_params\u001b[0m\u001b[0;34m(\u001b[0m\u001b[0msql\u001b[0m\u001b[0;34m,\u001b[0m \u001b[0mparams\u001b[0m\u001b[0;34m)\u001b[0m\u001b[0;34m\u001b[0m\u001b[0;34m\u001b[0m\u001b[0m\n\u001b[0;32m-> 1727\u001b[0;31m         \u001b[0mcursor\u001b[0m \u001b[0;34m=\u001b[0m \u001b[0mself\u001b[0m\u001b[0;34m.\u001b[0m\u001b[0mexecute\u001b[0m\u001b[0;34m(\u001b[0m\u001b[0;34m*\u001b[0m\u001b[0margs\u001b[0m\u001b[0;34m)\u001b[0m\u001b[0;34m\u001b[0m\u001b[0;34m\u001b[0m\u001b[0m\n\u001b[0m\u001b[1;32m   1728\u001b[0m         \u001b[0mcolumns\u001b[0m \u001b[0;34m=\u001b[0m \u001b[0;34m[\u001b[0m\u001b[0mcol_desc\u001b[0m\u001b[0;34m[\u001b[0m\u001b[0;36m0\u001b[0m\u001b[0;34m]\u001b[0m \u001b[0;32mfor\u001b[0m \u001b[0mcol_desc\u001b[0m \u001b[0;32min\u001b[0m \u001b[0mcursor\u001b[0m\u001b[0;34m.\u001b[0m\u001b[0mdescription\u001b[0m\u001b[0;34m]\u001b[0m\u001b[0;34m\u001b[0m\u001b[0;34m\u001b[0m\u001b[0m\n\u001b[1;32m   1729\u001b[0m \u001b[0;34m\u001b[0m\u001b[0m\n",
      "\u001b[0;32m/opt/anaconda3/lib/python3.8/site-packages/pandas/io/sql.py\u001b[0m in \u001b[0;36mexecute\u001b[0;34m(self, *args, **kwargs)\u001b[0m\n\u001b[1;32m   1691\u001b[0m \u001b[0;34m\u001b[0m\u001b[0m\n\u001b[1;32m   1692\u001b[0m             \u001b[0mex\u001b[0m \u001b[0;34m=\u001b[0m \u001b[0mDatabaseError\u001b[0m\u001b[0;34m(\u001b[0m\u001b[0;34mf\"Execution failed on sql '{args[0]}': {exc}\"\u001b[0m\u001b[0;34m)\u001b[0m\u001b[0;34m\u001b[0m\u001b[0;34m\u001b[0m\u001b[0m\n\u001b[0;32m-> 1693\u001b[0;31m             \u001b[0;32mraise\u001b[0m \u001b[0mex\u001b[0m \u001b[0;32mfrom\u001b[0m \u001b[0mexc\u001b[0m\u001b[0;34m\u001b[0m\u001b[0;34m\u001b[0m\u001b[0m\n\u001b[0m\u001b[1;32m   1694\u001b[0m \u001b[0;34m\u001b[0m\u001b[0m\n\u001b[1;32m   1695\u001b[0m     \u001b[0;34m@\u001b[0m\u001b[0mstaticmethod\u001b[0m\u001b[0;34m\u001b[0m\u001b[0;34m\u001b[0m\u001b[0m\n",
      "\u001b[0;31mDatabaseError\u001b[0m: Execution failed on sql '\n    select tbto_id, tbto_no, tbtc_id, tbto_voucher_code, tbto_create_date, tbto_status\n    from tb_transaction_order tto\n    where tto.tbto_create_date between '2021-07-02' and '2021-07-03'\n    and tbto_voucher_code != ''\n    and tbto_status in ('12','14','15')\n\n    ': canceling statement due to conflict with recovery\nDETAIL:  User query might have needed to see row versions that must be removed.\n"
     ]
    }
   ],
   "source": [
    "## loop from start that we want\n",
    "for start_date in pd.date_range(start_date, end_date, freq='D'):\n",
    "    \n",
    "    end_date = start_date + timedelta(days=1)\n",
    "    \n",
    "    start_date_str = start_date.strftime('%Y-%m-%d')\n",
    "    end_date_str = end_date.strftime('%Y-%m-%d')\n",
    "    print(start_date_str, end_date_str)\n",
    "\n",
    "    q_order = '''\n",
    "    select tbto_id, tbto_no, tbtc_id, tbto_voucher_code, tbto_create_date, tbto_status\n",
    "    from tb_transaction_order tto\n",
    "    where tto.tbto_create_date between '{}' and '{}'\n",
    "    and tbto_voucher_code != ''\n",
    "    and tbto_status in ('12','14','15')\n",
    "\n",
    "    '''.format(start_date_str, end_date_str)\n",
    "    cpo = pro_connect()\n",
    "    df_order = pd.read_sql(q_order, cpo)\n",
    "    cpo.close()\n",
    "\n",
    "    q_promo = '''\n",
    "    select tbtvi_cart_id, tbtvi_registration_receipt, tbtvi_registration_no, tbtvi_created_date, tbtvi_updated_date, tbtvi_released \n",
    "    from tb_transaction_voucher_issued ttvi \n",
    "    where tbtvi_cart_id in {}\n",
    "    '''.format(tuple(df_order['tbtc_id']))\n",
    "    cpp = pas_connect()\n",
    "    df_promo = pd.read_sql(q_promo, cpp)\n",
    "    cpp.close()\n",
    "\n",
    "    df_order_promo = pd.merge(df_order, df_promo, left_on='tbtc_id', right_on='tbtvi_cart_id')\n",
    "\n",
    "    df_order_promo[df_order_promo['tbtvi_released'] == True].\\\n",
    "        to_csv('{}/{}.csv'.format(parent_path,start_date), index=False)"
   ]
  },
  {
   "cell_type": "code",
   "execution_count": null,
   "metadata": {},
   "outputs": [],
   "source": []
  },
  {
   "cell_type": "code",
   "execution_count": null,
   "metadata": {},
   "outputs": [],
   "source": []
  },
  {
   "cell_type": "code",
   "execution_count": null,
   "metadata": {},
   "outputs": [],
   "source": []
  },
  {
   "cell_type": "code",
   "execution_count": null,
   "metadata": {},
   "outputs": [],
   "source": [
    "path = '/home/server/gli-data-science/akhiyar/data_req/used_release/' \n",
    "df = []\n",
    "for f in os.listdir(path):\n",
    "    df.append(pd.read_csv(os.path.join(path, f)))\n",
    "df = pd.concat(df)\n",
    "\n",
    "end_date = date.today()-timedelta(days=28)\n",
    "start_date = end_date.replace(day=1)\n",
    "spath = '{}/used_release_{}_{}.xlsx'\\\n",
    "            .format(parent_path, start_date.strftime(\"%d%b%y\"),\\\n",
    "            end_date.strftime(\"%d%b%y\")).format()\n",
    "\n",
    "writer = pd.ExcelWriter(spath, engine='xlsxwriter') \n",
    "df.to_excel(writer, sheet_name='ReleasedVoucher', index=False, na_rep='NaN')\n",
    "\n",
    "# Auto-adjust columns' width\n",
    "for column in df:\n",
    "    column_width = max(df[column].astype(str).map(len).max(), len(column))\n",
    "    col_idx = df.columns.get_loc(column)\n",
    "    writer.sheets['ReleasedVoucher'].set_column(col_idx, col_idx, column_width)\n",
    "\n",
    "writer.save()\n",
    "\n",
    "# df.to_excel('/home/server/gli-data-science/akhiyar/data_req/used_release/used_release_{}_{}.xlsx'\\\n",
    "#             .format(start_date.strftime(\"%d%b%y\"),\\\n",
    "#             end_date.strftime(\"%d%b%y\")).format(), index=False)"
   ]
  },
  {
   "cell_type": "code",
   "execution_count": null,
   "metadata": {},
   "outputs": [],
   "source": []
  },
  {
   "cell_type": "code",
   "execution_count": null,
   "metadata": {},
   "outputs": [],
   "source": []
  },
  {
   "cell_type": "code",
   "execution_count": null,
   "metadata": {},
   "outputs": [],
   "source": []
  }
 ],
 "metadata": {
  "kernelspec": {
   "display_name": "Python 3",
   "language": "python",
   "name": "python3"
  },
  "language_info": {
   "codemirror_mode": {
    "name": "ipython",
    "version": 3
   },
   "file_extension": ".py",
   "mimetype": "text/x-python",
   "name": "python",
   "nbconvert_exporter": "python",
   "pygments_lexer": "ipython3",
   "version": "3.8.5"
  }
 },
 "nbformat": 4,
 "nbformat_minor": 4
}
