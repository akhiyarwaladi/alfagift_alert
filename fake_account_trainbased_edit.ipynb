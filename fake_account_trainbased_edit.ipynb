{
 "cells": [
  {
   "cell_type": "code",
   "execution_count": 1,
   "id": "0ccfba57",
   "metadata": {},
   "outputs": [],
   "source": [
    "\n",
    "%load_ext autoreload\n",
    "%autoreload 2\n",
    "\n",
    "import warnings\n",
    "warnings.simplefilter(action='ignore', category=FutureWarning)\n",
    "\n",
    "import redis\n",
    "import json\n",
    "from pprint import pprint\n",
    "from joblib import dump, load\n",
    "\n",
    "import pymongo\n",
    "from datetime import datetime, timedelta, date\n",
    "import pandas as pd\n",
    "\n",
    "\n",
    "import numpy as np\n",
    "import pymongo\n",
    "import cx_Oracle\n",
    "import os\n",
    "import time\n",
    "import plotly.express as px\n",
    "\n",
    "from sklearn.tree import DecisionTreeClassifier\n",
    "from sklearn.tree import export_text\n",
    "from sklearn.linear_model import LogisticRegression\n",
    "\n",
    "\n",
    "pd.set_option('display.max_rows', None)\n",
    "pd.set_option('display.max_columns', None)\n",
    "pd.set_option('display.width', None)\n",
    "pd.set_option('display.max_colwidth', None)\n",
    "pd.set_option('display.float_format', lambda x: '%.2f' % x)\n",
    "pd.options.mode.chained_assignment = None  # default='warn'\n",
    "\n",
    "r = redis.Redis(host=\"127.0.0.1\", port=6379, db=0)"
   ]
  },
  {
   "cell_type": "code",
   "execution_count": null,
   "id": "e5479a1b",
   "metadata": {},
   "outputs": [],
   "source": []
  },
  {
   "cell_type": "code",
   "execution_count": 91,
   "id": "fbd36539",
   "metadata": {},
   "outputs": [
    {
     "name": "stdout",
     "output_type": "stream",
     "text": [
      "{'is_fraud': True,\n",
      " 'reason': ['Email kamu menggunakan pola tidak wajar'],\n",
      " 'score_final': 0.95919,\n",
      " 'score_parameter': {'createdFromIp_count': 0.0,\n",
      "                     'phoneSub_count': 0.0,\n",
      "                     'score_gibberish': 17.265420610526135,\n",
      "                     'score_sus_email': 0.0}}\n"
     ]
    }
   ],
   "source": [
    "from register_check import RegisterCheck\n",
    "m = RegisterCheck()\n",
    "\n",
    "pprint(m.score_user('waudhiwdioaowd@gmail.com', '081367758790', '10.4.77.18'))"
   ]
  },
  {
   "cell_type": "code",
   "execution_count": null,
   "id": "050e8636",
   "metadata": {},
   "outputs": [],
   "source": []
  },
  {
   "cell_type": "code",
   "execution_count": null,
   "id": "47b03772",
   "metadata": {},
   "outputs": [],
   "source": []
  },
  {
   "cell_type": "code",
   "execution_count": 3,
   "id": "b420adde",
   "metadata": {},
   "outputs": [
    {
     "data": {
      "text/plain": [
       "1"
      ]
     },
     "execution_count": 3,
     "metadata": {},
     "output_type": "execute_result"
    }
   ],
   "source": [
    "def encode(s):\n",
    "    \n",
    "    i = 0\n",
    "    t = ''\n",
    "    while i < len(s):\n",
    "        if s[i].isupper():\n",
    "            t += 'U'\n",
    "        elif s[i].islower():\n",
    "            t += 'L'\n",
    "        elif s[i].isdigit():\n",
    "            t += 'D'\n",
    "        else:\n",
    "            t += 'O'\n",
    "        i += 1\n",
    "        \n",
    "    return t\n",
    "\n",
    "def short_encode(s):\n",
    "    i = 0\n",
    "    s = encode(s)\n",
    "    curr = ''\n",
    "    t = ''\n",
    "    \n",
    "    while i < len(s):\n",
    "        if curr != s[i]:\n",
    "            t += s[i]\n",
    "            curr = s[i]\n",
    "        \n",
    "        i += 1\n",
    "    return t\n",
    "\n",
    "def score_sus_email(s):\n",
    "\n",
    "    email_input = s\n",
    "    email_input = email_input.split('@')[0]\n",
    "    \n",
    "    \n",
    "    \n",
    "    pat_count_digit = encode(email_input).count('D')\n",
    "    pat_encode = short_encode(email_input)\n",
    "    \n",
    "    if pat_encode == 'LD' and pat_count_digit >= 4:\n",
    "        return 1\n",
    "    elif pat_encode == 'D':\n",
    "        return 1\n",
    "    return 0\n",
    "    \n",
    "score_sus_email('123312313@gmail.com')"
   ]
  },
  {
   "cell_type": "code",
   "execution_count": null,
   "id": "1793d7dc",
   "metadata": {},
   "outputs": [],
   "source": []
  },
  {
   "cell_type": "code",
   "execution_count": null,
   "id": "7d55fe5b",
   "metadata": {},
   "outputs": [],
   "source": []
  },
  {
   "cell_type": "code",
   "execution_count": null,
   "id": "e26236d4",
   "metadata": {},
   "outputs": [],
   "source": []
  },
  {
   "cell_type": "code",
   "execution_count": null,
   "id": "83c3f577",
   "metadata": {},
   "outputs": [],
   "source": []
  },
  {
   "cell_type": "code",
   "execution_count": null,
   "id": "86cf9263",
   "metadata": {
    "scrolled": false
   },
   "outputs": [],
   "source": []
  },
  {
   "cell_type": "code",
   "execution_count": null,
   "id": "75ce73f3",
   "metadata": {},
   "outputs": [],
   "source": []
  },
  {
   "cell_type": "code",
   "execution_count": null,
   "id": "c2497ef8",
   "metadata": {},
   "outputs": [],
   "source": []
  },
  {
   "cell_type": "code",
   "execution_count": 4,
   "id": "d226c0d6",
   "metadata": {},
   "outputs": [
    {
     "data": {
      "text/plain": [
       "1"
      ]
     },
     "execution_count": 4,
     "metadata": {},
     "output_type": "execute_result"
    }
   ],
   "source": [
    "from gibberish_detector import detector\n",
    "\n",
    "path_detector_indo = '/home/server/gli-data-science/akhiyar/alfagift_alert/gibberish-detector/indo_news.model'\n",
    "Detector = detector.create_from_model(\n",
    "    path_detector_indo\n",
    ")\n",
    "from nostril import nonsense\n",
    "\n",
    "\n",
    "def score_gibberish(input_email):\n",
    "    split_email = input_email.split('@')[0]\n",
    "    #print(split_email)\n",
    "\n",
    "    flag_gibberish1 = False\n",
    "    \n",
    "    try:\n",
    "        if Detector.is_gibberish(split_email):\n",
    "            flag_gibberish1 = True\n",
    "    except Exception as e:\n",
    "        pass\n",
    "    \n",
    "    flag_gibberish2 = False\n",
    "    \n",
    "    try:\n",
    "        if nonsense(split_email):\n",
    "            flag_gibberish2 = True\n",
    "    except Exception as e:\n",
    "        pass\n",
    "\n",
    "\n",
    "    if flag_gibberish1 and flag_gibberish2:\n",
    "        return 1\n",
    "    else:\n",
    "        return 0\n",
    "\n",
    "email = 'qywyeqeyqw123@gmail.com'\n",
    "score_gibberish(email)"
   ]
  },
  {
   "cell_type": "code",
   "execution_count": null,
   "id": "eb83398d",
   "metadata": {},
   "outputs": [],
   "source": []
  },
  {
   "cell_type": "code",
   "execution_count": null,
   "id": "2ffb797a",
   "metadata": {},
   "outputs": [],
   "source": []
  },
  {
   "cell_type": "code",
   "execution_count": null,
   "id": "d352e510",
   "metadata": {},
   "outputs": [],
   "source": []
  },
  {
   "cell_type": "code",
   "execution_count": 5,
   "id": "c08829ab",
   "metadata": {},
   "outputs": [],
   "source": [
    "alfagift_member = pd.read_json('/home/server/mongo_export/alfagift_member_01jan22.json',\n",
    "                              dtype='object')\n",
    "alfagift_member['sapa'] = alfagift_member['sapa'].fillna('-')\n",
    "alfagift_member['sapa'] = alfagift_member['sapa'].apply(lambda x: x.get('store_code') \\\n",
    "                                                        if x != '-' else '-')\n",
    "alfagift_member['sapa'] = alfagift_member['sapa'].apply(lambda x: '-' \\\n",
    "                                                        if x == '' else x)\n",
    "\n",
    "alfagift_member['created_at'] = alfagift_member['created_at'].fillna('2019-01-01T23:08:53.393Z')\n",
    "alfagift_member['created_at'] = alfagift_member['created_at'].apply(lambda x: x.get('$date') \\\n",
    "                                                                    if type(x) != str else x)\n",
    "\n",
    "# alfagift_member = alfagift_member[['account_card', 'sapa', 'created_at']]\n",
    "alfagift_member['sapa'] = alfagift_member['sapa'].apply(lambda x: 'sapa' if x != '-' else 'not_sapa')\n",
    "\n",
    "alfagift_member['created_at_d'] = pd.to_datetime(alfagift_member['created_at']).dt.strftime(\"%Y-%m-%d\")\n",
    "alfagift_member['created_at_m'] = pd.to_datetime(alfagift_member['created_at']).dt.strftime(\"%Y-%m\")\n",
    "\n",
    "alfagift_member['account_card'] = alfagift_member['account_card'].astype('str')"
   ]
  },
  {
   "cell_type": "code",
   "execution_count": 6,
   "id": "338496f4",
   "metadata": {},
   "outputs": [],
   "source": [
    "# alfagift_member_sel = alfagift_member[(alfagift_member['created_at_m'] == '2022-01') |\n",
    "#                                       (alfagift_member['created_at_m'] == '2022-02') |\n",
    "#                                       (alfagift_member['created_at_m'] == '2022-03') |\n",
    "#                                       (alfagift_member['created_at_m'] == '2022-04') ]\n",
    "# alfagift_member_sel['created_at_d'] = pd.to_datetime(alfagift_member_sel['created_at']).dt.strftime(\"%Y-%m-%d\")\n",
    "\n",
    "alfagift_member_sel = alfagift_member.copy()"
   ]
  },
  {
   "cell_type": "code",
   "execution_count": null,
   "id": "0a99c626",
   "metadata": {},
   "outputs": [],
   "source": []
  },
  {
   "cell_type": "code",
   "execution_count": 7,
   "id": "afdffc63",
   "metadata": {},
   "outputs": [],
   "source": [
    "### creating label for training set\n",
    "\n",
    "\n",
    "li_sus = []\n",
    "for dr in pd.date_range('2022-01-01', '2022-04-12', freq='D'):\n",
    "    sel_created = dr.strftime(\"%Y-%m-%d\")\n",
    "\n",
    "    alfagift_member_sel_d = alfagift_member_sel[alfagift_member_sel['created_at_d'] == sel_created]\n",
    "    #print(alfagift_member_sel_d.shape)\n",
    "\n",
    "\n",
    "    ## suspect by IP\n",
    "    alfagift_member_sel_d_ip = alfagift_member_sel_d.groupby(['createdFromIp'])\\\n",
    "                            .agg(createdFromIp_count=('createdFromIp','count'))\n",
    "    alfagift_member_sel_d_ip = alfagift_member_sel_d_ip[\n",
    "        alfagift_member_sel_d_ip['createdFromIp_count'] >= 5].reset_index()\n",
    "\n",
    "    sus_by_ip = pd.merge(alfagift_member_sel_d_ip, alfagift_member_sel_d, on='createdFromIp', how='left')\n",
    "\n",
    "    ## suspect by phone\n",
    "    alfagift_member_sel_d['phone_sub'] =  alfagift_member_sel_d['phone'].str[0:9]\n",
    "    alfagift_member_sel_d_phone = alfagift_member_sel_d.groupby(['phone_sub'])\\\n",
    "                                .agg(createdFromIp_count=('phone_sub','count'))\n",
    "    alfagift_member_sel_d_phone = alfagift_member_sel_d_phone[\n",
    "        alfagift_member_sel_d_phone['createdFromIp_count'] >= 5].reset_index()\n",
    "\n",
    "    sus_by_phone = pd.merge(alfagift_member_sel_d_phone, alfagift_member_sel_d, on='phone_sub', how='left')\n",
    "\n",
    "    \n",
    "    \n",
    "    alfagift_member_sel_d['score_gibberish'] = alfagift_member_sel_d['email'].apply(score_gibberish)\n",
    "    \n",
    "    \n",
    "    \n",
    "    ## saving by concating suspect aspect\n",
    "    sus_all = pd.concat([\n",
    "        sus_by_ip[['account_card','email','phone']], \n",
    "        sus_by_phone[['account_card','email','phone']],\n",
    "        alfagift_member_sel_d[alfagift_member_sel_d['member_status'] == 27][['account_card','email']],\n",
    "        alfagift_member_sel_d[alfagift_member_sel_d['score_gibberish'] == 1][['account_card','email']]\n",
    "    ], axis=0)\\\n",
    "        .drop_duplicates()\n",
    "    \n",
    "    sus_all = sus_all[~sus_all['email'].str.contains('deliverysapa', case=False)]\n",
    "    sus_all = sus_all[['account_card','phone','email']]\n",
    "    \n",
    "    \n",
    "    \n",
    "    li_sus.append(sus_all)\n",
    "#     sus_all.to_csv(\n",
    "#         '/home/server/gli-data-science/akhiyar/alfagift_alert/suspect_fraud/sus_{}'.format(sel_created)\n",
    "#     )\n",
    "\n",
    "    #break\n",
    "\n",
    "df_sus_all = pd.concat(li_sus).drop_duplicates()\n",
    "df_sus_all.to_csv(\n",
    "    '/home/server/gli-data-science/akhiyar/alfagift_alert/suspect_fraud/sus_all1.csv', index=False)"
   ]
  },
  {
   "cell_type": "code",
   "execution_count": null,
   "id": "c46975c7",
   "metadata": {
    "scrolled": false
   },
   "outputs": [],
   "source": []
  },
  {
   "cell_type": "code",
   "execution_count": 8,
   "id": "816d0a6d",
   "metadata": {},
   "outputs": [],
   "source": [
    "### checking\n",
    "# alfagift_member_sel_d[alfagift_member_sel_d['score_gibberish'] == 1].head(100)"
   ]
  },
  {
   "cell_type": "code",
   "execution_count": null,
   "id": "5f116264",
   "metadata": {},
   "outputs": [],
   "source": []
  },
  {
   "cell_type": "code",
   "execution_count": null,
   "id": "578f4c19",
   "metadata": {},
   "outputs": [],
   "source": []
  },
  {
   "cell_type": "code",
   "execution_count": null,
   "id": "6f5756c0",
   "metadata": {},
   "outputs": [],
   "source": []
  },
  {
   "cell_type": "code",
   "execution_count": null,
   "id": "5e6acdbc",
   "metadata": {},
   "outputs": [],
   "source": []
  },
  {
   "cell_type": "code",
   "execution_count": null,
   "id": "5d8610ea",
   "metadata": {},
   "outputs": [],
   "source": []
  },
  {
   "cell_type": "code",
   "execution_count": 9,
   "id": "e4aa9174",
   "metadata": {},
   "outputs": [
    {
     "name": "stdout",
     "output_type": "stream",
     "text": [
      "2022-01-01 (8467, 14)\n",
      "2022-01-02 (9583, 14)\n",
      "2022-01-03 (11755, 14)\n",
      "2022-01-04 (16174, 14)\n",
      "2022-01-05 (14622, 14)\n",
      "2022-01-06 (22992, 14)\n",
      "2022-01-07 (14545, 14)\n",
      "2022-01-08 (15639, 14)\n",
      "2022-01-09 (15605, 14)\n",
      "2022-01-10 (15749, 14)\n",
      "2022-01-11 (20511, 14)\n",
      "2022-01-12 (20162, 14)\n",
      "2022-01-13 (20737, 14)\n",
      "2022-01-14 (23634, 14)\n",
      "2022-01-15 (24630, 14)\n",
      "2022-01-16 (24138, 14)\n",
      "2022-01-17 (24450, 14)\n",
      "2022-01-18 (19670, 14)\n",
      "2022-01-19 (47065, 14)\n",
      "2022-01-20 (43596, 14)\n",
      "2022-01-21 (37803, 14)\n",
      "2022-01-22 (35822, 14)\n",
      "2022-01-23 (36113, 14)\n",
      "2022-01-24 (36523, 14)\n",
      "2022-01-25 (38993, 14)\n",
      "2022-01-26 (40381, 14)\n",
      "2022-01-27 (42875, 14)\n",
      "2022-01-28 (49247, 14)\n",
      "2022-01-29 (28553, 14)\n",
      "2022-01-30 (22372, 14)\n",
      "2022-01-31 (19442, 14)\n",
      "2022-02-01 (21509, 14)\n",
      "2022-02-02 (26334, 14)\n",
      "2022-02-03 (28899, 14)\n",
      "2022-02-04 (30826, 14)\n",
      "2022-02-05 (29101, 14)\n",
      "2022-02-06 (28859, 14)\n",
      "2022-02-07 (28859, 14)\n",
      "2022-02-08 (29762, 14)\n",
      "2022-02-09 (29773, 14)\n",
      "2022-02-10 (29125, 14)\n",
      "2022-02-11 (89472, 14)\n",
      "2022-02-12 (28763, 14)\n",
      "2022-02-13 (30485, 14)\n",
      "2022-02-14 (44676, 14)\n",
      "2022-02-15 (27284, 14)\n",
      "2022-02-16 (26556, 14)\n",
      "2022-02-17 (25788, 14)\n",
      "2022-02-18 (25454, 14)\n",
      "2022-02-19 (19392, 14)\n",
      "2022-02-20 (12734, 14)\n",
      "2022-02-21 (25207, 14)\n",
      "2022-02-22 (26131, 14)\n",
      "2022-02-23 (25402, 14)\n",
      "2022-02-24 (22719, 14)\n",
      "2022-02-25 (25349, 14)\n",
      "2022-02-26 (14037, 14)\n",
      "2022-02-27 (13501, 14)\n",
      "2022-02-28 (13797, 14)\n",
      "2022-03-01 (15581, 14)\n",
      "2022-03-02 (15078, 14)\n",
      "2022-03-03 (14881, 14)\n",
      "2022-03-04 (14451, 14)\n",
      "2022-03-05 (14248, 14)\n",
      "2022-03-06 (14713, 14)\n",
      "2022-03-07 (15282, 14)\n",
      "2022-03-08 (15663, 14)\n",
      "2022-03-09 (16846, 14)\n",
      "2022-03-10 (19367, 14)\n",
      "2022-03-11 (33149, 14)\n",
      "2022-03-12 (17645, 14)\n",
      "2022-03-13 (15917, 14)\n",
      "2022-03-14 (16535, 14)\n",
      "2022-03-15 (16187, 14)\n",
      "2022-03-16 (18047, 14)\n",
      "2022-03-17 (17248, 14)\n",
      "2022-03-18 (16520, 14)\n",
      "2022-03-19 (16641, 14)\n",
      "2022-03-20 (15306, 14)\n",
      "2022-03-21 (16749, 14)\n",
      "2022-03-22 (17836, 14)\n",
      "2022-03-23 (18728, 14)\n",
      "2022-03-24 (22499, 14)\n",
      "2022-03-25 (32843, 14)\n",
      "2022-03-26 (20540, 14)\n",
      "2022-03-27 (15542, 14)\n",
      "2022-03-28 (15255, 14)\n",
      "2022-03-29 (14883, 14)\n",
      "2022-03-30 (15741, 14)\n",
      "2022-03-31 (13978, 14)\n",
      "2022-04-01 (13748, 14)\n",
      "2022-04-02 (14113, 14)\n",
      "2022-04-03 (13247, 14)\n",
      "2022-04-04 (11072, 14)\n",
      "2022-04-05 (11260, 14)\n",
      "2022-04-06 (10798, 14)\n",
      "2022-04-07 (10366, 14)\n",
      "2022-04-08 (12092, 14)\n",
      "2022-04-09 (10751, 14)\n",
      "2022-04-10 (9333, 14)\n",
      "2022-04-11 (8984, 14)\n",
      "2022-04-12 (9635, 14)\n"
     ]
    }
   ],
   "source": [
    "## creating feature for training set\n",
    "\n",
    "\n",
    "li_sus = []\n",
    "for dr in pd.date_range('2022-01-01', '2022-04-12', freq='D'):\n",
    "    sel_created = dr.strftime(\"%Y-%m-%d\")\n",
    "\n",
    "    alfagift_member_sel_d = alfagift_member_sel[alfagift_member_sel['created_at_d'] == sel_created]\n",
    "    print(\"{} {}\".format(sel_created, alfagift_member_sel_d.shape))\n",
    "\n",
    "\n",
    "    ## suspect by IP\n",
    "    alfagift_member_sel_d_ip = alfagift_member_sel_d.groupby(['createdFromIp'])\\\n",
    "                            .agg(createdFromIp_count=('createdFromIp','count'))\n",
    "#     alfagift_member_sel_d_ip = alfagift_member_sel_d_ip[\n",
    "#         alfagift_member_sel_d_ip['createdFromIp_count'] >= 5].reset_index()\n",
    "\n",
    "    alfagift_member_sel_d = pd.merge(alfagift_member_sel_d, \n",
    "                                     alfagift_member_sel_d_ip,\n",
    "                                     on='createdFromIp', how='left').fillna(0)\n",
    "\n",
    "    ## suspect by phone\n",
    "    alfagift_member_sel_d['phone_sub'] =  alfagift_member_sel_d['phone'].str[0:9]\n",
    "    alfagift_member_sel_d_phone = alfagift_member_sel_d.groupby(['phone_sub'])\\\n",
    "                                .agg(phoneSub_count=('phone_sub','count'))\n",
    "#     alfagift_member_sel_d_phone = alfagift_member_sel_d_phone[\n",
    "#         alfagift_member_sel_d_phone['phoneSub_count'] >= 5].reset_index()\n",
    "\n",
    "    \n",
    "    \n",
    "    alfagift_member_sel_d = pd.merge(alfagift_member_sel_d, \n",
    "                                     alfagift_member_sel_d_phone,\n",
    "                                     on='phone_sub', how='left').fillna(0)\n",
    "    \n",
    "    \n",
    "    alfagift_member_sel_d['score_gibberish'] = alfagift_member_sel_d['email'].apply(score_gibberish)\n",
    "    alfagift_member_sel_d['score_sus_email'] = alfagift_member_sel_d['email'].apply(score_sus_email)\n",
    "    \n",
    "\n",
    "    li_sus.append(alfagift_member_sel_d)\n",
    "#     alfagift_member_sel_d.to_csv(\n",
    "#     '/home/server/gli-data-science/akhiyar/alfagift_alert/suspect_fraud_feature/daily/{}'.format(sel_created))\n",
    "\n",
    "    #break\n",
    "\n",
    "df_sus_all = pd.concat(li_sus)\n",
    "df_sus_all.to_csv(\n",
    "    '/home/server/gli-data-science/akhiyar/alfagift_alert/suspect_fraud_feature/group_day/train_full.csv'\n",
    "    , index=False)"
   ]
  },
  {
   "cell_type": "code",
   "execution_count": null,
   "id": "26b5ea06",
   "metadata": {},
   "outputs": [],
   "source": []
  },
  {
   "cell_type": "code",
   "execution_count": 10,
   "id": "dd91d977",
   "metadata": {},
   "outputs": [],
   "source": [
    "## load feature and label \n",
    "df_sus_all = pd.read_csv(\n",
    "    '/home/server/gli-data-science/akhiyar/alfagift_alert/suspect_fraud_feature/group_day/train_full.csv'\n",
    "    , dtype='object')\n",
    "df_label = pd.read_csv('./suspect_fraud/sus_all1.csv', dtype='object')\n",
    "df_label['label'] = 1\n",
    "\n",
    "## merging feature with suspect label\n",
    "df_train = pd.merge(df_sus_all, df_label, on='account_card', how='left')\n",
    "df_train['label'] = df_train['label'].fillna(0)"
   ]
  },
  {
   "cell_type": "code",
   "execution_count": 11,
   "id": "1021404d",
   "metadata": {
    "scrolled": false
   },
   "outputs": [],
   "source": [
    "# df_train[df_train['label'] == 1].head(100)"
   ]
  },
  {
   "cell_type": "code",
   "execution_count": null,
   "id": "c4730059",
   "metadata": {},
   "outputs": [],
   "source": []
  },
  {
   "cell_type": "code",
   "execution_count": null,
   "id": "e8f69424",
   "metadata": {},
   "outputs": [],
   "source": []
  },
  {
   "cell_type": "code",
   "execution_count": null,
   "id": "b6fdd260",
   "metadata": {},
   "outputs": [],
   "source": []
  },
  {
   "cell_type": "code",
   "execution_count": null,
   "id": "6418cf29",
   "metadata": {},
   "outputs": [],
   "source": []
  },
  {
   "cell_type": "code",
   "execution_count": 12,
   "id": "6849c722",
   "metadata": {},
   "outputs": [],
   "source": [
    "wrap_col = [\n",
    "'score_gibberish',\n",
    "'score_sus_email',\n",
    "'createdFromIp_count',\n",
    "'phoneSub_count',\n",
    "\n",
    "]\n",
    "X = df_train[wrap_col]\n",
    "y = df_train[['label']]"
   ]
  },
  {
   "cell_type": "code",
   "execution_count": null,
   "id": "7319069f",
   "metadata": {},
   "outputs": [],
   "source": []
  },
  {
   "cell_type": "code",
   "execution_count": 13,
   "id": "8d1c87bb",
   "metadata": {},
   "outputs": [
    {
     "name": "stdout",
     "output_type": "stream",
     "text": [
      "prediction rule \n",
      "\n",
      "|------ createdFromIp_count <= 4\n",
      "|      |------ score_gibberish <= 0\n",
      "|      |      |------ phoneSub_count <= 4\n",
      "|      |      |      |------ phoneSub_count <= 2\n",
      "|      |      |      |      |------ class: 0.0\n",
      "|      |      |      |------ phoneSub_count >  2\n",
      "|      |      |      |      |------ class: 0.0\n",
      "|      |      |------ phoneSub_count >  4\n",
      "|      |      |      |------ score_sus_email <= 0\n",
      "|      |      |      |      |------ class: 1.0\n",
      "|      |      |      |------ score_sus_email >  0\n",
      "|      |      |      |      |------ class: 1.0\n",
      "|      |------ score_gibberish >  0\n",
      "|      |      |------ class: 1.0\n",
      "|------ createdFromIp_count >  4\n",
      "|      |------ phoneSub_count <= 6\n",
      "|      |      |------ createdFromIp_count <= 6\n",
      "|      |      |      |------ phoneSub_count <= 2\n",
      "|      |      |      |      |------ class: 1.0\n",
      "|      |      |      |------ phoneSub_count >  2\n",
      "|      |      |      |      |------ class: 1.0\n",
      "|      |      |------ createdFromIp_count >  6\n",
      "|      |      |      |------ createdFromIp_count <= 18\n",
      "|      |      |      |      |------ class: 1.0\n",
      "|      |      |      |------ createdFromIp_count >  18\n",
      "|      |      |      |      |------ class: 1.0\n",
      "|      |------ phoneSub_count >  6\n",
      "|      |      |------ createdFromIp_count <= 8\n",
      "|      |      |      |------ score_gibberish <= 0\n",
      "|      |      |      |      |------ class: 1.0\n",
      "|      |      |      |------ score_gibberish >  0\n",
      "|      |      |      |      |------ class: 1.0\n",
      "|      |      |------ createdFromIp_count >  8\n",
      "|      |      |      |------ class: 1.0\n",
      "\n"
     ]
    }
   ],
   "source": [
    "regressor = DecisionTreeClassifier(random_state=0, max_depth=4)\n",
    "regressor.fit(X,y)\n",
    "\n",
    "\n",
    "dump(regressor, './model/regis_dtree')\n",
    "r = export_text(regressor, feature_names=list(X), decimals=0, spacing=6)\n",
    "print(\"prediction rule \\n\\n{}\".format(r))"
   ]
  },
  {
   "cell_type": "code",
   "execution_count": 14,
   "id": "ba9eb635",
   "metadata": {},
   "outputs": [
    {
     "name": "stderr",
     "output_type": "stream",
     "text": [
      "/opt/anaconda3/lib/python3.8/site-packages/sklearn/utils/validation.py:985: DataConversionWarning: A column-vector y was passed when a 1d array was expected. Please change the shape of y to (n_samples, ), for example using ravel().\n",
      "  y = column_or_1d(y, warn=True)\n"
     ]
    },
    {
     "data": {
      "text/plain": [
       "['./model/regis_logreg']"
      ]
     },
     "execution_count": 14,
     "metadata": {},
     "output_type": "execute_result"
    }
   ],
   "source": [
    "clf = LogisticRegression(random_state=0)\n",
    "clf.fit(X, y)\n",
    "dump(clf, './model/regis_logreg')"
   ]
  },
  {
   "cell_type": "code",
   "execution_count": null,
   "id": "43660bbb",
   "metadata": {},
   "outputs": [],
   "source": []
  },
  {
   "cell_type": "code",
   "execution_count": null,
   "id": "b944fd8f",
   "metadata": {},
   "outputs": [],
   "source": []
  },
  {
   "cell_type": "code",
   "execution_count": 15,
   "id": "4e91baf3",
   "metadata": {},
   "outputs": [
    {
     "data": {
      "text/html": [
       "<div>\n",
       "<style scoped>\n",
       "    .dataframe tbody tr th:only-of-type {\n",
       "        vertical-align: middle;\n",
       "    }\n",
       "\n",
       "    .dataframe tbody tr th {\n",
       "        vertical-align: top;\n",
       "    }\n",
       "\n",
       "    .dataframe thead th {\n",
       "        text-align: right;\n",
       "    }\n",
       "</style>\n",
       "<table border=\"1\" class=\"dataframe\">\n",
       "  <thead>\n",
       "    <tr style=\"text-align: right;\">\n",
       "      <th></th>\n",
       "      <th>variabel</th>\n",
       "      <th>bobot</th>\n",
       "    </tr>\n",
       "  </thead>\n",
       "  <tbody>\n",
       "    <tr>\n",
       "      <th>0</th>\n",
       "      <td>score_gibberish</td>\n",
       "      <td>17.27</td>\n",
       "    </tr>\n",
       "    <tr>\n",
       "      <th>1</th>\n",
       "      <td>score_sus_email</td>\n",
       "      <td>0.02</td>\n",
       "    </tr>\n",
       "    <tr>\n",
       "      <th>2</th>\n",
       "      <td>createdFromIp_count</td>\n",
       "      <td>2.32</td>\n",
       "    </tr>\n",
       "    <tr>\n",
       "      <th>3</th>\n",
       "      <td>phoneSub_count</td>\n",
       "      <td>2.26</td>\n",
       "    </tr>\n",
       "    <tr>\n",
       "      <th>4</th>\n",
       "      <td>intercept</td>\n",
       "      <td>-14.11</td>\n",
       "    </tr>\n",
       "  </tbody>\n",
       "</table>\n",
       "</div>"
      ],
      "text/plain": [
       "              variabel  bobot\n",
       "0      score_gibberish  17.27\n",
       "1      score_sus_email   0.02\n",
       "2  createdFromIp_count   2.32\n",
       "3       phoneSub_count   2.26\n",
       "4            intercept -14.11"
      ]
     },
     "execution_count": 15,
     "metadata": {},
     "output_type": "execute_result"
    }
   ],
   "source": [
    "## for concating feature and bobot\n",
    "pd.concat([pd.DataFrame(list(X), columns=['variabel']), \n",
    "           pd.DataFrame(pd.Series(clf.coef_[0]), columns=['bobot'])], 1)\\\n",
    ".append({'variabel':'intercept','bobot':clf.intercept_[0]},ignore_index=True)"
   ]
  },
  {
   "cell_type": "code",
   "execution_count": null,
   "id": "f580df1f",
   "metadata": {},
   "outputs": [],
   "source": []
  },
  {
   "cell_type": "code",
   "execution_count": null,
   "id": "6e7e7bba",
   "metadata": {},
   "outputs": [],
   "source": []
  },
  {
   "cell_type": "code",
   "execution_count": 16,
   "id": "8854ff64",
   "metadata": {},
   "outputs": [],
   "source": [
    "model_clf = load('./model/regis_logreg')"
   ]
  },
  {
   "cell_type": "code",
   "execution_count": null,
   "id": "87d9b906",
   "metadata": {},
   "outputs": [],
   "source": []
  },
  {
   "cell_type": "code",
   "execution_count": 27,
   "id": "3a1eefef",
   "metadata": {},
   "outputs": [
    {
     "data": {
      "text/plain": [
       "0.9591857420039462"
      ]
     },
     "execution_count": 27,
     "metadata": {},
     "output_type": "execute_result"
    }
   ],
   "source": [
    "\n",
    "\n",
    "X_test = pd.DataFrame()\n",
    "X_test['score_gibberish'] = [1]\n",
    "X_test['score_sus_email'] = [0]\n",
    "X_test['createdFromIp_count'] = [0]\n",
    "X_test['phoneSub_count'] = [0]\n",
    "\n",
    "score = model_clf.predict_proba(X_test)\n",
    "score[0][-1]"
   ]
  },
  {
   "cell_type": "code",
   "execution_count": null,
   "id": "fe39404a",
   "metadata": {},
   "outputs": [],
   "source": [
    "res_pred = pd.concat([\n",
    "    pd.DataFrame(clf.feature_names_in_, columns=['variabel']), \n",
    "    pd.DataFrame(clf.coef_[0], columns=['bobot']),\n",
    "    pd.DataFrame(X_test.values[0], columns=['feature'])      \n",
    "], 1)\n",
    "res_pred['b*f'] = res_pred['bobot'] * res_pred['feature']\n",
    "\n",
    "dict_score_parameter = {}\n",
    "for idx, row in res_pred.iterrows():\n",
    "    dict_score_parameter[row['variabel']] = row['b*f']\n",
    "dict_score_parameter"
   ]
  },
  {
   "cell_type": "code",
   "execution_count": null,
   "id": "8f331ad7",
   "metadata": {},
   "outputs": [],
   "source": []
  },
  {
   "cell_type": "code",
   "execution_count": null,
   "id": "521b9d40",
   "metadata": {},
   "outputs": [],
   "source": []
  },
  {
   "cell_type": "code",
   "execution_count": null,
   "id": "b733e78e",
   "metadata": {},
   "outputs": [],
   "source": []
  },
  {
   "cell_type": "code",
   "execution_count": 19,
   "id": "37dc21ff",
   "metadata": {},
   "outputs": [
    {
     "ename": "SyntaxError",
     "evalue": "invalid syntax (<ipython-input-19-26c55154700d>, line 4)",
     "output_type": "error",
     "traceback": [
      "\u001b[0;36m  File \u001b[0;32m\"<ipython-input-19-26c55154700d>\"\u001b[0;36m, line \u001b[0;32m4\u001b[0m\n\u001b[0;31m    score_parameter:[\u001b[0m\n\u001b[0m    ^\u001b[0m\n\u001b[0;31mSyntaxError\u001b[0m\u001b[0;31m:\u001b[0m invalid syntax\n"
     ]
    }
   ],
   "source": [
    "{\n",
    "    is_fraud:1,\n",
    "    score_final:x\n",
    "    score_parameter:[\n",
    "        \n",
    "    ],\n",
    "    reason:[\n",
    "        perparameter\n",
    "    ]\n",
    "}"
   ]
  },
  {
   "cell_type": "code",
   "execution_count": null,
   "id": "31ac51e5",
   "metadata": {},
   "outputs": [],
   "source": []
  },
  {
   "cell_type": "code",
   "execution_count": null,
   "id": "e979be1f",
   "metadata": {},
   "outputs": [],
   "source": []
  },
  {
   "cell_type": "code",
   "execution_count": null,
   "id": "93d8c8c6",
   "metadata": {},
   "outputs": [],
   "source": []
  }
 ],
 "metadata": {
  "kernelspec": {
   "display_name": "Python 3",
   "language": "python",
   "name": "python3"
  },
  "language_info": {
   "codemirror_mode": {
    "name": "ipython",
    "version": 3
   },
   "file_extension": ".py",
   "mimetype": "text/x-python",
   "name": "python",
   "nbconvert_exporter": "python",
   "pygments_lexer": "ipython3",
   "version": "3.8.5"
  }
 },
 "nbformat": 4,
 "nbformat_minor": 5
}
