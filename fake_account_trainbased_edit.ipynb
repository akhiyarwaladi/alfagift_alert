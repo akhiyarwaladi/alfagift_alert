{
 "cells": [
  {
   "cell_type": "code",
   "execution_count": 25,
   "id": "0b7ee866",
   "metadata": {},
   "outputs": [],
   "source": [
    "import warnings\n",
    "warnings.simplefilter(action='ignore', category=FutureWarning)\n",
    "\n",
    "import redis\n",
    "import json\n",
    "from pprint import pprint\n",
    "from joblib import dump, load\n",
    "\n",
    "import pymongo\n",
    "from datetime import datetime, timedelta, date\n",
    "import pandas as pd\n",
    "\n",
    "\n",
    "import numpy as np\n",
    "import pymongo\n",
    "import cx_Oracle\n",
    "import os\n",
    "import time\n",
    "import plotly.express as px\n",
    "\n",
    "from sklearn.tree import DecisionTreeClassifier\n",
    "from sklearn.tree import export_text\n",
    "from sklearn.linear_model import LogisticRegression\n",
    "\n",
    "\n",
    "pd.set_option('display.max_rows', None)\n",
    "pd.set_option('display.max_columns', None)\n",
    "pd.set_option('display.width', None)\n",
    "pd.set_option('display.max_colwidth', None)\n",
    "pd.set_option('display.float_format', lambda x: '%.2f' % x)\n",
    "pd.options.mode.chained_assignment = None  # default='warn'\n",
    "\n",
    "r = redis.Redis(host=\"127.0.0.1\", port=6379, db=0)"
   ]
  },
  {
   "cell_type": "code",
   "execution_count": null,
   "id": "32e8f55b",
   "metadata": {},
   "outputs": [],
   "source": []
  },
  {
   "cell_type": "code",
   "execution_count": 26,
   "id": "ede5e070",
   "metadata": {},
   "outputs": [
    {
     "data": {
      "text/plain": [
       "0"
      ]
     },
     "execution_count": 26,
     "metadata": {},
     "output_type": "execute_result"
    }
   ],
   "source": [
    "def encode(s):\n",
    "    \n",
    "    i = 0\n",
    "    t = ''\n",
    "    while i < len(s):\n",
    "        if s[i].isupper():\n",
    "            t += 'U'\n",
    "        elif s[i].islower():\n",
    "            t += 'L'\n",
    "        elif s[i].isdigit():\n",
    "            t += 'D'\n",
    "        else:\n",
    "            t += 'O'\n",
    "        i += 1\n",
    "        \n",
    "    return t\n",
    "\n",
    "def short_encode(s):\n",
    "    i = 0\n",
    "    s = encode(s)\n",
    "    curr = ''\n",
    "    t = ''\n",
    "    \n",
    "    while i < len(s):\n",
    "        if curr != s[i]:\n",
    "            t += s[i]\n",
    "            curr = s[i]\n",
    "        \n",
    "        i += 1\n",
    "    return t\n",
    "\n",
    "def score_sus_email(s):\n",
    "\n",
    "    email_input = s\n",
    "    email_input = email_input.split('@')[0]\n",
    "    \n",
    "    \n",
    "    \n",
    "    pat_count_digit = encode(email_input).count('D')\n",
    "    pat_encode = short_encode(email_input)\n",
    "    \n",
    "    if pat_encode == 'LD' and pat_count_digit >= 4:\n",
    "        return 1\n",
    "    elif pat_encode == 'D' and pat_count_digit >= 4:\n",
    "        return 1\n",
    "    return 0\n",
    "    \n",
    "score_sus_email('qywyeqeyqw123@gmail.com')"
   ]
  },
  {
   "cell_type": "code",
   "execution_count": null,
   "id": "36a35414",
   "metadata": {},
   "outputs": [],
   "source": []
  },
  {
   "cell_type": "code",
   "execution_count": null,
   "id": "4c5db4ab",
   "metadata": {},
   "outputs": [],
   "source": []
  },
  {
   "cell_type": "code",
   "execution_count": null,
   "id": "3789d4ed",
   "metadata": {},
   "outputs": [],
   "source": []
  },
  {
   "cell_type": "code",
   "execution_count": null,
   "id": "28f6e3ac",
   "metadata": {},
   "outputs": [],
   "source": []
  },
  {
   "cell_type": "code",
   "execution_count": null,
   "id": "420de21a",
   "metadata": {
    "scrolled": false
   },
   "outputs": [],
   "source": []
  },
  {
   "cell_type": "code",
   "execution_count": null,
   "id": "b6e004cc",
   "metadata": {},
   "outputs": [],
   "source": []
  },
  {
   "cell_type": "code",
   "execution_count": null,
   "id": "8fa3f3ed",
   "metadata": {},
   "outputs": [],
   "source": []
  },
  {
   "cell_type": "code",
   "execution_count": 27,
   "id": "48b425e4",
   "metadata": {},
   "outputs": [
    {
     "data": {
      "text/plain": [
       "0"
      ]
     },
     "execution_count": 27,
     "metadata": {},
     "output_type": "execute_result"
    }
   ],
   "source": [
    "from gibberish_detector import detector\n",
    "\n",
    "path_detector_indo = '/home/server/gli-data-science/akhiyar/alfagift_alert/gibberish-detector/indo_news.model'\n",
    "path_detector_gen = '/home/server/gli-data-science/akhiyar/alfagift_alert/gibberish-detector/big.model'\n",
    "Detector = detector.create_from_model(\n",
    "    path_detector_indo\n",
    ")\n",
    "from nostril import nonsense\n",
    "\n",
    "\n",
    "def score_gibberish(input_email):\n",
    "    split_email = input_email.split('@')[0]\n",
    "    #print(split_email)\n",
    "\n",
    "    flag_gibberish1 = False\n",
    "    \n",
    "    try:\n",
    "        if Detector.is_gibberish(split_email):\n",
    "            flag_gibberish1 = True\n",
    "    except Exception as e:\n",
    "        pass\n",
    "    \n",
    "    flag_gibberish2 = False\n",
    "    \n",
    "    try:\n",
    "        if nonsense(split_email):\n",
    "            flag_gibberish2 = True\n",
    "    except Exception as e:\n",
    "        pass\n",
    "\n",
    "\n",
    "    if flag_gibberish1 and flag_gibberish2:\n",
    "        return 1\n",
    "    else:\n",
    "        return 0\n",
    "\n",
    "email = 'puji01236@gmail.com'\n",
    "score_gibberish(email)"
   ]
  },
  {
   "cell_type": "code",
   "execution_count": null,
   "id": "adc7596c",
   "metadata": {},
   "outputs": [],
   "source": []
  },
  {
   "cell_type": "code",
   "execution_count": null,
   "id": "7a5a73f9",
   "metadata": {},
   "outputs": [],
   "source": []
  },
  {
   "cell_type": "code",
   "execution_count": null,
   "id": "25607194",
   "metadata": {},
   "outputs": [],
   "source": []
  },
  {
   "cell_type": "code",
   "execution_count": 4,
   "id": "0dcc2e9b",
   "metadata": {},
   "outputs": [],
   "source": [
    "alfagift_member = pd.read_json('/home/server/mongo_export/alfagift_member.json')\n",
    "alfagift_member['sapa'] = alfagift_member['sapa'].fillna('-')\n",
    "alfagift_member['sapa'] = alfagift_member['sapa'].apply(lambda x: x.get('store_code') \\\n",
    "                                                        if x != '-' else '-')\n",
    "alfagift_member['sapa'] = alfagift_member['sapa'].apply(lambda x: '-' \\\n",
    "                                                        if x == '' else x)\n",
    "\n",
    "alfagift_member['created_at'] = alfagift_member['created_at'].fillna('2019-01-01T23:08:53.393Z')\n",
    "alfagift_member['created_at'] = alfagift_member['created_at'].apply(lambda x: x.get('$date') \\\n",
    "                                                                    if type(x) != str else x)\n",
    "\n",
    "# alfagift_member = alfagift_member[['account_card', 'sapa', 'created_at']]\n",
    "alfagift_member['sapa'] = alfagift_member['sapa'].apply(lambda x: 'sapa' if x != '-' else 'not_sapa')\n",
    "\n",
    "alfagift_member['created_at_d'] = pd.to_datetime(alfagift_member['created_at']).dt.strftime(\"%Y-%m-%d\")\n",
    "alfagift_member['created_at_m'] = pd.to_datetime(alfagift_member['created_at']).dt.strftime(\"%Y-%m\")\n",
    "\n",
    "alfagift_member['account_card'] = alfagift_member['account_card'].astype('str')"
   ]
  },
  {
   "cell_type": "code",
   "execution_count": 5,
   "id": "3a4dcf39",
   "metadata": {},
   "outputs": [],
   "source": [
    "alfagift_member_sel = alfagift_member[(alfagift_member['created_at_m'] == '2022-01') |\n",
    "                                      (alfagift_member['created_at_m'] == '2022-02') |\n",
    "                                      (alfagift_member['created_at_m'] == '2022-03') |\n",
    "                                      (alfagift_member['created_at_m'] == '2022-04') ]\n",
    "alfagift_member_sel['created_at_d'] = pd.to_datetime(alfagift_member_sel['created_at']).dt.strftime(\"%Y-%m-%d\")"
   ]
  },
  {
   "cell_type": "code",
   "execution_count": null,
   "id": "06be0562",
   "metadata": {},
   "outputs": [],
   "source": []
  },
  {
   "cell_type": "code",
   "execution_count": 9,
   "id": "1df4a2ff",
   "metadata": {},
   "outputs": [],
   "source": [
    "## creating label for training set\n",
    "\n",
    "\n",
    "\n",
    "\n",
    "li_sus = []\n",
    "for dr in pd.date_range('2022-01-01', '2022-04-06', freq='D'):\n",
    "    sel_created = dr.strftime(\"%Y-%m-%d\")\n",
    "\n",
    "    alfagift_member_sel_d = alfagift_member_sel[alfagift_member_sel['created_at_d'] == sel_created]\n",
    "    #print(alfagift_member_sel_d.shape)\n",
    "\n",
    "\n",
    "    ## suspect by IP\n",
    "    alfagift_member_sel_d_ip = alfagift_member_sel_d.groupby(['createdFromIp'])\\\n",
    "                            .agg(createdFromIp_count=('createdFromIp','count'))\n",
    "    alfagift_member_sel_d_ip = alfagift_member_sel_d_ip[\n",
    "        alfagift_member_sel_d_ip['createdFromIp_count'] >= 5].reset_index()\n",
    "\n",
    "    sus_by_ip = pd.merge(alfagift_member_sel_d_ip, alfagift_member_sel_d, on='createdFromIp', how='left')\n",
    "\n",
    "    ## suspect by phone\n",
    "    alfagift_member_sel_d['phone_sub'] =  alfagift_member_sel_d['phone'].str[0:9]\n",
    "    alfagift_member_sel_d_phone = alfagift_member_sel_d.groupby(['phone_sub'])\\\n",
    "                                .agg(createdFromIp_count=('phone_sub','count'))\n",
    "    alfagift_member_sel_d_phone = alfagift_member_sel_d_phone[\n",
    "        alfagift_member_sel_d_phone['createdFromIp_count'] >= 5].reset_index()\n",
    "\n",
    "    sus_by_phone = pd.merge(alfagift_member_sel_d_phone, alfagift_member_sel_d, on='phone_sub', how='left')\n",
    "    \n",
    "    ## saving by concating suspect aspect\n",
    "    sus_all = pd.concat([\n",
    "        sus_by_ip[['account_card','email','phone']], \n",
    "        sus_by_phone[['account_card','email','phone']],\n",
    "        alfagift_member_sel_d[alfagift_member_sel_d['member_status'] == 27][['account_card','email']]\n",
    "    ], axis=0)\\\n",
    "        .drop_duplicates()\n",
    "    \n",
    "    sus_all = sus_all[~sus_all['email'].str.contains('deliverysapa', case=False)]\n",
    "    sus_all = sus_all[['account_card','phone','email']]\n",
    "    \n",
    "    li_sus.append(sus_all)\n",
    "    sus_all.to_csv(\n",
    "    '/home/server/gli-data-science/akhiyar/alfagift_alert/suspect_fraud/sus_{}'.format(sel_created))\n",
    "\n",
    "    break\n",
    "\n",
    "# df_sus_all = pd.concat(li_sus).drop_duplicates()\n",
    "# df_sus_all.to_csv(\n",
    "#     '/home/server/gli-data-science/akhiyar/alfagift_alert/suspect_fraud/sus_all.csv', index=False)"
   ]
  },
  {
   "cell_type": "code",
   "execution_count": null,
   "id": "e225394b",
   "metadata": {
    "scrolled": false
   },
   "outputs": [],
   "source": []
  },
  {
   "cell_type": "code",
   "execution_count": null,
   "id": "7cbc4958",
   "metadata": {},
   "outputs": [],
   "source": []
  },
  {
   "cell_type": "code",
   "execution_count": null,
   "id": "384838a0",
   "metadata": {},
   "outputs": [],
   "source": []
  },
  {
   "cell_type": "code",
   "execution_count": 22,
   "id": "860bd539",
   "metadata": {},
   "outputs": [],
   "source": [
    "# from gibberish_detector import detector\n",
    "\n",
    "# split_email = 'bwkpsm'\n",
    "# Detector = detector.create_from_model(\n",
    "#     '/home/server/gli-data-science/akhiyar/alfagift_alert/gibberish-detector/indo_news.model')\n",
    "# print(Detector.calculate_probability_of_being_gibberish(split_email))\n",
    "# print(Detector.is_gibberish(split_email))"
   ]
  },
  {
   "cell_type": "code",
   "execution_count": null,
   "id": "9f81c2a4",
   "metadata": {},
   "outputs": [],
   "source": []
  },
  {
   "cell_type": "code",
   "execution_count": null,
   "id": "92316551",
   "metadata": {},
   "outputs": [],
   "source": []
  },
  {
   "cell_type": "code",
   "execution_count": null,
   "id": "0df93e77",
   "metadata": {},
   "outputs": [],
   "source": []
  },
  {
   "cell_type": "code",
   "execution_count": null,
   "id": "93fc787e",
   "metadata": {},
   "outputs": [
    {
     "name": "stdout",
     "output_type": "stream",
     "text": [
      "2022-01-01 (8467, 14)\n",
      "2022-01-02 (9583, 14)\n",
      "2022-01-03 (11755, 14)\n",
      "2022-01-04 (16174, 14)\n",
      "2022-01-05 (14622, 14)\n",
      "2022-01-06 (22992, 14)\n",
      "2022-01-07 (14545, 14)\n",
      "2022-01-08 (15639, 14)\n",
      "2022-01-09 (15605, 14)\n",
      "2022-01-10 (15749, 14)\n",
      "2022-01-11 (20511, 14)\n",
      "2022-01-12 (20162, 14)\n",
      "2022-01-13 (20737, 14)\n",
      "2022-01-14 (23634, 14)\n",
      "2022-01-15 (24630, 14)\n",
      "2022-01-16 (24138, 14)\n",
      "2022-01-17 (24450, 14)\n",
      "2022-01-18 (19670, 14)\n",
      "2022-01-19 (47065, 14)\n",
      "2022-01-20 (43596, 14)\n",
      "2022-01-21 (37803, 14)\n",
      "2022-01-22 (35822, 14)\n",
      "2022-01-23 (36113, 14)\n",
      "2022-01-24 (36523, 14)\n",
      "2022-01-25 (38993, 14)\n",
      "2022-01-26 (40381, 14)\n",
      "2022-01-27 (42875, 14)\n",
      "2022-01-28 (49247, 14)\n",
      "2022-01-29 (28553, 14)\n",
      "2022-01-30 (22372, 14)\n",
      "2022-01-31 (19442, 14)\n"
     ]
    }
   ],
   "source": [
    "## creating feature for training set\n",
    "\n",
    "\n",
    "\n",
    "\n",
    "li_sus = []\n",
    "for dr in pd.date_range('2022-01-01', '2022-04-06', freq='D'):\n",
    "    sel_created = dr.strftime(\"%Y-%m-%d\")\n",
    "\n",
    "    alfagift_member_sel_d = alfagift_member_sel[alfagift_member_sel['created_at_d'] == sel_created]\n",
    "    print(\"{} {}\".format(sel_created, alfagift_member_sel_d.shape))\n",
    "\n",
    "\n",
    "    ## suspect by IP\n",
    "    alfagift_member_sel_d_ip = alfagift_member_sel_d.groupby(['createdFromIp'])\\\n",
    "                            .agg(createdFromIp_count=('createdFromIp','count'))\n",
    "    alfagift_member_sel_d_ip = alfagift_member_sel_d_ip[\n",
    "        alfagift_member_sel_d_ip['createdFromIp_count'] >= 5].reset_index()\n",
    "\n",
    "    alfagift_member_sel_d = pd.merge(alfagift_member_sel_d, \n",
    "                                     alfagift_member_sel_d_ip,\n",
    "                                     on='createdFromIp', how='left').fillna(0)\n",
    "\n",
    "    ## suspect by phone\n",
    "    alfagift_member_sel_d['phone_sub'] =  alfagift_member_sel_d['phone'].str[0:9]\n",
    "    alfagift_member_sel_d_phone = alfagift_member_sel_d.groupby(['phone_sub'])\\\n",
    "                                .agg(phoneSub_count=('phone_sub','count'))\n",
    "    alfagift_member_sel_d_phone = alfagift_member_sel_d_phone[\n",
    "        alfagift_member_sel_d_phone['phoneSub_count'] >= 5].reset_index()\n",
    "\n",
    "    \n",
    "    \n",
    "    alfagift_member_sel_d = pd.merge(alfagift_member_sel_d, \n",
    "                                     alfagift_member_sel_d_phone,\n",
    "                                     on='phone_sub', how='left').fillna(0)\n",
    "    \n",
    "    \n",
    "    alfagift_member_sel_d['score_gibberish'] = alfagift_member_sel_d['email'].apply(score_gibberish)\n",
    "    alfagift_member_sel_d['score_sus_email'] = alfagift_member_sel_d['email'].apply(score_sus_email)\n",
    "    \n",
    "\n",
    "    li_sus.append(alfagift_member_sel_d)\n",
    "#     alfagift_member_sel_d.to_csv(\n",
    "#     '/home/server/gli-data-science/akhiyar/alfagift_alert/suspect_fraud/sus_{}'.format(sel_created))\n",
    "\n",
    "    #break\n",
    "\n",
    "df_sus_all = pd.concat(li_sus)\n",
    "df_sus_all.to_csv(\n",
    "    '/home/server/gli-data-science/akhiyar/alfagift_alert/suspect_fraud_feature/group_day/train_full.csv'\n",
    "    , index=False)"
   ]
  },
  {
   "cell_type": "code",
   "execution_count": null,
   "id": "be45e75c",
   "metadata": {},
   "outputs": [],
   "source": []
  },
  {
   "cell_type": "code",
   "execution_count": null,
   "id": "36a4fa16",
   "metadata": {},
   "outputs": [],
   "source": [
    "df_sus_all = pd.read_csv('/home/server/gli-data-science/akhiyar/alfagift_alert/suspect_fraud_feature/group_day/train_full.csv', dtype='object')"
   ]
  },
  {
   "cell_type": "code",
   "execution_count": null,
   "id": "b46c2fe4",
   "metadata": {},
   "outputs": [],
   "source": [
    "df_label = pd.read_csv('./suspect_fraud/sus_all.csv', dtype='object')\n",
    "df_label['label'] = 1"
   ]
  },
  {
   "cell_type": "code",
   "execution_count": null,
   "id": "79cd3eff",
   "metadata": {},
   "outputs": [],
   "source": []
  },
  {
   "cell_type": "code",
   "execution_count": null,
   "id": "9b92e9b8",
   "metadata": {},
   "outputs": [],
   "source": [
    "df_train = pd.merge(df_sus_all, df_label, on='account_card', how='left')\n",
    "df_train['label'] = df_train['label'].fillna(0)"
   ]
  },
  {
   "cell_type": "code",
   "execution_count": null,
   "id": "59b73363",
   "metadata": {},
   "outputs": [],
   "source": []
  },
  {
   "cell_type": "code",
   "execution_count": null,
   "id": "a4ff213c",
   "metadata": {},
   "outputs": [],
   "source": [
    "df_train.head()"
   ]
  },
  {
   "cell_type": "code",
   "execution_count": null,
   "id": "fc83b2e1",
   "metadata": {},
   "outputs": [],
   "source": [
    "wrap_col = [\n",
    "'score_gibberish',\n",
    "'score_sus_email',\n",
    "'createdFromIp_count',\n",
    "'phoneSub_count',\n",
    "\n",
    "]\n",
    "X = df_train[wrap_col]\n",
    "y = df_train['label']"
   ]
  },
  {
   "cell_type": "code",
   "execution_count": null,
   "id": "d72a71c7",
   "metadata": {},
   "outputs": [],
   "source": []
  },
  {
   "cell_type": "code",
   "execution_count": null,
   "id": "270478ef",
   "metadata": {},
   "outputs": [],
   "source": [
    "\n",
    "regressor = DecisionTreeClassifier(random_state=0, max_depth=4)\n",
    "regressor.fit(X,y)\n",
    "\n",
    "\n",
    "dump(regressor, './model/regis_dtree')\n",
    "r = export_text(regressor, feature_names=list(X), decimals=0, spacing=6)\n",
    "print(\"prediction rule \\n\\n{}\".format(r))"
   ]
  },
  {
   "cell_type": "code",
   "execution_count": null,
   "id": "0e847224",
   "metadata": {},
   "outputs": [],
   "source": [
    "clf = LogisticRegression(random_state=0)\n",
    "clf.fit(X, y)"
   ]
  },
  {
   "cell_type": "code",
   "execution_count": null,
   "id": "64dc6850",
   "metadata": {},
   "outputs": [],
   "source": [
    "dump(clf, './model/regis_logreg')"
   ]
  },
  {
   "cell_type": "code",
   "execution_count": null,
   "id": "c5cb26b7",
   "metadata": {},
   "outputs": [],
   "source": []
  },
  {
   "cell_type": "code",
   "execution_count": null,
   "id": "35ea998a",
   "metadata": {},
   "outputs": [],
   "source": [
    "pd.concat([pd.DataFrame(list(X), columns=['variabel']), \n",
    "           pd.DataFrame(pd.Series(clf.coef_[0]), columns=['bobot'])], 1)\\\n",
    ".append({'variabel':'intercept','bobot':clf.intercept_[0]},ignore_index=True)"
   ]
  },
  {
   "cell_type": "code",
   "execution_count": null,
   "id": "2a8ffc7f",
   "metadata": {},
   "outputs": [],
   "source": []
  },
  {
   "cell_type": "code",
   "execution_count": null,
   "id": "5c3cba96",
   "metadata": {},
   "outputs": [],
   "source": []
  },
  {
   "cell_type": "code",
   "execution_count": null,
   "id": "a5d7a903",
   "metadata": {},
   "outputs": [],
   "source": []
  },
  {
   "cell_type": "code",
   "execution_count": null,
   "id": "a78ce6a9",
   "metadata": {},
   "outputs": [],
   "source": []
  }
 ],
 "metadata": {
  "kernelspec": {
   "display_name": "Python 3",
   "language": "python",
   "name": "python3"
  },
  "language_info": {
   "codemirror_mode": {
    "name": "ipython",
    "version": 3
   },
   "file_extension": ".py",
   "mimetype": "text/x-python",
   "name": "python",
   "nbconvert_exporter": "python",
   "pygments_lexer": "ipython3",
   "version": "3.8.5"
  }
 },
 "nbformat": 4,
 "nbformat_minor": 5
}
