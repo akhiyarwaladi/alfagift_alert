{
 "cells": [
  {
   "cell_type": "code",
   "execution_count": 25,
   "metadata": {},
   "outputs": [],
   "source": [
    "import pandas as pd\n",
    "import numpy as np\n",
    "import psycopg2\n",
    "from datetime import datetime, timedelta\n",
    "\n",
    "def connect_prd_order():\n",
    "    try:\n",
    "        connection = psycopg2.connect(\n",
    "            host=\"35.187.250.81\",\n",
    "            database=\"prd_order\",\n",
    "            user=\"akhiyar_waladi\",\n",
    "            password=\"nd4n6fk9\")\n",
    "\n",
    "\n",
    "        print(\"You are connected\")\n",
    "\n",
    "    except (Exception, psycopg2.Error) as error :\n",
    "        print(\"Error while connecting to PostgreSQL\", error)\n",
    "        \n",
    "    return connection"
   ]
  },
  {
   "cell_type": "code",
   "execution_count": 26,
   "metadata": {},
   "outputs": [
    {
     "name": "stdout",
     "output_type": "stream",
     "text": [
      "You are connected\n"
     ]
    }
   ],
   "source": [
    "main = \"\"\"\n",
    "    select \n",
    "        tbto_voucher_code, tbto_ponta_id, tbto_no, tbto_voucher_usage, tbto_create_date\n",
    "    from \n",
    "        tb_transaction_order tto \n",
    "    where \n",
    "        tbto_create_date between '{}' and '{}'\n",
    "        and tbto_status not in ('18','10','11')\n",
    "        and tbto_voucher_code not in ('')\n",
    "\"\"\".format('2021-01-01', '2021-06-17')\n",
    "cpo = connect_prd_order()\n",
    "df_window = pd.read_sql_query(main,cpo)"
   ]
  },
  {
   "cell_type": "code",
   "execution_count": 18,
   "metadata": {},
   "outputs": [],
   "source": [
    "df_window_g1 = df_window.groupby('tbto_voucher_code')\\\n",
    "                .agg({'tbto_no':'count', 'tbto_voucher_usage':'sum', 'tbto_voucher_usage':'sum'})\\\n",
    "                .reset_index()"
   ]
  },
  {
   "cell_type": "code",
   "execution_count": 19,
   "metadata": {},
   "outputs": [],
   "source": [
    "df_window_g2 = df_window.groupby('tbto_voucher_code')\\\n",
    "                .agg({'tbto_no':'count', 'tbto_voucher_usage':'sum', 'tbto_voucher_usage':'min'})\\\n",
    "                .reset_index()"
   ]
  },
  {
   "cell_type": "markdown",
   "metadata": {},
   "source": [
    "### sum usage voucher count > 1"
   ]
  },
  {
   "cell_type": "code",
   "execution_count": 22,
   "metadata": {},
   "outputs": [
    {
     "data": {
      "text/html": [
       "<div>\n",
       "<style scoped>\n",
       "    .dataframe tbody tr th:only-of-type {\n",
       "        vertical-align: middle;\n",
       "    }\n",
       "\n",
       "    .dataframe tbody tr th {\n",
       "        vertical-align: top;\n",
       "    }\n",
       "\n",
       "    .dataframe thead th {\n",
       "        text-align: right;\n",
       "    }\n",
       "</style>\n",
       "<table border=\"1\" class=\"dataframe\">\n",
       "  <thead>\n",
       "    <tr style=\"text-align: right;\">\n",
       "      <th></th>\n",
       "      <th>tbto_voucher_code</th>\n",
       "      <th>tbto_no</th>\n",
       "      <th>tbto_voucher_usage</th>\n",
       "    </tr>\n",
       "  </thead>\n",
       "  <tbody>\n",
       "    <tr>\n",
       "      <th>47</th>\n",
       "      <td>B0000154DLIX</td>\n",
       "      <td>2</td>\n",
       "      <td>28000.0</td>\n",
       "    </tr>\n",
       "    <tr>\n",
       "      <th>67</th>\n",
       "      <td>B0000B6CCOE4</td>\n",
       "      <td>2</td>\n",
       "      <td>6000.0</td>\n",
       "    </tr>\n",
       "    <tr>\n",
       "      <th>367</th>\n",
       "      <td>B00098740W5Y</td>\n",
       "      <td>2</td>\n",
       "      <td>2000.0</td>\n",
       "    </tr>\n",
       "    <tr>\n",
       "      <th>457</th>\n",
       "      <td>B000C6BE6A86</td>\n",
       "      <td>2</td>\n",
       "      <td>1000.0</td>\n",
       "    </tr>\n",
       "    <tr>\n",
       "      <th>830</th>\n",
       "      <td>B0017A833X3S</td>\n",
       "      <td>2</td>\n",
       "      <td>16000.0</td>\n",
       "    </tr>\n",
       "    <tr>\n",
       "      <th>...</th>\n",
       "      <td>...</td>\n",
       "      <td>...</td>\n",
       "      <td>...</td>\n",
       "    </tr>\n",
       "    <tr>\n",
       "      <th>359527</th>\n",
       "      <td>BFFBB2D4A2HC</td>\n",
       "      <td>2</td>\n",
       "      <td>2000.0</td>\n",
       "    </tr>\n",
       "    <tr>\n",
       "      <th>360358</th>\n",
       "      <td>BFFCC618E17D</td>\n",
       "      <td>2</td>\n",
       "      <td>1000.0</td>\n",
       "    </tr>\n",
       "    <tr>\n",
       "      <th>361485</th>\n",
       "      <td>BFFE3BC67QBM</td>\n",
       "      <td>2</td>\n",
       "      <td>26000.0</td>\n",
       "    </tr>\n",
       "    <tr>\n",
       "      <th>362009</th>\n",
       "      <td>BFFEF006DMI7</td>\n",
       "      <td>2</td>\n",
       "      <td>22000.0</td>\n",
       "    </tr>\n",
       "    <tr>\n",
       "      <th>362315</th>\n",
       "      <td>BFFF56C615MD</td>\n",
       "      <td>2</td>\n",
       "      <td>26900.0</td>\n",
       "    </tr>\n",
       "  </tbody>\n",
       "</table>\n",
       "<p>2789 rows × 3 columns</p>\n",
       "</div>"
      ],
      "text/plain": [
       "       tbto_voucher_code  tbto_no  tbto_voucher_usage\n",
       "47          B0000154DLIX        2             28000.0\n",
       "67          B0000B6CCOE4        2              6000.0\n",
       "367         B00098740W5Y        2              2000.0\n",
       "457         B000C6BE6A86        2              1000.0\n",
       "830         B0017A833X3S        2             16000.0\n",
       "...                  ...      ...                 ...\n",
       "359527      BFFBB2D4A2HC        2              2000.0\n",
       "360358      BFFCC618E17D        2              1000.0\n",
       "361485      BFFE3BC67QBM        2             26000.0\n",
       "362009      BFFEF006DMI7        2             22000.0\n",
       "362315      BFFF56C615MD        2             26900.0\n",
       "\n",
       "[2789 rows x 3 columns]"
      ]
     },
     "execution_count": 22,
     "metadata": {},
     "output_type": "execute_result"
    }
   ],
   "source": [
    "df_window_g1[df_window_g1['tbto_no'] > 1]"
   ]
  },
  {
   "cell_type": "markdown",
   "metadata": {},
   "source": [
    "### nilai satuan voucher > 1"
   ]
  },
  {
   "cell_type": "code",
   "execution_count": 23,
   "metadata": {},
   "outputs": [
    {
     "data": {
      "text/html": [
       "<div>\n",
       "<style scoped>\n",
       "    .dataframe tbody tr th:only-of-type {\n",
       "        vertical-align: middle;\n",
       "    }\n",
       "\n",
       "    .dataframe tbody tr th {\n",
       "        vertical-align: top;\n",
       "    }\n",
       "\n",
       "    .dataframe thead th {\n",
       "        text-align: right;\n",
       "    }\n",
       "</style>\n",
       "<table border=\"1\" class=\"dataframe\">\n",
       "  <thead>\n",
       "    <tr style=\"text-align: right;\">\n",
       "      <th></th>\n",
       "      <th>tbto_voucher_code</th>\n",
       "      <th>tbto_no</th>\n",
       "      <th>tbto_voucher_usage</th>\n",
       "    </tr>\n",
       "  </thead>\n",
       "  <tbody>\n",
       "    <tr>\n",
       "      <th>47</th>\n",
       "      <td>B0000154DLIX</td>\n",
       "      <td>2</td>\n",
       "      <td>14000.0</td>\n",
       "    </tr>\n",
       "    <tr>\n",
       "      <th>67</th>\n",
       "      <td>B0000B6CCOE4</td>\n",
       "      <td>2</td>\n",
       "      <td>3000.0</td>\n",
       "    </tr>\n",
       "    <tr>\n",
       "      <th>367</th>\n",
       "      <td>B00098740W5Y</td>\n",
       "      <td>2</td>\n",
       "      <td>1000.0</td>\n",
       "    </tr>\n",
       "    <tr>\n",
       "      <th>457</th>\n",
       "      <td>B000C6BE6A86</td>\n",
       "      <td>2</td>\n",
       "      <td>500.0</td>\n",
       "    </tr>\n",
       "    <tr>\n",
       "      <th>830</th>\n",
       "      <td>B0017A833X3S</td>\n",
       "      <td>2</td>\n",
       "      <td>8000.0</td>\n",
       "    </tr>\n",
       "    <tr>\n",
       "      <th>...</th>\n",
       "      <td>...</td>\n",
       "      <td>...</td>\n",
       "      <td>...</td>\n",
       "    </tr>\n",
       "    <tr>\n",
       "      <th>359527</th>\n",
       "      <td>BFFBB2D4A2HC</td>\n",
       "      <td>2</td>\n",
       "      <td>1000.0</td>\n",
       "    </tr>\n",
       "    <tr>\n",
       "      <th>360358</th>\n",
       "      <td>BFFCC618E17D</td>\n",
       "      <td>2</td>\n",
       "      <td>500.0</td>\n",
       "    </tr>\n",
       "    <tr>\n",
       "      <th>361485</th>\n",
       "      <td>BFFE3BC67QBM</td>\n",
       "      <td>2</td>\n",
       "      <td>13000.0</td>\n",
       "    </tr>\n",
       "    <tr>\n",
       "      <th>362009</th>\n",
       "      <td>BFFEF006DMI7</td>\n",
       "      <td>2</td>\n",
       "      <td>11000.0</td>\n",
       "    </tr>\n",
       "    <tr>\n",
       "      <th>362315</th>\n",
       "      <td>BFFF56C615MD</td>\n",
       "      <td>2</td>\n",
       "      <td>12900.0</td>\n",
       "    </tr>\n",
       "  </tbody>\n",
       "</table>\n",
       "<p>2789 rows × 3 columns</p>\n",
       "</div>"
      ],
      "text/plain": [
       "       tbto_voucher_code  tbto_no  tbto_voucher_usage\n",
       "47          B0000154DLIX        2             14000.0\n",
       "67          B0000B6CCOE4        2              3000.0\n",
       "367         B00098740W5Y        2              1000.0\n",
       "457         B000C6BE6A86        2               500.0\n",
       "830         B0017A833X3S        2              8000.0\n",
       "...                  ...      ...                 ...\n",
       "359527      BFFBB2D4A2HC        2              1000.0\n",
       "360358      BFFCC618E17D        2               500.0\n",
       "361485      BFFE3BC67QBM        2             13000.0\n",
       "362009      BFFEF006DMI7        2             11000.0\n",
       "362315      BFFF56C615MD        2             12900.0\n",
       "\n",
       "[2789 rows x 3 columns]"
      ]
     },
     "execution_count": 23,
     "metadata": {},
     "output_type": "execute_result"
    }
   ],
   "source": [
    "df_window_g2[df_window_g2['tbto_no'] > 1]"
   ]
  },
  {
   "cell_type": "markdown",
   "metadata": {},
   "source": [
    "### hitung loss dari sum usage semua voucher count > 1 - nilai satuan usage voucher count > 1"
   ]
  },
  {
   "cell_type": "code",
   "execution_count": 24,
   "metadata": {},
   "outputs": [
    {
     "data": {
      "text/html": [
       "<div>\n",
       "<style scoped>\n",
       "    .dataframe tbody tr th:only-of-type {\n",
       "        vertical-align: middle;\n",
       "    }\n",
       "\n",
       "    .dataframe tbody tr th {\n",
       "        vertical-align: top;\n",
       "    }\n",
       "\n",
       "    .dataframe thead th {\n",
       "        text-align: right;\n",
       "    }\n",
       "</style>\n",
       "<table border=\"1\" class=\"dataframe\">\n",
       "  <thead>\n",
       "    <tr style=\"text-align: right;\">\n",
       "      <th></th>\n",
       "      <th>loss_voucher</th>\n",
       "    </tr>\n",
       "  </thead>\n",
       "  <tbody>\n",
       "    <tr>\n",
       "      <th>0</th>\n",
       "      <td>10,415,100</td>\n",
       "    </tr>\n",
       "  </tbody>\n",
       "</table>\n",
       "</div>"
      ],
      "text/plain": [
       "  loss_voucher\n",
       "0   10,415,100"
      ]
     },
     "execution_count": 24,
     "metadata": {},
     "output_type": "execute_result"
    }
   ],
   "source": [
    "loss_series = pd.Series(\\\n",
    "(df_window_g1[df_window_g1['tbto_no'] > 1]['tbto_voucher_usage'].sum()) - \\\n",
    "(df_window_g2[df_window_g2['tbto_no'] > 1]['tbto_voucher_usage'].sum()))\\\n",
    "        .astype(int).apply(lambda x : \"{:,d}\".format(x))\n",
    "\n",
    "pd.DataFrame({'loss_voucher':loss_series})"
   ]
  },
  {
   "cell_type": "code",
   "execution_count": null,
   "metadata": {},
   "outputs": [],
   "source": []
  },
  {
   "cell_type": "code",
   "execution_count": null,
   "metadata": {},
   "outputs": [],
   "source": []
  }
 ],
 "metadata": {
  "kernelspec": {
   "display_name": "Python 3",
   "language": "python",
   "name": "python3"
  },
  "language_info": {
   "codemirror_mode": {
    "name": "ipython",
    "version": 3
   },
   "file_extension": ".py",
   "mimetype": "text/x-python",
   "name": "python",
   "nbconvert_exporter": "python",
   "pygments_lexer": "ipython3",
   "version": "3.8.5"
  }
 },
 "nbformat": 4,
 "nbformat_minor": 4
}
